{
 "cells": [
  {
   "cell_type": "markdown",
   "id": "d7e2ddc9",
   "metadata": {},
   "source": [
    "#luke.py"
   ]
  },
  {
   "cell_type": "code",
   "execution_count": 12,
   "id": "00124b77",
   "metadata": {},
   "outputs": [],
   "source": [
    "def relationship(result):\n",
    "    result = {'Darth Vader': 'father', 'Leia': 'sister', 'Han': 'brother in law', 'R2D2': 'droid',\n",
    "            'Rey': 'Pandawn', 'Totooine': 'homeworld'}\n",
    "    \n",
    "    if result == \"Darth Vader\":\n",
    "        print (\"Luke, i am your father\")\n",
    "        \n",
    "    elif result == \"Leia\":\n",
    "        print(\"Luke, i am your sister\")\n",
    "        \n",
    "    \n",
    "    elif result == \"Han\":\n",
    "        print(\"Luke, i am your brother in law\")\n",
    "        \n",
    "    \n",
    "    elif result == \"Leia\":\n",
    "        \n",
    "        \n",
    "        \n",
    "        print(\"Luke, i am your sister\")\n",
    "        \n",
    "    \n",
    "    elif result == \"R2D2\":\n",
    "        print(\"Luke, i am your droid\")\n",
    "        \n",
    "    \n",
    "    elif result == \"Rey\":\n",
    "        print(\"Luke, i am Pandawn\")\n",
    "        \n",
    "    \n",
    "    elif result == \"Totooine\":\n",
    "        print(\"Luke, i am Your homeworld\")\n",
    "        \n",
    "    \n"
   ]
  },
  {
   "cell_type": "code",
   "execution_count": 13,
   "id": "6a914df0",
   "metadata": {},
   "outputs": [],
   "source": [
    "\n",
    "relationship(\"R2D2\")"
   ]
  },
  {
   "cell_type": "code",
   "execution_count": 4,
   "id": "85d1026c",
   "metadata": {},
   "outputs": [
    {
     "ename": "IndentationError",
     "evalue": "unexpected indent (<ipython-input-4-5f594ea87257>, line 3)",
     "output_type": "error",
     "traceback": [
      "\u001b[1;36m  File \u001b[1;32m\"<ipython-input-4-5f594ea87257>\"\u001b[1;36m, line \u001b[1;32m3\u001b[0m\n\u001b[1;33m    for in my_string:\u001b[0m\n\u001b[1;37m    ^\u001b[0m\n\u001b[1;31mIndentationError\u001b[0m\u001b[1;31m:\u001b[0m unexpected indent\n"
     ]
    }
   ],
   "source": [
    "my_string = \"HeLlo WoRLd\"\n",
    "c = 0\n",
    "    for in my_string:\n",
    "        if i.isupper():\n",
    "            c += 1\n",
    "print(\"Number of cap. letters: \", c)\n",
    "        "
   ]
  },
  {
   "cell_type": "code",
   "execution_count": null,
   "id": "f007ee50",
   "metadata": {},
   "outputs": [],
   "source": []
  }
 ],
 "metadata": {
  "kernelspec": {
   "display_name": "Python 3",
   "language": "python",
   "name": "python3"
  },
  "language_info": {
   "codemirror_mode": {
    "name": "ipython",
    "version": 3
   },
   "file_extension": ".py",
   "mimetype": "text/x-python",
   "name": "python",
   "nbconvert_exporter": "python",
   "pygments_lexer": "ipython3",
   "version": "3.8.8"
  }
 },
 "nbformat": 4,
 "nbformat_minor": 5
}
