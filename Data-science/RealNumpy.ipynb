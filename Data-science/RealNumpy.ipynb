{
 "cells": [
  {
   "cell_type": "markdown",
   "id": "999c5672",
   "metadata": {},
   "source": [
    "# introduction to Numpy\n",
    "# NumPy (or Numpy) is a linear Algebra Library for python, the reason it is so importan for Data science with \n",
    "# python is that almost all the libraries in the PyDta Ecosystem rely on Numpy as one of their main bulding blockss.\n",
    "\n",
    "# Numpy is also incredibly fast, as it has binding to C libraries"
   ]
  },
  {
   "cell_type": "code",
   "execution_count": null,
   "id": "26b9d2c9",
   "metadata": {},
   "outputs": [],
   "source": []
  },
  {
   "cell_type": "markdown",
   "id": "29ef1585",
   "metadata": {},
   "source": [
    "# GETTING NUMPY INTO YOUR COMPUTER:\n",
    "\n",
    "# its hightlu recormmended you install python using Anaconda distribution to make sure all underlying dependencies (such as linear Algebra libraries)\n",
    "# all sync up with the use of a conda install\n",
    "\n",
    "# if you have Anaconda, install Numpy by going to your tweminal oe command prompt and typing the ff:\"\n",
    "\n",
    "# conda install numpy or\n",
    "# pip install numpy"
   ]
  },
  {
   "cell_type": "markdown",
   "id": "01143ac8",
   "metadata": {},
   "source": [
    "# WHAT WE WILL BE USING NUMPY TO DO:\n",
    "\n",
    "# Numpy arrays are the main way we will use Numpy throughout the course.\n",
    "# Numpy arrays essentially come in two flavors: vector and matrices.\n",
    "\n",
    "# Vectors are strickly 1-d arrays and marices are 2-d (but you should note a matrix can still have one row or one column.)\n"
   ]
  },
  {
   "cell_type": "code",
   "execution_count": null,
   "id": "6dcdc1c5",
   "metadata": {},
   "outputs": [],
   "source": [
    "# python list\n",
    "\n",
    "my_list = [1,2,3]"
   ]
  },
  {
   "cell_type": "code",
   "execution_count": 6,
   "id": "49a97994",
   "metadata": {},
   "outputs": [],
   "source": [
    "import numpy as np"
   ]
  },
  {
   "cell_type": "code",
   "execution_count": 7,
   "id": "25ed3653",
   "metadata": {},
   "outputs": [],
   "source": [
    "# Numpy array (casted it from python list)\n",
    "arr = np.array(my_list)"
   ]
  },
  {
   "cell_type": "code",
   "execution_count": 8,
   "id": "e8cf9287",
   "metadata": {},
   "outputs": [
    {
     "data": {
      "text/plain": [
       "array([1, 2, 3])"
      ]
     },
     "execution_count": 8,
     "metadata": {},
     "output_type": "execute_result"
    }
   ],
   "source": [
    "arr"
   ]
  },
  {
   "cell_type": "code",
   "execution_count": 9,
   "id": "3aa27006",
   "metadata": {},
   "outputs": [],
   "source": [
    "# python catested list\n",
    "my_mat = [[1,2,3],[4,5,6],[7,8,9]]"
   ]
  },
  {
   "cell_type": "code",
   "execution_count": 10,
   "id": "7428fee2",
   "metadata": {},
   "outputs": [
    {
     "data": {
      "text/plain": [
       "[[1, 2, 3], [4, 5, 6], [7, 8, 9]]"
      ]
     },
     "execution_count": 10,
     "metadata": {},
     "output_type": "execute_result"
    }
   ],
   "source": [
    "my_mat"
   ]
  },
  {
   "cell_type": "code",
   "execution_count": 11,
   "id": "d9c72e3a",
   "metadata": {},
   "outputs": [
    {
     "data": {
      "text/plain": [
       "array([[1, 2, 3],\n",
       "       [4, 5, 6],\n",
       "       [7, 8, 9]])"
      ]
     },
     "execution_count": 11,
     "metadata": {},
     "output_type": "execute_result"
    }
   ],
   "source": [
    "# catsting it to Numpy arrays, to have a two a 2-d arrays\n",
    "np.array(my_mat)"
   ]
  },
  {
   "cell_type": "markdown",
   "id": "9957c6cb",
   "metadata": {},
   "source": [
    "# common ways to use Numpy and create arrays so fast and easy to use are:"
   ]
  },
  {
   "cell_type": "markdown",
   "id": "5467bedf",
   "metadata": {},
   "source": [
    "# using the arange() function, this is like a range() function in python\n",
    "# the first value is for the starting, the 2nd is the ending, the third is the output in getting the evenly number or odd, (essentially the jumping method)\n"
   ]
  },
  {
   "cell_type": "code",
   "execution_count": 256,
   "id": "15743140",
   "metadata": {},
   "outputs": [
    {
     "data": {
      "text/plain": [
       "array([0, 2, 4, 6, 8])"
      ]
     },
     "execution_count": 256,
     "metadata": {},
     "output_type": "execute_result"
    }
   ],
   "source": [
    "np.arange(0,10,2)"
   ]
  },
  {
   "cell_type": "markdown",
   "id": "23337210",
   "metadata": {},
   "source": [
    "# generating arrays of zeros throughout\n",
    "\n"
   ]
  },
  {
   "cell_type": "code",
   "execution_count": 259,
   "id": "7fcba26a",
   "metadata": {},
   "outputs": [
    {
     "data": {
      "text/plain": [
       "array([0., 0., 0.])"
      ]
     },
     "execution_count": 259,
     "metadata": {},
     "output_type": "execute_result"
    }
   ],
   "source": [
    "np.zeros(3)"
   ]
  },
  {
   "cell_type": "markdown",
   "id": "5ce143f1",
   "metadata": {},
   "source": [
    "# getting a 5x5 matices using a tuple in zeros, remember its a 2-d array\n",
    "\n"
   ]
  },
  {
   "cell_type": "code",
   "execution_count": 260,
   "id": "68d617c4",
   "metadata": {},
   "outputs": [
    {
     "data": {
      "text/plain": [
       "array([[0., 0., 0., 0., 0.],\n",
       "       [0., 0., 0., 0., 0.],\n",
       "       [0., 0., 0., 0., 0.],\n",
       "       [0., 0., 0., 0., 0.],\n",
       "       [0., 0., 0., 0., 0.]])"
      ]
     },
     "execution_count": 260,
     "metadata": {},
     "output_type": "execute_result"
    }
   ],
   "source": [
    "np.zeros((5,5))"
   ]
  },
  {
   "cell_type": "markdown",
   "id": "59c08f34",
   "metadata": {},
   "source": [
    "# getting arrays of ones.\n"
   ]
  },
  {
   "cell_type": "code",
   "execution_count": 261,
   "id": "11c14116",
   "metadata": {},
   "outputs": [
    {
     "data": {
      "text/plain": [
       "array([[1., 1., 1., 1., 1., 1.],\n",
       "       [1., 1., 1., 1., 1., 1.],\n",
       "       [1., 1., 1., 1., 1., 1.]])"
      ]
     },
     "execution_count": 261,
     "metadata": {},
     "output_type": "execute_result"
    }
   ],
   "source": [
    "np.ones((3,6))"
   ]
  },
  {
   "cell_type": "markdown",
   "id": "0e56a022",
   "metadata": {},
   "source": [
    "# anothe important build in function in Numpy is the linspace() function\n",
    "# this returns the evenly spaced numbers over a specified interval.\n",
    "# note the difference btw a arange is that, arange takes the third digit as the jumping value\n",
    "# while arange takes the third values as the number of evenly space you want\n",
    "\n"
   ]
  },
  {
   "cell_type": "code",
   "execution_count": 262,
   "id": "e8e5cc67",
   "metadata": {},
   "outputs": [
    {
     "data": {
      "text/plain": [
       "array([0.        , 0.55555556, 1.11111111, 1.66666667, 2.22222222,\n",
       "       2.77777778, 3.33333333, 3.88888889, 4.44444444, 5.        ])"
      ]
     },
     "execution_count": 262,
     "metadata": {},
     "output_type": "execute_result"
    }
   ],
   "source": [
    "np.linspace(0,5,10)"
   ]
  },
  {
   "cell_type": "markdown",
   "id": "d9153605",
   "metadata": {},
   "source": [
    "# creating an identity matrix using Numpy.\n",
    "# what is an identity matrix?\n",
    "# this is useful when you're dealing with linear algebra problems, and its basically a\n",
    "# two dymensional square matrix, meaning the number of rows is same as the column, \n",
    "# which has a diagonal of 1's, the rest are 0's, that why it take a s ingle digit as the argument.\n",
    "# bcos identity matrix must be squared as the output and the p.i\n"
   ]
  },
  {
   "cell_type": "code",
   "execution_count": 263,
   "id": "777744ba",
   "metadata": {},
   "outputs": [
    {
     "data": {
      "text/plain": [
       "array([[1., 0., 0., 0.],\n",
       "       [0., 1., 0., 0.],\n",
       "       [0., 0., 1., 0.],\n",
       "       [0., 0., 0., 1.]])"
      ]
     },
     "execution_count": 263,
     "metadata": {},
     "output_type": "execute_result"
    }
   ],
   "source": [
    "np.eye(4)"
   ]
  },
  {
   "cell_type": "markdown",
   "id": "fc2b84db",
   "metadata": {},
   "source": [
    "# creating arrays with random numbers.\n",
    "# this is going to return one 1-d array\n"
   ]
  },
  {
   "cell_type": "code",
   "execution_count": 264,
   "id": "7cd712f7",
   "metadata": {},
   "outputs": [
    {
     "data": {
      "text/plain": [
       "array([0.97220194, 0.53687798, 0.12253675, 0.88603216, 0.77606403,\n",
       "       0.05579018, 0.38315855, 0.72720287, 0.17505944])"
      ]
     },
     "execution_count": 264,
     "metadata": {},
     "output_type": "execute_result"
    }
   ],
   "source": [
    "np.random.rand(9)"
   ]
  },
  {
   "cell_type": "markdown",
   "id": "ff50cf18",
   "metadata": {},
   "source": [
    "# creating 2-d arrys, \n",
    "# note while working with a random() method, you don't pass the argument as a tupple\n"
   ]
  },
  {
   "cell_type": "code",
   "execution_count": 265,
   "id": "e8d48a78",
   "metadata": {},
   "outputs": [
    {
     "data": {
      "text/plain": [
       "array([[0.29100115, 0.36764156, 0.00608953, 0.30412401, 0.82668224],\n",
       "       [0.09995069, 0.28707797, 0.69595417, 0.4720391 , 0.26457142],\n",
       "       [0.03050445, 0.08691802, 0.65458381, 0.68838506, 0.88893113],\n",
       "       [0.36591063, 0.99705084, 0.38669136, 0.1704701 , 0.8127144 ],\n",
       "       [0.26959375, 0.32463992, 0.37255215, 0.79863045, 0.42555433]])"
      ]
     },
     "execution_count": 265,
     "metadata": {},
     "output_type": "execute_result"
    }
   ],
   "source": [
    "np.random.rand(5,5)"
   ]
  },
  {
   "cell_type": "markdown",
   "id": "36c3090a",
   "metadata": {},
   "source": [
    "# getting a standard normal distribution or guision\n",
    "# although this is not a normal distribution, by the time we'll get to data visualization we'll see it\n",
    "# can as well accept two arguments\n"
   ]
  },
  {
   "cell_type": "code",
   "execution_count": 266,
   "id": "71bd3d98",
   "metadata": {},
   "outputs": [
    {
     "data": {
      "text/plain": [
       "array([[ 0.85834655, -1.18875599, -1.5815282 ,  1.3851819 ],\n",
       "       [ 0.22936168,  0.5703024 ,  0.85156873,  0.57434355],\n",
       "       [-0.14118286,  0.21748096,  2.31792257, -0.79947892],\n",
       "       [ 0.28963513,  2.31368817,  1.00860503,  1.33886106]])"
      ]
     },
     "execution_count": 266,
     "metadata": {},
     "output_type": "execute_result"
    }
   ],
   "source": [
    "np.random.randn(4,4)"
   ]
  },
  {
   "cell_type": "markdown",
   "id": "9795d746",
   "metadata": {},
   "source": [
    "# the final random we're going to be talking about is the randint(\n",
    "# 1st = the low argument, 2nd = high argument, 3rd = the total digits u wan to display\n"
   ]
  },
  {
   "cell_type": "code",
   "execution_count": 269,
   "id": "a94cc7e2",
   "metadata": {},
   "outputs": [
    {
     "data": {
      "text/plain": [
       "array([2, 2, 3, 2, 4, 2, 3, 4, 3, 4])"
      ]
     },
     "execution_count": 269,
     "metadata": {},
     "output_type": "execute_result"
    }
   ],
   "source": [
    "np.random.randint(2,5,10)"
   ]
  },
  {
   "cell_type": "code",
   "execution_count": null,
   "id": "05b67b6f",
   "metadata": {},
   "outputs": [],
   "source": []
  },
  {
   "cell_type": "markdown",
   "id": "dcbefcfe",
   "metadata": {},
   "source": [
    "# some few useful attributes and methods of an array. let's create two new array objects\n",
    "\n"
   ]
  },
  {
   "cell_type": "code",
   "execution_count": 270,
   "id": "db0d7de7",
   "metadata": {},
   "outputs": [],
   "source": [
    "myarr = np.arange(25)"
   ]
  },
  {
   "cell_type": "code",
   "execution_count": 271,
   "id": "5391e18c",
   "metadata": {},
   "outputs": [
    {
     "data": {
      "text/plain": [
       "array([ 0,  1,  2,  3,  4,  5,  6,  7,  8,  9, 10, 11, 12, 13, 14, 15, 16,\n",
       "       17, 18, 19, 20, 21, 22, 23, 24])"
      ]
     },
     "execution_count": 271,
     "metadata": {},
     "output_type": "execute_result"
    }
   ],
   "source": [
    "myarr"
   ]
  },
  {
   "cell_type": "code",
   "execution_count": 60,
   "id": "92b180bc",
   "metadata": {},
   "outputs": [],
   "source": [
    "ranarr = np.random.randint(0,50,10)"
   ]
  },
  {
   "cell_type": "code",
   "execution_count": 61,
   "id": "b0e34da0",
   "metadata": {},
   "outputs": [
    {
     "data": {
      "text/plain": [
       "array([46, 24, 27, 48,  7, 44, 22, 40, 43, 30])"
      ]
     },
     "execution_count": 61,
     "metadata": {},
     "output_type": "execute_result"
    }
   ],
   "source": [
    "ranarr"
   ]
  },
  {
   "cell_type": "markdown",
   "id": "e6a00b23",
   "metadata": {},
   "source": [
    "# note if the argument doesn't match you'll get an error, 5x5=25\n"
   ]
  },
  {
   "cell_type": "code",
   "execution_count": 272,
   "id": "1cc47946",
   "metadata": {},
   "outputs": [
    {
     "data": {
      "text/plain": [
       "array([[ 0,  1,  2,  3,  4],\n",
       "       [ 5,  6,  7,  8,  9],\n",
       "       [10, 11, 12, 13, 14],\n",
       "       [15, 16, 17, 18, 19],\n",
       "       [20, 21, 22, 23, 24]])"
      ]
     },
     "execution_count": 272,
     "metadata": {},
     "output_type": "execute_result"
    }
   ],
   "source": [
    "myarr.reshape(5,5)"
   ]
  },
  {
   "cell_type": "markdown",
   "id": "00b1ee96",
   "metadata": {},
   "source": [
    "# finding max or min value in an array\n"
   ]
  },
  {
   "cell_type": "code",
   "execution_count": 70,
   "id": "c1a49836",
   "metadata": {},
   "outputs": [
    {
     "data": {
      "text/plain": [
       "array([46, 24, 27, 48,  7, 44, 22, 40, 43, 30])"
      ]
     },
     "execution_count": 70,
     "metadata": {},
     "output_type": "execute_result"
    }
   ],
   "source": [
    "ranarr"
   ]
  },
  {
   "cell_type": "code",
   "execution_count": 71,
   "id": "1b23054c",
   "metadata": {},
   "outputs": [
    {
     "data": {
      "text/plain": [
       "48"
      ]
     },
     "execution_count": 71,
     "metadata": {},
     "output_type": "execute_result"
    }
   ],
   "source": [
    "ranarr.max()"
   ]
  },
  {
   "cell_type": "markdown",
   "id": "2bd6f8ae",
   "metadata": {},
   "source": [
    "# the min value\n",
    "\n"
   ]
  },
  {
   "cell_type": "code",
   "execution_count": 273,
   "id": "ae1d5d51",
   "metadata": {},
   "outputs": [
    {
     "data": {
      "text/plain": [
       "7"
      ]
     },
     "execution_count": 273,
     "metadata": {},
     "output_type": "execute_result"
    }
   ],
   "source": [
    "ranarr.min()"
   ]
  },
  {
   "cell_type": "markdown",
   "id": "09c111a1",
   "metadata": {},
   "source": [
    "# getting the actual location of the max, using the arg() function same as the min\n",
    "\n"
   ]
  },
  {
   "cell_type": "code",
   "execution_count": 274,
   "id": "f0184574",
   "metadata": {},
   "outputs": [
    {
     "data": {
      "text/plain": [
       "3"
      ]
     },
     "execution_count": 274,
     "metadata": {},
     "output_type": "execute_result"
    }
   ],
   "source": [
    "ranarr.argmax()"
   ]
  },
  {
   "cell_type": "code",
   "execution_count": 74,
   "id": "3cc494da",
   "metadata": {},
   "outputs": [
    {
     "data": {
      "text/plain": [
       "4"
      ]
     },
     "execution_count": 74,
     "metadata": {},
     "output_type": "execute_result"
    }
   ],
   "source": [
    "ranarr.argmin()"
   ]
  },
  {
   "cell_type": "markdown",
   "id": "54dfc5e7",
   "metadata": {},
   "source": [
    "# figurering out the shape of a vector.\n",
    "# (25,) indicating that it's 1-d array\n"
   ]
  },
  {
   "cell_type": "code",
   "execution_count": 275,
   "id": "fd49200d",
   "metadata": {},
   "outputs": [
    {
     "data": {
      "text/plain": [
       "(25,)"
      ]
     },
     "execution_count": 275,
     "metadata": {},
     "output_type": "execute_result"
    }
   ],
   "source": [
    "myarr.shape"
   ]
  },
  {
   "cell_type": "code",
   "execution_count": 276,
   "id": "a8a0b764",
   "metadata": {},
   "outputs": [],
   "source": [
    "myarr = myarr.reshape(5,5)"
   ]
  },
  {
   "cell_type": "code",
   "execution_count": 277,
   "id": "779f2835",
   "metadata": {},
   "outputs": [
    {
     "data": {
      "text/plain": [
       "array([[ 0,  1,  2,  3,  4],\n",
       "       [ 5,  6,  7,  8,  9],\n",
       "       [10, 11, 12, 13, 14],\n",
       "       [15, 16, 17, 18, 19],\n",
       "       [20, 21, 22, 23, 24]])"
      ]
     },
     "execution_count": 277,
     "metadata": {},
     "output_type": "execute_result"
    }
   ],
   "source": [
    "myarr"
   ]
  },
  {
   "cell_type": "markdown",
   "id": "39ce7b3a",
   "metadata": {},
   "source": [
    "# its now 2-d array\n"
   ]
  },
  {
   "cell_type": "code",
   "execution_count": 278,
   "id": "d699173a",
   "metadata": {},
   "outputs": [
    {
     "data": {
      "text/plain": [
       "(5, 5)"
      ]
     },
     "execution_count": 278,
     "metadata": {},
     "output_type": "execute_result"
    }
   ],
   "source": [
    "myarr.shape"
   ]
  },
  {
   "cell_type": "code",
   "execution_count": 279,
   "id": "43ea86c4",
   "metadata": {},
   "outputs": [
    {
     "data": {
      "text/plain": [
       "dtype('int32')"
      ]
     },
     "execution_count": 279,
     "metadata": {},
     "output_type": "execute_result"
    }
   ],
   "source": [
    "# the last attr. for now is the data type which id dtype in Numpy\n",
    "\n",
    "myarr.dtype"
   ]
  },
  {
   "cell_type": "code",
   "execution_count": null,
   "id": "36874021",
   "metadata": {},
   "outputs": [],
   "source": []
  },
  {
   "cell_type": "markdown",
   "id": "d988afbd",
   "metadata": {},
   "source": [
    "# if you don't want to type in np.rand or ........ you can use this function or method insted\n",
    "\n"
   ]
  },
  {
   "cell_type": "code",
   "execution_count": 280,
   "id": "21466d3e",
   "metadata": {},
   "outputs": [],
   "source": [
    "from numpy.random import randint"
   ]
  },
  {
   "cell_type": "code",
   "execution_count": 281,
   "id": "3d6198ea",
   "metadata": {},
   "outputs": [
    {
     "data": {
      "text/plain": [
       "3"
      ]
     },
     "execution_count": 281,
     "metadata": {},
     "output_type": "execute_result"
    }
   ],
   "source": [
    "randint(2,20)"
   ]
  },
  {
   "cell_type": "code",
   "execution_count": null,
   "id": "ae647aa0",
   "metadata": {},
   "outputs": [],
   "source": []
  },
  {
   "cell_type": "code",
   "execution_count": null,
   "id": "9b0783ca",
   "metadata": {},
   "outputs": [],
   "source": []
  },
  {
   "cell_type": "markdown",
   "id": "86b638c1",
   "metadata": {},
   "source": [
    "# NUMPY INDEXING AND SELECTION"
   ]
  },
  {
   "cell_type": "code",
   "execution_count": 95,
   "id": "434a54ff",
   "metadata": {},
   "outputs": [],
   "source": [
    "my_range = np.arange(0,11)"
   ]
  },
  {
   "cell_type": "code",
   "execution_count": 97,
   "id": "d6ec2e4c",
   "metadata": {},
   "outputs": [
    {
     "data": {
      "text/plain": [
       "array([ 0,  1,  2,  3,  4,  5,  6,  7,  8,  9, 10])"
      ]
     },
     "execution_count": 97,
     "metadata": {},
     "output_type": "execute_result"
    }
   ],
   "source": [
    "my_range"
   ]
  },
  {
   "cell_type": "markdown",
   "id": "932561ee",
   "metadata": {},
   "source": [
    "# selecting a particular value in the array, just like python indexing.\n",
    "\n"
   ]
  },
  {
   "cell_type": "code",
   "execution_count": 282,
   "id": "df13c33f",
   "metadata": {},
   "outputs": [
    {
     "data": {
      "text/plain": [
       "9"
      ]
     },
     "execution_count": 282,
     "metadata": {},
     "output_type": "execute_result"
    }
   ],
   "source": [
    "my_range[9]"
   ]
  },
  {
   "cell_type": "markdown",
   "id": "9d2d8aa7",
   "metadata": {},
   "source": [
    "# values in a range. just like python list, you'll use splicing\n",
    "# with a starting index and stopping index\n"
   ]
  },
  {
   "cell_type": "code",
   "execution_count": 283,
   "id": "6388168a",
   "metadata": {},
   "outputs": [
    {
     "data": {
      "text/plain": [
       "array([99, 99, 99, 99, 99, 99])"
      ]
     },
     "execution_count": 283,
     "metadata": {},
     "output_type": "execute_result"
    }
   ],
   "source": [
    "my_range[0:6]"
   ]
  },
  {
   "cell_type": "markdown",
   "id": "a0d6fab0",
   "metadata": {},
   "source": [
    "# everthing in without specifying the starting\n",
    "\n"
   ]
  },
  {
   "cell_type": "code",
   "execution_count": 284,
   "id": "512ddff6",
   "metadata": {},
   "outputs": [
    {
     "data": {
      "text/plain": [
       "array([99, 99, 99, 99, 99, 99,  6,  7])"
      ]
     },
     "execution_count": 284,
     "metadata": {},
     "output_type": "execute_result"
    }
   ],
   "source": [
    "my_range[:8]"
   ]
  },
  {
   "cell_type": "code",
   "execution_count": 285,
   "id": "68cff609",
   "metadata": {},
   "outputs": [
    {
     "data": {
      "text/plain": [
       "array([99, 99,  6,  7,  8,  9, 10])"
      ]
     },
     "execution_count": 285,
     "metadata": {},
     "output_type": "execute_result"
    }
   ],
   "source": [
    "my_range[4:]"
   ]
  },
  {
   "cell_type": "markdown",
   "id": "8a81e4de",
   "metadata": {},
   "source": [
    "# Numpy arrays is different from normal python bcos they have te ability to broadcast.\n",
    "\n"
   ]
  },
  {
   "cell_type": "code",
   "execution_count": null,
   "id": "ce51c905",
   "metadata": {},
   "outputs": [],
   "source": [
    "my_range[0:5] = 100"
   ]
  },
  {
   "cell_type": "code",
   "execution_count": 104,
   "id": "56ce7003",
   "metadata": {},
   "outputs": [
    {
     "data": {
      "text/plain": [
       "array([100, 100, 100, 100, 100,   5,   6,   7,   8,   9,  10])"
      ]
     },
     "execution_count": 104,
     "metadata": {},
     "output_type": "execute_result"
    }
   ],
   "source": [
    "my_range"
   ]
  },
  {
   "cell_type": "code",
   "execution_count": 105,
   "id": "7e4dd7d0",
   "metadata": {},
   "outputs": [],
   "source": [
    "my_range = np.arange(0,11)"
   ]
  },
  {
   "cell_type": "code",
   "execution_count": 106,
   "id": "26da4097",
   "metadata": {},
   "outputs": [
    {
     "data": {
      "text/plain": [
       "array([ 0,  1,  2,  3,  4,  5,  6,  7,  8,  9, 10])"
      ]
     },
     "execution_count": 106,
     "metadata": {},
     "output_type": "execute_result"
    }
   ],
   "source": [
    "my_range"
   ]
  },
  {
   "cell_type": "code",
   "execution_count": 107,
   "id": "f6d114a7",
   "metadata": {},
   "outputs": [],
   "source": [
    "slice_of_arr = my_range[0:6]"
   ]
  },
  {
   "cell_type": "code",
   "execution_count": 108,
   "id": "a9b28abd",
   "metadata": {},
   "outputs": [
    {
     "data": {
      "text/plain": [
       "array([0, 1, 2, 3, 4, 5])"
      ]
     },
     "execution_count": 108,
     "metadata": {},
     "output_type": "execute_result"
    }
   ],
   "source": [
    "slice_of_arr"
   ]
  },
  {
   "cell_type": "markdown",
   "id": "6d0db44f",
   "metadata": {},
   "source": [
    "# let's brocast this array\n",
    "\n"
   ]
  },
  {
   "cell_type": "code",
   "execution_count": 286,
   "id": "fd0ae7a4",
   "metadata": {},
   "outputs": [
    {
     "data": {
      "text/plain": [
       "array([99, 99, 99, 99, 99, 99])"
      ]
     },
     "execution_count": 286,
     "metadata": {},
     "output_type": "execute_result"
    }
   ],
   "source": [
    "slice_of_arr[:]"
   ]
  },
  {
   "cell_type": "code",
   "execution_count": 111,
   "id": "9a4fd82f",
   "metadata": {},
   "outputs": [],
   "source": [
    "slice_of_arr[:] = 99"
   ]
  },
  {
   "cell_type": "code",
   "execution_count": 112,
   "id": "f22b553f",
   "metadata": {},
   "outputs": [
    {
     "data": {
      "text/plain": [
       "array([99, 99, 99, 99, 99, 99])"
      ]
     },
     "execution_count": 112,
     "metadata": {},
     "output_type": "execute_result"
    }
   ],
   "source": [
    "slice_of_arr"
   ]
  },
  {
   "cell_type": "markdown",
   "id": "663838ef",
   "metadata": {},
   "source": [
    "# note the data is not copied rather its just a view of the original array.\n"
   ]
  },
  {
   "cell_type": "code",
   "execution_count": 287,
   "id": "6bd692ec",
   "metadata": {},
   "outputs": [
    {
     "data": {
      "text/plain": [
       "array([99, 99, 99, 99, 99, 99,  6,  7,  8,  9, 10])"
      ]
     },
     "execution_count": 287,
     "metadata": {},
     "output_type": "execute_result"
    }
   ],
   "source": [
    "my_range"
   ]
  },
  {
   "cell_type": "markdown",
   "id": "51a92bcf",
   "metadata": {},
   "source": [
    "# now tryin to do the normal copy\n"
   ]
  },
  {
   "cell_type": "code",
   "execution_count": 288,
   "id": "c0d87ba0",
   "metadata": {},
   "outputs": [],
   "source": [
    "my_copy = my_range.copy()"
   ]
  },
  {
   "cell_type": "code",
   "execution_count": 289,
   "id": "ec02c7da",
   "metadata": {},
   "outputs": [
    {
     "data": {
      "text/plain": [
       "array([99, 99, 99, 99, 99, 99,  6,  7,  8,  9, 10])"
      ]
     },
     "execution_count": 289,
     "metadata": {},
     "output_type": "execute_result"
    }
   ],
   "source": [
    "my_copy"
   ]
  },
  {
   "cell_type": "code",
   "execution_count": 116,
   "id": "b927d2a6",
   "metadata": {},
   "outputs": [
    {
     "data": {
      "text/plain": [
       "array([99, 99, 99, 99, 99, 99,  6,  7,  8,  9, 10])"
      ]
     },
     "execution_count": 116,
     "metadata": {},
     "output_type": "execute_result"
    }
   ],
   "source": [
    "my_range"
   ]
  },
  {
   "cell_type": "markdown",
   "id": "365bfd17",
   "metadata": {},
   "source": [
    "# since they're thesame now lets brodcast the the arrays copy\n",
    "\n"
   ]
  },
  {
   "cell_type": "code",
   "execution_count": 290,
   "id": "318ca2cb",
   "metadata": {},
   "outputs": [],
   "source": [
    "my_copy[:] = 100"
   ]
  },
  {
   "cell_type": "code",
   "execution_count": 291,
   "id": "e3e059e0",
   "metadata": {},
   "outputs": [
    {
     "data": {
      "text/plain": [
       "array([100, 100, 100, 100, 100, 100, 100, 100, 100, 100, 100])"
      ]
     },
     "execution_count": 291,
     "metadata": {},
     "output_type": "execute_result"
    }
   ],
   "source": [
    "my_copy"
   ]
  },
  {
   "cell_type": "markdown",
   "id": "54a7daf0",
   "metadata": {},
   "source": [
    "# but the originla array my_range is unaffected\n",
    "\n"
   ]
  },
  {
   "cell_type": "code",
   "execution_count": 292,
   "id": "5359a925",
   "metadata": {},
   "outputs": [
    {
     "data": {
      "text/plain": [
       "array([99, 99, 99, 99, 99, 99,  6,  7,  8,  9, 10])"
      ]
     },
     "execution_count": 292,
     "metadata": {},
     "output_type": "execute_result"
    }
   ],
   "source": [
    "my_range"
   ]
  },
  {
   "cell_type": "code",
   "execution_count": null,
   "id": "b6aadf35",
   "metadata": {},
   "outputs": [],
   "source": []
  },
  {
   "cell_type": "code",
   "execution_count": null,
   "id": "5b438172",
   "metadata": {},
   "outputs": [],
   "source": []
  },
  {
   "cell_type": "markdown",
   "id": "0e99058d",
   "metadata": {},
   "source": [
    "# INDEXING 2-D ARRAY  OR MATRIC"
   ]
  },
  {
   "cell_type": "code",
   "execution_count": 293,
   "id": "b857d20f",
   "metadata": {},
   "outputs": [],
   "source": [
    "arr_2d = np.array([[5,10,15],[20,25,30],[35,40,40]])"
   ]
  },
  {
   "cell_type": "code",
   "execution_count": 124,
   "id": "44af7898",
   "metadata": {},
   "outputs": [
    {
     "data": {
      "text/plain": [
       "array([[ 5, 10, 15],\n",
       "       [20, 25, 30],\n",
       "       [35, 40, 40]])"
      ]
     },
     "execution_count": 124,
     "metadata": {},
     "output_type": "execute_result"
    }
   ],
   "source": [
    "arr_2d"
   ]
  },
  {
   "cell_type": "markdown",
   "id": "c92f3e2f",
   "metadata": {},
   "source": [
    "# there are about two general formats for grabbing values in 2-d arrays, and the are:\n",
    "\n",
    "# (1) double brackets and \n",
    "# (2) single bracket with a coma, (this is the most recormmended one to use)\n"
   ]
  },
  {
   "cell_type": "markdown",
   "id": "2ad28e57",
   "metadata": {},
   "source": [
    "# the first bracket specifies the index of the value, while the 2nd is for the row of the matrics\n"
   ]
  },
  {
   "cell_type": "code",
   "execution_count": 294,
   "id": "35ecb8b5",
   "metadata": {},
   "outputs": [
    {
     "data": {
      "text/plain": [
       "array([ 5, 10, 15])"
      ]
     },
     "execution_count": 294,
     "metadata": {},
     "output_type": "execute_result"
    }
   ],
   "source": [
    "arr_2d[0]\n",
    "# arr_2d[0][0]\n",
    "# arr_2d[1][2]\n",
    "# arr_2d[2][0]"
   ]
  },
  {
   "cell_type": "markdown",
   "id": "c1725641",
   "metadata": {},
   "source": [
    "# (2) single bracket notation\n",
    "# the first value specifies the row, while the last specifies the row\n"
   ]
  },
  {
   "cell_type": "code",
   "execution_count": 295,
   "id": "6232adb5",
   "metadata": {},
   "outputs": [
    {
     "data": {
      "text/plain": [
       "25"
      ]
     },
     "execution_count": 295,
     "metadata": {},
     "output_type": "execute_result"
    }
   ],
   "source": [
    "arr_2d[0,2]\n",
    "arr_2d[1,1]"
   ]
  },
  {
   "cell_type": "markdown",
   "id": "977ba15c",
   "metadata": {},
   "source": [
    "# how to grab chunks of arrays: this is done through slice notation\n",
    "# don't include row row zeros and ones\n"
   ]
  },
  {
   "cell_type": "code",
   "execution_count": 296,
   "id": "ace719be",
   "metadata": {},
   "outputs": [
    {
     "data": {
      "text/plain": [
       "array([[10, 15],\n",
       "       [25, 30]])"
      ]
     },
     "execution_count": 296,
     "metadata": {},
     "output_type": "execute_result"
    }
   ],
   "source": [
    "arr_2d[:2:,1:]"
   ]
  },
  {
   "cell_type": "code",
   "execution_count": 297,
   "id": "73933001",
   "metadata": {},
   "outputs": [
    {
     "data": {
      "text/plain": [
       "array([[ 5, 10, 15],\n",
       "       [20, 25, 30]])"
      ]
     },
     "execution_count": 297,
     "metadata": {},
     "output_type": "execute_result"
    }
   ],
   "source": [
    "arr_2d[:2]"
   ]
  },
  {
   "cell_type": "markdown",
   "id": "acf0d75b",
   "metadata": {},
   "source": [
    "# if you don't understand this don't kill yourself, we won't be using it often, rather the one we're about to learn"
   ]
  },
  {
   "cell_type": "markdown",
   "id": "7e0497cc",
   "metadata": {},
   "source": [
    "# CONDITIONAL SELECTION"
   ]
  },
  {
   "cell_type": "code",
   "execution_count": 141,
   "id": "53170f99",
   "metadata": {},
   "outputs": [],
   "source": [
    "arr_selection = np.arange(1,11)"
   ]
  },
  {
   "cell_type": "code",
   "execution_count": 142,
   "id": "7805138e",
   "metadata": {},
   "outputs": [
    {
     "data": {
      "text/plain": [
       "array([ 1,  2,  3,  4,  5,  6,  7,  8,  9, 10])"
      ]
     },
     "execution_count": 142,
     "metadata": {},
     "output_type": "execute_result"
    }
   ],
   "source": [
    "arr_selection"
   ]
  },
  {
   "cell_type": "code",
   "execution_count": 144,
   "id": "4c364d58",
   "metadata": {},
   "outputs": [],
   "source": [
    "# comparism\n",
    "bool_arr = arr_selection > 5"
   ]
  },
  {
   "cell_type": "code",
   "execution_count": 145,
   "id": "7f0cbe0c",
   "metadata": {},
   "outputs": [
    {
     "data": {
      "text/plain": [
       "array([False, False, False, False, False,  True,  True,  True,  True,\n",
       "        True])"
      ]
     },
     "execution_count": 145,
     "metadata": {},
     "output_type": "execute_result"
    }
   ],
   "source": [
    "bool_arr"
   ]
  },
  {
   "cell_type": "code",
   "execution_count": 146,
   "id": "56025f06",
   "metadata": {},
   "outputs": [
    {
     "data": {
      "text/plain": [
       "array([ 6,  7,  8,  9, 10])"
      ]
     },
     "execution_count": 146,
     "metadata": {},
     "output_type": "execute_result"
    }
   ],
   "source": [
    "# returning the digits that are true with this conditional patter\n",
    "arr_selection[bool_arr]"
   ]
  },
  {
   "cell_type": "code",
   "execution_count": 147,
   "id": "20fb0a08",
   "metadata": {},
   "outputs": [
    {
     "data": {
      "text/plain": [
       "array([ 6,  7,  8,  9, 10])"
      ]
     },
     "execution_count": 147,
     "metadata": {},
     "output_type": "execute_result"
    }
   ],
   "source": [
    "# well we can do this in a single line\n",
    "# and this is called a syntax selection which we'll be using throughout this course especially on Pandas\n",
    "arr_selection[arr_selection > 5]"
   ]
  },
  {
   "cell_type": "code",
   "execution_count": 148,
   "id": "4af2d9f3",
   "metadata": {},
   "outputs": [
    {
     "data": {
      "text/plain": [
       "array([1, 2])"
      ]
     },
     "execution_count": 148,
     "metadata": {},
     "output_type": "execute_result"
    }
   ],
   "source": [
    "# all elements in the array that is less than three\n",
    "\n",
    "arr_selection[arr_selection < 3]"
   ]
  },
  {
   "cell_type": "code",
   "execution_count": 149,
   "id": "0d894aaa",
   "metadata": {},
   "outputs": [],
   "source": [
    "# excercise:use the arange method and create a 10x5 matrices.\n",
    "# try grabbing [13,14]\n",
    "#                 [23,24] using bracket notation\n",
    "excercise_arr = np.arange(50).reshape(5,10)"
   ]
  },
  {
   "cell_type": "code",
   "execution_count": 150,
   "id": "a0acc557",
   "metadata": {},
   "outputs": [
    {
     "data": {
      "text/plain": [
       "array([[ 0,  1,  2,  3,  4,  5,  6,  7,  8,  9],\n",
       "       [10, 11, 12, 13, 14, 15, 16, 17, 18, 19],\n",
       "       [20, 21, 22, 23, 24, 25, 26, 27, 28, 29],\n",
       "       [30, 31, 32, 33, 34, 35, 36, 37, 38, 39],\n",
       "       [40, 41, 42, 43, 44, 45, 46, 47, 48, 49]])"
      ]
     },
     "execution_count": 150,
     "metadata": {},
     "output_type": "execute_result"
    }
   ],
   "source": [
    "excercise_arr "
   ]
  },
  {
   "cell_type": "code",
   "execution_count": null,
   "id": "b6df1872",
   "metadata": {},
   "outputs": [],
   "source": []
  },
  {
   "cell_type": "code",
   "execution_count": 151,
   "id": "2a79018a",
   "metadata": {},
   "outputs": [
    {
     "data": {
      "text/plain": [
       "array([[10, 11, 12, 13, 14, 15, 16, 17, 18, 19],\n",
       "       [20, 21, 22, 23, 24, 25, 26, 27, 28, 29]])"
      ]
     },
     "execution_count": 151,
     "metadata": {},
     "output_type": "execute_result"
    }
   ],
   "source": [
    "# solution\n",
    "excercise_arr [1:3]"
   ]
  },
  {
   "cell_type": "code",
   "execution_count": 155,
   "id": "3b4db18b",
   "metadata": {},
   "outputs": [
    {
     "data": {
      "text/plain": [
       "array([[13, 14],\n",
       "       [23, 24]])"
      ]
     },
     "execution_count": 155,
     "metadata": {},
     "output_type": "execute_result"
    }
   ],
   "source": [
    "excercise_arr [1:3,3:5]"
   ]
  },
  {
   "cell_type": "markdown",
   "id": "1c9f99ff",
   "metadata": {},
   "source": [
    "# just as i said ealear don't worry if you don't uderstand muh about this slicing, you won't do it much, just to show you what Numpy can do, instead we'll be grabbing enteire roles or column"
   ]
  },
  {
   "cell_type": "code",
   "execution_count": null,
   "id": "f771c18b",
   "metadata": {},
   "outputs": [],
   "source": []
  },
  {
   "cell_type": "code",
   "execution_count": null,
   "id": "93ab34f8",
   "metadata": {},
   "outputs": [],
   "source": []
  },
  {
   "cell_type": "code",
   "execution_count": 157,
   "id": "ff7ba046",
   "metadata": {},
   "outputs": [],
   "source": [
    "# NUMPY OPERATION\n"
   ]
  },
  {
   "cell_type": "markdown",
   "id": "2dcf523c",
   "metadata": {},
   "source": [
    "# outlines:\n",
    "1. Array with Array\n",
    "2. Array with Scalars\n",
    "3. Universal Array Functiona"
   ]
  },
  {
   "cell_type": "markdown",
   "id": "18cc00a7",
   "metadata": {},
   "source": [
    "# * Array with Array, at this junction there are many mathematical operations that can persformed in this aspect, within an Array with Array"
   ]
  },
  {
   "cell_type": "code",
   "execution_count": 168,
   "id": "d8a44050",
   "metadata": {},
   "outputs": [],
   "source": [
    "with_arr = np.arange(0,11)"
   ]
  },
  {
   "cell_type": "code",
   "execution_count": 169,
   "id": "a36c49ec",
   "metadata": {},
   "outputs": [
    {
     "data": {
      "text/plain": [
       "array([ 0,  1,  2,  3,  4,  5,  6,  7,  8,  9, 10])"
      ]
     },
     "execution_count": 169,
     "metadata": {},
     "output_type": "execute_result"
    }
   ],
   "source": [
    "with_arr"
   ]
  },
  {
   "cell_type": "code",
   "execution_count": 170,
   "id": "4c5efd4b",
   "metadata": {},
   "outputs": [
    {
     "data": {
      "text/plain": [
       "array([ 0,  2,  4,  6,  8, 10, 12, 14, 16, 18, 20])"
      ]
     },
     "execution_count": 170,
     "metadata": {},
     "output_type": "execute_result"
    }
   ],
   "source": [
    "# Additional array with array\n",
    "with_arr + with_arr"
   ]
  },
  {
   "cell_type": "code",
   "execution_count": 171,
   "id": "a8f4d58f",
   "metadata": {},
   "outputs": [
    {
     "data": {
      "text/plain": [
       "array([0, 0, 0, 0, 0, 0, 0, 0, 0, 0, 0])"
      ]
     },
     "execution_count": 171,
     "metadata": {},
     "output_type": "execute_result"
    }
   ],
   "source": [
    "# substrations etc. but be careful wit division, avoid error in zero division\n",
    "with_arr - with_arr"
   ]
  },
  {
   "cell_type": "code",
   "execution_count": 172,
   "id": "3f81b026",
   "metadata": {},
   "outputs": [],
   "source": [
    "# with_arr / with_arr"
   ]
  },
  {
   "cell_type": "code",
   "execution_count": null,
   "id": "911d0ae7",
   "metadata": {},
   "outputs": [],
   "source": []
  },
  {
   "cell_type": "code",
   "execution_count": 175,
   "id": "b77ede96",
   "metadata": {},
   "outputs": [
    {
     "data": {
      "text/plain": [
       "array([100, 101, 102, 103, 104, 105, 106, 107, 108, 109, 110])"
      ]
     },
     "execution_count": 175,
     "metadata": {},
     "output_type": "execute_result"
    }
   ],
   "source": [
    "# * Array with Scalars: this is the process of broadcasting Array with a particular number or value\n",
    "\n",
    "\n",
    "# this example adds 100 to each and every value in the array, (scalar brocastin)\n",
    "with_arr + 100"
   ]
  },
  {
   "cell_type": "code",
   "execution_count": 181,
   "id": "c2668646",
   "metadata": {},
   "outputs": [
    {
     "data": {
      "text/plain": [
       "array([          0,           1,           0,  -818408495,           0,\n",
       "       -1971132175,           0,  1027218017,           0, -1426542431,\n",
       "                 0], dtype=int32)"
      ]
     },
     "execution_count": 181,
     "metadata": {},
     "output_type": "execute_result"
    }
   ],
   "source": [
    "# same are multiplication\n",
    "\n",
    "with_arr ** 100"
   ]
  },
  {
   "cell_type": "markdown",
   "id": "767a85d0",
   "metadata": {},
   "source": [
    "# sometimes NUmpy will output a warning instead of given the right answer to u.\n",
    "\n",
    "# ZERO DIVISION ERROR\n",
    "\n",
    "# with_arr / 0"
   ]
  },
  {
   "cell_type": "markdown",
   "id": "bf4ce721",
   "metadata": {},
   "source": [
    "# THE SOLUTION THERE IS TO BE CAREFUL WHILE WORKING WITH MATHEMATICAL OPERATION IN ANY PROGRAMMING LANGUAGE AVOID ZERO DIVISION ERROR"
   ]
  },
  {
   "cell_type": "code",
   "execution_count": null,
   "id": "a5c91e15",
   "metadata": {},
   "outputs": [],
   "source": []
  },
  {
   "cell_type": "markdown",
   "id": "685b6e12",
   "metadata": {},
   "source": [
    "# * Universal Array Function: Numpy come with many Universal Array Function which can be used mathematically and brocast across the entire array\n",
    "\n",
    "# taking the squaroot of the above arrays\n",
    "\n"
   ]
  },
  {
   "cell_type": "code",
   "execution_count": 301,
   "id": "847dce7c",
   "metadata": {},
   "outputs": [
    {
     "data": {
      "text/plain": [
       "array([0.        , 1.        , 1.41421356, 1.73205081, 2.        ,\n",
       "       2.23606798, 2.44948974, 2.64575131, 2.82842712, 3.        ,\n",
       "       3.16227766])"
      ]
     },
     "execution_count": 301,
     "metadata": {},
     "output_type": "execute_result"
    }
   ],
   "source": [
    "np.sqrt(with_arr)"
   ]
  },
  {
   "cell_type": "code",
   "execution_count": 302,
   "id": "a7f0ea2b",
   "metadata": {},
   "outputs": [
    {
     "data": {
      "text/plain": [
       "array([1.00000000e+00, 2.71828183e+00, 7.38905610e+00, 2.00855369e+01,\n",
       "       5.45981500e+01, 1.48413159e+02, 4.03428793e+02, 1.09663316e+03,\n",
       "       2.98095799e+03, 8.10308393e+03, 2.20264658e+04])"
      ]
     },
     "execution_count": 302,
     "metadata": {},
     "output_type": "execute_result"
    }
   ],
   "source": [
    "# calculation the exponential\n",
    "\n",
    "np.exp(with_arr)"
   ]
  },
  {
   "cell_type": "code",
   "execution_count": 185,
   "id": "092aa4e5",
   "metadata": {},
   "outputs": [
    {
     "data": {
      "text/plain": [
       "10"
      ]
     },
     "execution_count": 185,
     "metadata": {},
     "output_type": "execute_result"
    }
   ],
   "source": [
    "# for maximum you can say array.max() or np.max(array)\n",
    "\n",
    "np.max(with_arr)"
   ]
  },
  {
   "cell_type": "code",
   "execution_count": 186,
   "id": "5770c3ae",
   "metadata": {},
   "outputs": [
    {
     "data": {
      "text/plain": [
       "10"
      ]
     },
     "execution_count": 186,
     "metadata": {},
     "output_type": "execute_result"
    }
   ],
   "source": [
    "with_arr.max()"
   ]
  },
  {
   "cell_type": "code",
   "execution_count": 187,
   "id": "e0ed22ae",
   "metadata": {},
   "outputs": [
    {
     "data": {
      "text/plain": [
       "array([ 0.        ,  0.84147098,  0.90929743,  0.14112001, -0.7568025 ,\n",
       "       -0.95892427, -0.2794155 ,  0.6569866 ,  0.98935825,  0.41211849,\n",
       "       -0.54402111])"
      ]
     },
     "execution_count": 187,
     "metadata": {},
     "output_type": "execute_result"
    }
   ],
   "source": [
    "# geting the sin() of an array\n",
    "\n",
    "np.sin(with_arr)"
   ]
  },
  {
   "cell_type": "code",
   "execution_count": 188,
   "id": "36d579e0",
   "metadata": {},
   "outputs": [
    {
     "data": {
      "text/plain": [
       "array([ 1.        ,  0.54030231, -0.41614684, -0.9899925 , -0.65364362,\n",
       "        0.28366219,  0.96017029,  0.75390225, -0.14550003, -0.91113026,\n",
       "       -0.83907153])"
      ]
     },
     "execution_count": 188,
     "metadata": {},
     "output_type": "execute_result"
    }
   ],
   "source": [
    "# cos()\n",
    "np.cos(with_arr)"
   ]
  },
  {
   "cell_type": "markdown",
   "id": "cb622567",
   "metadata": {},
   "source": [
    "# log() althoug this will result an error, bcos tring to divide by zero, would actually result -infinity\n",
    "# np.log(with_arr)"
   ]
  },
  {
   "cell_type": "code",
   "execution_count": 192,
   "id": "da616ecc",
   "metadata": {},
   "outputs": [
    {
     "data": {
      "text/plain": [
       "array([ 0.        ,  1.55740772, -2.18503986, -0.14254654,  1.15782128,\n",
       "       -3.38051501, -0.29100619,  0.87144798, -6.79971146, -0.45231566,\n",
       "        0.64836083])"
      ]
     },
     "execution_count": 192,
     "metadata": {},
     "output_type": "execute_result"
    }
   ],
   "source": [
    "# tan()\n",
    "np.tan(with_arr)"
   ]
  },
  {
   "cell_type": "markdown",
   "id": "e5e9b1cd",
   "metadata": {},
   "source": [
    "# there are many Universal Array Function online which you can use to perform different kinds of mathematical operation\n"
   ]
  },
  {
   "cell_type": "code",
   "execution_count": null,
   "id": "dc68c5dd",
   "metadata": {},
   "outputs": [],
   "source": []
  },
  {
   "cell_type": "code",
   "execution_count": null,
   "id": "9e42c18c",
   "metadata": {},
   "outputs": [],
   "source": []
  },
  {
   "cell_type": "code",
   "execution_count": 194,
   "id": "8b3bebf6",
   "metadata": {},
   "outputs": [],
   "source": [
    "# NUMPY EXCERCISES"
   ]
  },
  {
   "cell_type": "code",
   "execution_count": 195,
   "id": "16162de8",
   "metadata": {},
   "outputs": [],
   "source": [
    "# create an arrys with 10 zeros"
   ]
  },
  {
   "cell_type": "code",
   "execution_count": 201,
   "id": "ac3fb485",
   "metadata": {},
   "outputs": [
    {
     "data": {
      "text/plain": [
       "array([0., 0., 0., 0., 0., 0., 0., 0., 0., 0.])"
      ]
     },
     "execution_count": 201,
     "metadata": {},
     "output_type": "execute_result"
    }
   ],
   "source": [
    "# solution.\n",
    "np.zeros(10)"
   ]
  },
  {
   "cell_type": "raw",
   "id": "3d6480b8",
   "metadata": {},
   "source": []
  },
  {
   "cell_type": "code",
   "execution_count": null,
   "id": "02513749",
   "metadata": {},
   "outputs": [],
   "source": [
    "# creating array with 10 ones"
   ]
  },
  {
   "cell_type": "code",
   "execution_count": 202,
   "id": "d6815705",
   "metadata": {},
   "outputs": [
    {
     "data": {
      "text/plain": [
       "array([1., 1., 1., 1., 1., 1., 1., 1., 1., 1.])"
      ]
     },
     "execution_count": 202,
     "metadata": {},
     "output_type": "execute_result"
    }
   ],
   "source": [
    "# solution:\n",
    "np.ones(10)"
   ]
  },
  {
   "cell_type": "code",
   "execution_count": null,
   "id": "e2339af3",
   "metadata": {},
   "outputs": [],
   "source": []
  },
  {
   "cell_type": "code",
   "execution_count": 203,
   "id": "0bb44af3",
   "metadata": {},
   "outputs": [],
   "source": [
    "# creating an array with 10 fives"
   ]
  },
  {
   "cell_type": "code",
   "execution_count": 204,
   "id": "b9af79fd",
   "metadata": {},
   "outputs": [
    {
     "data": {
      "text/plain": [
       "array([5., 5., 5., 5., 5., 5., 5., 5., 5., 5.])"
      ]
     },
     "execution_count": 204,
     "metadata": {},
     "output_type": "execute_result"
    }
   ],
   "source": [
    "# solution\n",
    "\n",
    "np.ones(10) * 5"
   ]
  },
  {
   "cell_type": "code",
   "execution_count": 205,
   "id": "0eeecbdf",
   "metadata": {},
   "outputs": [
    {
     "data": {
      "text/plain": [
       "array([5., 5., 5., 5., 5., 5., 5., 5., 5., 5.])"
      ]
     },
     "execution_count": 205,
     "metadata": {},
     "output_type": "execute_result"
    }
   ],
   "source": [
    "# or\n",
    "np.zeros(10) + 5"
   ]
  },
  {
   "cell_type": "code",
   "execution_count": null,
   "id": "63a6f04b",
   "metadata": {},
   "outputs": [],
   "source": []
  },
  {
   "cell_type": "code",
   "execution_count": 206,
   "id": "822a2d85",
   "metadata": {},
   "outputs": [],
   "source": [
    "# creating an integer from 10 to 50"
   ]
  },
  {
   "cell_type": "code",
   "execution_count": 208,
   "id": "b30a0e97",
   "metadata": {},
   "outputs": [
    {
     "data": {
      "text/plain": [
       "array([10, 11, 12, 13, 14, 15, 16, 17, 18, 19, 20, 21, 22, 23, 24, 25, 26,\n",
       "       27, 28, 29, 30, 31, 32, 33, 34, 35, 36, 37, 38, 39, 40, 41, 42, 43,\n",
       "       44, 45, 46, 47, 48, 49, 50])"
      ]
     },
     "execution_count": 208,
     "metadata": {},
     "output_type": "execute_result"
    }
   ],
   "source": [
    "# solution\n",
    "np.arange(10,51)"
   ]
  },
  {
   "cell_type": "markdown",
   "id": "077573a1",
   "metadata": {},
   "source": [
    "# creating evenly integers from 10 to 50"
   ]
  },
  {
   "cell_type": "code",
   "execution_count": 210,
   "id": "0112a171",
   "metadata": {},
   "outputs": [
    {
     "data": {
      "text/plain": [
       "array([10, 12, 14, 16, 18, 20, 22, 24, 26, 28, 30, 32, 34, 36, 38, 40, 42,\n",
       "       44, 46, 48, 50])"
      ]
     },
     "execution_count": 210,
     "metadata": {},
     "output_type": "execute_result"
    }
   ],
   "source": [
    "# solution\n",
    "np.arange(10,51,)"
   ]
  },
  {
   "cell_type": "code",
   "execution_count": null,
   "id": "6b5dc3c3",
   "metadata": {},
   "outputs": [],
   "source": []
  },
  {
   "cell_type": "markdown",
   "id": "05ce0824",
   "metadata": {},
   "source": [
    "# create a 3x3 matrix with values ranging from 0 to 8"
   ]
  },
  {
   "cell_type": "code",
   "execution_count": 224,
   "id": "1cd83020",
   "metadata": {},
   "outputs": [],
   "source": [
    "# solution\n",
    "\n",
    "ranging = np.arange(9)"
   ]
  },
  {
   "cell_type": "code",
   "execution_count": 225,
   "id": "3ab8ecb3",
   "metadata": {},
   "outputs": [
    {
     "data": {
      "text/plain": [
       "array([0, 1, 2, 3, 4, 5, 6, 7, 8])"
      ]
     },
     "execution_count": 225,
     "metadata": {},
     "output_type": "execute_result"
    }
   ],
   "source": [
    "ranging"
   ]
  },
  {
   "cell_type": "code",
   "execution_count": 226,
   "id": "e76e9646",
   "metadata": {},
   "outputs": [
    {
     "data": {
      "text/plain": [
       "array([[0, 1, 2],\n",
       "       [3, 4, 5],\n",
       "       [6, 7, 8]])"
      ]
     },
     "execution_count": 226,
     "metadata": {},
     "output_type": "execute_result"
    }
   ],
   "source": [
    "ranging.reshape(3,3)"
   ]
  },
  {
   "cell_type": "code",
   "execution_count": 227,
   "id": "d7ab29ea",
   "metadata": {},
   "outputs": [],
   "source": [
    "# or\n",
    "ranging = np.arange(9).reshape(3,3)"
   ]
  },
  {
   "cell_type": "code",
   "execution_count": 228,
   "id": "7ff099a6",
   "metadata": {},
   "outputs": [
    {
     "data": {
      "text/plain": [
       "array([[0, 1, 2],\n",
       "       [3, 4, 5],\n",
       "       [6, 7, 8]])"
      ]
     },
     "execution_count": 228,
     "metadata": {},
     "output_type": "execute_result"
    }
   ],
   "source": [
    "ranging"
   ]
  },
  {
   "cell_type": "code",
   "execution_count": null,
   "id": "62ce5f7a",
   "metadata": {},
   "outputs": [],
   "source": []
  },
  {
   "cell_type": "markdown",
   "id": "cc1ad997",
   "metadata": {},
   "source": [
    "# create 3x3 matrix with identical matrix"
   ]
  },
  {
   "cell_type": "code",
   "execution_count": 232,
   "id": "5f7a8c03",
   "metadata": {},
   "outputs": [
    {
     "data": {
      "text/plain": [
       "array([[1., 0., 0.],\n",
       "       [0., 1., 0.],\n",
       "       [0., 0., 1.]])"
      ]
     },
     "execution_count": 232,
     "metadata": {},
     "output_type": "execute_result"
    }
   ],
   "source": [
    "np.eye(3)"
   ]
  },
  {
   "cell_type": "code",
   "execution_count": null,
   "id": "b151b8f8",
   "metadata": {},
   "outputs": [],
   "source": []
  },
  {
   "cell_type": "markdown",
   "id": "798c952f",
   "metadata": {},
   "source": [
    "# use Numpy to generate a random number btw 0 and 1"
   ]
  },
  {
   "cell_type": "code",
   "execution_count": 241,
   "id": "a53f2071",
   "metadata": {},
   "outputs": [
    {
     "data": {
      "text/plain": [
       "array([0.53703583])"
      ]
     },
     "execution_count": 241,
     "metadata": {},
     "output_type": "execute_result"
    }
   ],
   "source": [
    "# solution\n",
    "np.random.rand(1)"
   ]
  },
  {
   "cell_type": "code",
   "execution_count": null,
   "id": "7467c3b0",
   "metadata": {},
   "outputs": [],
   "source": []
  },
  {
   "cell_type": "markdown",
   "id": "d99e2770",
   "metadata": {},
   "source": [
    "# use Numpy to generate an array of 25 random numbers sampled from a standard normal distribution"
   ]
  },
  {
   "cell_type": "code",
   "execution_count": 245,
   "id": "1ef185f8",
   "metadata": {},
   "outputs": [
    {
     "data": {
      "text/plain": [
       "array([-1.95352385, -0.05966823,  0.0842837 ,  0.14410455, -0.36030834,\n",
       "        0.15105702,  2.13866424,  1.70400063, -0.12216759, -0.01081647,\n",
       "       -0.6868218 ,  1.47031496, -0.08255541, -0.57585986,  0.04388721,\n",
       "        0.41732153,  0.71583951, -0.60980489,  0.06047102,  0.22586192,\n",
       "        1.26898833,  1.25871136,  0.36437441,  0.17646428, -0.52340675])"
      ]
     },
     "execution_count": 245,
     "metadata": {},
     "output_type": "execute_result"
    }
   ],
   "source": [
    "# solution, this is just a single matri not 5x5, use the shape to see\n",
    "np.random.randn(25)"
   ]
  },
  {
   "cell_type": "code",
   "execution_count": null,
   "id": "b4e81c85",
   "metadata": {},
   "outputs": [],
   "source": []
  },
  {
   "cell_type": "markdown",
   "id": "c7835f2b",
   "metadata": {},
   "source": [
    "# create thi kind of arrays. tell the kind of matrix its"
   ]
  },
  {
   "cell_type": "code",
   "execution_count": 250,
   "id": "c9f8d164",
   "metadata": {},
   "outputs": [
    {
     "data": {
      "text/plain": [
       "array([[0.01, 0.02, 0.03, 0.04, 0.05, 0.06, 0.07, 0.08, 0.09, 0.1 ],\n",
       "       [0.11, 0.12, 0.13, 0.14, 0.15, 0.16, 0.17, 0.18, 0.19, 0.2 ],\n",
       "       [0.21, 0.22, 0.23, 0.24, 0.25, 0.26, 0.27, 0.28, 0.29, 0.3 ],\n",
       "       [0.31, 0.32, 0.33, 0.34, 0.35, 0.36, 0.37, 0.38, 0.39, 0.4 ],\n",
       "       [0.41, 0.42, 0.43, 0.44, 0.45, 0.46, 0.47, 0.48, 0.49, 0.5 ],\n",
       "       [0.51, 0.52, 0.53, 0.54, 0.55, 0.56, 0.57, 0.58, 0.59, 0.6 ],\n",
       "       [0.61, 0.62, 0.63, 0.64, 0.65, 0.66, 0.67, 0.68, 0.69, 0.7 ],\n",
       "       [0.71, 0.72, 0.73, 0.74, 0.75, 0.76, 0.77, 0.78, 0.79, 0.8 ],\n",
       "       [0.81, 0.82, 0.83, 0.84, 0.85, 0.86, 0.87, 0.88, 0.89, 0.9 ],\n",
       "       [0.91, 0.92, 0.93, 0.94, 0.95, 0.96, 0.97, 0.98, 0.99, 1.  ]])"
      ]
     },
     "execution_count": 250,
     "metadata": {},
     "output_type": "execute_result"
    }
   ],
   "source": [
    "np.arange(1,101).reshape(10,10)/100"
   ]
  },
  {
   "cell_type": "code",
   "execution_count": 253,
   "id": "41fc8727",
   "metadata": {
    "scrolled": true
   },
   "outputs": [
    {
     "data": {
      "text/plain": [
       "array([[0.01, 0.02, 0.03, 0.04, 0.05, 0.06, 0.07, 0.08, 0.09, 0.1 ],\n",
       "       [0.11, 0.12, 0.13, 0.14, 0.15, 0.16, 0.17, 0.18, 0.19, 0.2 ],\n",
       "       [0.21, 0.22, 0.23, 0.24, 0.25, 0.26, 0.27, 0.28, 0.29, 0.3 ],\n",
       "       [0.31, 0.32, 0.33, 0.34, 0.35, 0.36, 0.37, 0.38, 0.39, 0.4 ],\n",
       "       [0.41, 0.42, 0.43, 0.44, 0.45, 0.46, 0.47, 0.48, 0.49, 0.5 ],\n",
       "       [0.51, 0.52, 0.53, 0.54, 0.55, 0.56, 0.57, 0.58, 0.59, 0.6 ],\n",
       "       [0.61, 0.62, 0.63, 0.64, 0.65, 0.66, 0.67, 0.68, 0.69, 0.7 ],\n",
       "       [0.71, 0.72, 0.73, 0.74, 0.75, 0.76, 0.77, 0.78, 0.79, 0.8 ],\n",
       "       [0.81, 0.82, 0.83, 0.84, 0.85, 0.86, 0.87, 0.88, 0.89, 0.9 ],\n",
       "       [0.91, 0.92, 0.93, 0.94, 0.95, 0.96, 0.97, 0.98, 0.99, 1.  ]])"
      ]
     },
     "execution_count": 253,
     "metadata": {},
     "output_type": "execute_result"
    }
   ],
   "source": [
    "# or \n",
    "np.linspace(0.01,1,100).reshape(10,10)"
   ]
  },
  {
   "cell_type": "markdown",
   "id": "6612b25e",
   "metadata": {},
   "source": [
    "# create an array of 20 linearly spaced points btw 0 and 1"
   ]
  },
  {
   "cell_type": "code",
   "execution_count": 254,
   "id": "827262e2",
   "metadata": {},
   "outputs": [
    {
     "data": {
      "text/plain": [
       "array([0.        , 0.05263158, 0.10526316, 0.15789474, 0.21052632,\n",
       "       0.26315789, 0.31578947, 0.36842105, 0.42105263, 0.47368421,\n",
       "       0.52631579, 0.57894737, 0.63157895, 0.68421053, 0.73684211,\n",
       "       0.78947368, 0.84210526, 0.89473684, 0.94736842, 1.        ])"
      ]
     },
     "execution_count": 254,
     "metadata": {},
     "output_type": "execute_result"
    }
   ],
   "source": [
    "# solution\n",
    "\n",
    "np.linspace(0,1,20)"
   ]
  },
  {
   "cell_type": "code",
   "execution_count": null,
   "id": "f4a71f4b",
   "metadata": {},
   "outputs": [],
   "source": []
  },
  {
   "cell_type": "code",
   "execution_count": null,
   "id": "dfbebb58",
   "metadata": {},
   "outputs": [],
   "source": []
  }
 ],
 "metadata": {
  "kernelspec": {
   "display_name": "Python 3",
   "language": "python",
   "name": "python3"
  },
  "language_info": {
   "codemirror_mode": {
    "name": "ipython",
    "version": 3
   },
   "file_extension": ".py",
   "mimetype": "text/x-python",
   "name": "python",
   "nbconvert_exporter": "python",
   "pygments_lexer": "ipython3",
   "version": "3.8.8"
  }
 },
 "nbformat": 4,
 "nbformat_minor": 5
}
