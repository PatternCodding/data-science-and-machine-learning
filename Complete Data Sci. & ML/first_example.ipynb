{
 "cells": [
  {
   "cell_type": "markdown",
   "id": "d7043269",
   "metadata": {},
   "source": [
    "# simple linear regression"
   ]
  },
  {
   "cell_type": "markdown",
   "id": "ea8a2e73",
   "metadata": {},
   "source": [
    "# import relevant libraries"
   ]
  },
  {
   "cell_type": "code",
   "execution_count": 63,
   "id": "f9bb06d9",
   "metadata": {},
   "outputs": [],
   "source": [
    "import numpy as pd\n",
    "import pandas as pd\n",
    "import matplotlib.pyplot as plt\n",
    "import statsmodels.api as sm\n",
    "#To be added later\n",
    "import seaborn as sns\n",
    "sns.set()"
   ]
  },
  {
   "cell_type": "markdown",
   "id": "102ea6d6",
   "metadata": {},
   "source": [
    "# load the data"
   ]
  },
  {
   "cell_type": "code",
   "execution_count": 64,
   "id": "b4b8bf4f",
   "metadata": {},
   "outputs": [],
   "source": [
    "data = pd.read_csv('1.01. Simple linear regression.csv')"
   ]
  },
  {
   "cell_type": "code",
   "execution_count": 65,
   "id": "ed963b43",
   "metadata": {},
   "outputs": [
    {
     "data": {
      "text/html": [
       "<div>\n",
       "<style scoped>\n",
       "    .dataframe tbody tr th:only-of-type {\n",
       "        vertical-align: middle;\n",
       "    }\n",
       "\n",
       "    .dataframe tbody tr th {\n",
       "        vertical-align: top;\n",
       "    }\n",
       "\n",
       "    .dataframe thead th {\n",
       "        text-align: right;\n",
       "    }\n",
       "</style>\n",
       "<table border=\"1\" class=\"dataframe\">\n",
       "  <thead>\n",
       "    <tr style=\"text-align: right;\">\n",
       "      <th></th>\n",
       "      <th>SAT</th>\n",
       "      <th>GPA</th>\n",
       "    </tr>\n",
       "  </thead>\n",
       "  <tbody>\n",
       "    <tr>\n",
       "      <th>0</th>\n",
       "      <td>1714</td>\n",
       "      <td>2.40</td>\n",
       "    </tr>\n",
       "    <tr>\n",
       "      <th>1</th>\n",
       "      <td>1664</td>\n",
       "      <td>2.52</td>\n",
       "    </tr>\n",
       "    <tr>\n",
       "      <th>2</th>\n",
       "      <td>1760</td>\n",
       "      <td>2.54</td>\n",
       "    </tr>\n",
       "    <tr>\n",
       "      <th>3</th>\n",
       "      <td>1685</td>\n",
       "      <td>2.74</td>\n",
       "    </tr>\n",
       "    <tr>\n",
       "      <th>4</th>\n",
       "      <td>1693</td>\n",
       "      <td>2.83</td>\n",
       "    </tr>\n",
       "    <tr>\n",
       "      <th>...</th>\n",
       "      <td>...</td>\n",
       "      <td>...</td>\n",
       "    </tr>\n",
       "    <tr>\n",
       "      <th>79</th>\n",
       "      <td>1936</td>\n",
       "      <td>3.71</td>\n",
       "    </tr>\n",
       "    <tr>\n",
       "      <th>80</th>\n",
       "      <td>1810</td>\n",
       "      <td>3.71</td>\n",
       "    </tr>\n",
       "    <tr>\n",
       "      <th>81</th>\n",
       "      <td>1987</td>\n",
       "      <td>3.73</td>\n",
       "    </tr>\n",
       "    <tr>\n",
       "      <th>82</th>\n",
       "      <td>1962</td>\n",
       "      <td>3.76</td>\n",
       "    </tr>\n",
       "    <tr>\n",
       "      <th>83</th>\n",
       "      <td>2050</td>\n",
       "      <td>3.81</td>\n",
       "    </tr>\n",
       "  </tbody>\n",
       "</table>\n",
       "<p>84 rows × 2 columns</p>\n",
       "</div>"
      ],
      "text/plain": [
       "     SAT   GPA\n",
       "0   1714  2.40\n",
       "1   1664  2.52\n",
       "2   1760  2.54\n",
       "3   1685  2.74\n",
       "4   1693  2.83\n",
       "..   ...   ...\n",
       "79  1936  3.71\n",
       "80  1810  3.71\n",
       "81  1987  3.73\n",
       "82  1962  3.76\n",
       "83  2050  3.81\n",
       "\n",
       "[84 rows x 2 columns]"
      ]
     },
     "execution_count": 65,
     "metadata": {},
     "output_type": "execute_result"
    }
   ],
   "source": [
    "data"
   ]
  },
  {
   "cell_type": "markdown",
   "id": "7864a888",
   "metadata": {},
   "source": [
    "# to get the most useful description, we use data.describe(), which is pandas method use to get most useful statistical observations in data frame"
   ]
  },
  {
   "cell_type": "code",
   "execution_count": 66,
   "id": "66bbfb68",
   "metadata": {},
   "outputs": [
    {
     "data": {
      "text/html": [
       "<div>\n",
       "<style scoped>\n",
       "    .dataframe tbody tr th:only-of-type {\n",
       "        vertical-align: middle;\n",
       "    }\n",
       "\n",
       "    .dataframe tbody tr th {\n",
       "        vertical-align: top;\n",
       "    }\n",
       "\n",
       "    .dataframe thead th {\n",
       "        text-align: right;\n",
       "    }\n",
       "</style>\n",
       "<table border=\"1\" class=\"dataframe\">\n",
       "  <thead>\n",
       "    <tr style=\"text-align: right;\">\n",
       "      <th></th>\n",
       "      <th>SAT</th>\n",
       "      <th>GPA</th>\n",
       "    </tr>\n",
       "  </thead>\n",
       "  <tbody>\n",
       "    <tr>\n",
       "      <th>count</th>\n",
       "      <td>84.000000</td>\n",
       "      <td>84.000000</td>\n",
       "    </tr>\n",
       "    <tr>\n",
       "      <th>mean</th>\n",
       "      <td>1845.273810</td>\n",
       "      <td>3.330238</td>\n",
       "    </tr>\n",
       "    <tr>\n",
       "      <th>std</th>\n",
       "      <td>104.530661</td>\n",
       "      <td>0.271617</td>\n",
       "    </tr>\n",
       "    <tr>\n",
       "      <th>min</th>\n",
       "      <td>1634.000000</td>\n",
       "      <td>2.400000</td>\n",
       "    </tr>\n",
       "    <tr>\n",
       "      <th>25%</th>\n",
       "      <td>1772.000000</td>\n",
       "      <td>3.190000</td>\n",
       "    </tr>\n",
       "    <tr>\n",
       "      <th>50%</th>\n",
       "      <td>1846.000000</td>\n",
       "      <td>3.380000</td>\n",
       "    </tr>\n",
       "    <tr>\n",
       "      <th>75%</th>\n",
       "      <td>1934.000000</td>\n",
       "      <td>3.502500</td>\n",
       "    </tr>\n",
       "    <tr>\n",
       "      <th>max</th>\n",
       "      <td>2050.000000</td>\n",
       "      <td>3.810000</td>\n",
       "    </tr>\n",
       "  </tbody>\n",
       "</table>\n",
       "</div>"
      ],
      "text/plain": [
       "               SAT        GPA\n",
       "count    84.000000  84.000000\n",
       "mean   1845.273810   3.330238\n",
       "std     104.530661   0.271617\n",
       "min    1634.000000   2.400000\n",
       "25%    1772.000000   3.190000\n",
       "50%    1846.000000   3.380000\n",
       "75%    1934.000000   3.502500\n",
       "max    2050.000000   3.810000"
      ]
     },
     "execution_count": 66,
     "metadata": {},
     "output_type": "execute_result"
    }
   ],
   "source": [
    "data.describe()"
   ]
  },
  {
   "cell_type": "markdown",
   "id": "58f86b37",
   "metadata": {},
   "source": [
    "# let's explore the data frame problems.\n",
    "\n",
    "<b> we have sample of 84 students who studied in college. <br>\n",
    "the total <b> SAT = Critical-Reading + Mathematics + writing <br>\n",
    "<b> while the GPA = Grade point average(at graduation from university). <br>\n",
    "    \n",
    "<b> we will create a linear regression that will predict the GPA based on the SAT score obtained.\n",
    "    \n",
    "    <b> this can be done through this process:\n",
    "        Get a score <-------All college-----Graduate with some GPA.\n",
    "                                \n",
    "                         pls its important to create a meaningful regresion.\n",
    "                   \n"
   ]
  },
  {
   "cell_type": "markdown",
   "id": "418b7b4c",
   "metadata": {},
   "source": [
    "# why would i predict with SAT?\n",
    "\n",
    "### 1. the SAT is considered one of the best estimatios of intellectual capacity and capability. ie on average, if you did well in SAT you will do well in college and in working places.\n",
    "\n",
    "### 2. Almost all college across the USA are using the SAT are a proxy for admission\n",
    "\n",
    "### 3. The SAT stood the test of time, which establish it's self as a leading exam for admissions.\n",
    "\n",
    "# therefore it's safety to say our regression makes sense"
   ]
  },
  {
   "cell_type": "markdown",
   "id": "b9493ab9",
   "metadata": {},
   "source": [
    "# Create our first regression.\n",
    "\n",
    "#### Define the dependent and the independent variables.\n",
    "\n",
    "## formular: yhat = b0 + b1x1. \n",
    "\n",
    "### our dependent variable is GPA, therefore our variable should be called y, which conatin the GPA.\n",
    "\n",
    "### independent variable is x1"
   ]
  },
  {
   "cell_type": "code",
   "execution_count": 67,
   "id": "96fc0e99",
   "metadata": {},
   "outputs": [],
   "source": [
    "y = data['GPA']\n",
    "x1 = data['SAT']"
   ]
  },
  {
   "cell_type": "markdown",
   "id": "233b7a52",
   "metadata": {},
   "source": [
    "# Explore the data"
   ]
  },
  {
   "cell_type": "code",
   "execution_count": 68,
   "id": "1fcf3c8b",
   "metadata": {},
   "outputs": [
    {
     "data": {
      "image/png": "[encoded data removed]",
      "text/plain": [
       "<Figure size 432x288 with 1 Axes>"
      ]
     },
     "metadata": {},
     "output_type": "display_data"
    }
   ],
   "source": [
    "plt.scatter(x1,y)\n",
    "plt.xlabel('SAT', fontsize = 20)\n",
    "plt.ylabel('GPA', fontsize = 20)\n",
    "plt.show()"
   ]
  },
  {
   "cell_type": "markdown",
   "id": "4bca8331",
   "metadata": {},
   "source": [
    "# the graph above shows that the higher the SAT the higher their GPA"
   ]
  },
  {
   "cell_type": "markdown",
   "id": "a9be86ab",
   "metadata": {},
   "source": [
    "# Creating a Regression itself. \n",
    "### remember we have our x1 but no x0"
   ]
  },
  {
   "cell_type": "code",
   "execution_count": 30,
   "id": "0f651d6b",
   "metadata": {},
   "outputs": [
    {
     "data": {
      "text/html": [
       "<table class=\"simpletable\">\n",
       "<caption>OLS Regression Results</caption>\n",
       "<tr>\n",
       "  <th>Dep. Variable:</th>           <td>GPA</td>       <th>  R-squared:         </th> <td>   0.406</td>\n",
       "</tr>\n",
       "<tr>\n",
       "  <th>Model:</th>                   <td>OLS</td>       <th>  Adj. R-squared:    </th> <td>   0.399</td>\n",
       "</tr>\n",
       "<tr>\n",
       "  <th>Method:</th>             <td>Least Squares</td>  <th>  F-statistic:       </th> <td>   56.05</td>\n",
       "</tr>\n",
       "<tr>\n",
       "  <th>Date:</th>             <td>Sat, 09 Apr 2022</td> <th>  Prob (F-statistic):</th> <td>7.20e-11</td>\n",
       "</tr>\n",
       "<tr>\n",
       "  <th>Time:</th>                 <td>16:38:52</td>     <th>  Log-Likelihood:    </th> <td>  12.672</td>\n",
       "</tr>\n",
       "<tr>\n",
       "  <th>No. Observations:</th>      <td>    84</td>      <th>  AIC:               </th> <td>  -21.34</td>\n",
       "</tr>\n",
       "<tr>\n",
       "  <th>Df Residuals:</th>          <td>    82</td>      <th>  BIC:               </th> <td>  -16.48</td>\n",
       "</tr>\n",
       "<tr>\n",
       "  <th>Df Model:</th>              <td>     1</td>      <th>                     </th>     <td> </td>   \n",
       "</tr>\n",
       "<tr>\n",
       "  <th>Covariance Type:</th>      <td>nonrobust</td>    <th>                     </th>     <td> </td>   \n",
       "</tr>\n",
       "</table>\n",
       "<table class=\"simpletable\">\n",
       "<tr>\n",
       "    <td></td>       <th>coef</th>     <th>std err</th>      <th>t</th>      <th>P>|t|</th>  <th>[0.025</th>    <th>0.975]</th>  \n",
       "</tr>\n",
       "<tr>\n",
       "  <th>const</th> <td>    0.2750</td> <td>    0.409</td> <td>    0.673</td> <td> 0.503</td> <td>   -0.538</td> <td>    1.088</td>\n",
       "</tr>\n",
       "<tr>\n",
       "  <th>SAT</th>   <td>    0.0017</td> <td>    0.000</td> <td>    7.487</td> <td> 0.000</td> <td>    0.001</td> <td>    0.002</td>\n",
       "</tr>\n",
       "</table>\n",
       "<table class=\"simpletable\">\n",
       "<tr>\n",
       "  <th>Omnibus:</th>       <td>12.839</td> <th>  Durbin-Watson:     </th> <td>   0.950</td>\n",
       "</tr>\n",
       "<tr>\n",
       "  <th>Prob(Omnibus):</th> <td> 0.002</td> <th>  Jarque-Bera (JB):  </th> <td>  16.155</td>\n",
       "</tr>\n",
       "<tr>\n",
       "  <th>Skew:</th>          <td>-0.722</td> <th>  Prob(JB):          </th> <td>0.000310</td>\n",
       "</tr>\n",
       "<tr>\n",
       "  <th>Kurtosis:</th>      <td> 4.590</td> <th>  Cond. No.          </th> <td>3.29e+04</td>\n",
       "</tr>\n",
       "</table><br/><br/>Notes:<br/>[1] Standard Errors assume that the covariance matrix of the errors is correctly specified.<br/>[2] The condition number is large, 3.29e+04. This might indicate that there are<br/>strong multicollinearity or other numerical problems."
      ],
      "text/plain": [
       "<class 'statsmodels.iolib.summary.Summary'>\n",
       "\"\"\"\n",
       "                            OLS Regression Results                            \n",
       "==============================================================================\n",
       "Dep. Variable:                    GPA   R-squared:                       0.406\n",
       "Model:                            OLS   Adj. R-squared:                  0.399\n",
       "Method:                 Least Squares   F-statistic:                     56.05\n",
       "Date:                Sat, 09 Apr 2022   Prob (F-statistic):           7.20e-11\n",
       "Time:                        16:38:52   Log-Likelihood:                 12.672\n",
       "No. Observations:                  84   AIC:                            -21.34\n",
       "Df Residuals:                      82   BIC:                            -16.48\n",
       "Df Model:                           1                                         \n",
       "Covariance Type:            nonrobust                                         \n",
       "==============================================================================\n",
       "                 coef    std err          t      P>|t|      [0.025      0.975]\n",
       "------------------------------------------------------------------------------\n",
       "const          0.2750      0.409      0.673      0.503      -0.538       1.088\n",
       "SAT            0.0017      0.000      7.487      0.000       0.001       0.002\n",
       "==============================================================================\n",
       "Omnibus:                       12.839   Durbin-Watson:                   0.950\n",
       "Prob(Omnibus):                  0.002   Jarque-Bera (JB):               16.155\n",
       "Skew:                          -0.722   Prob(JB):                     0.000310\n",
       "Kurtosis:                       4.590   Cond. No.                     3.29e+04\n",
       "==============================================================================\n",
       "\n",
       "Notes:\n",
       "[1] Standard Errors assume that the covariance matrix of the errors is correctly specified.\n",
       "[2] The condition number is large, 3.29e+04. This might indicate that there are\n",
       "strong multicollinearity or other numerical problems.\n",
       "\"\"\""
      ]
     },
     "execution_count": 30,
     "metadata": {},
     "output_type": "execute_result"
    }
   ],
   "source": [
    "x = sm.add_constant(x1)\n",
    "result = sm.OLS(y,x).fit()\n",
    "result.summary()"
   ]
  },
  {
   "cell_type": "markdown",
   "id": "e6c32098",
   "metadata": {},
   "source": [
    "# result: this contains the output of the ordinary least squarers (OLS) regression.\n",
    "\n",
    "# fit method: this will apply a specific estimation technique (OLS in this case) to obtain the fit of the model"
   ]
  },
  {
   "cell_type": "markdown",
   "id": "c0a32cae",
   "metadata": {},
   "source": [
    "# let's plot the regression line in same scatter plot."
   ]
  },
  {
   "cell_type": "code",
   "execution_count": 71,
   "id": "6e1449c5",
   "metadata": {},
   "outputs": [
    {
     "data": {
      "image/png": "[encoded data removed]",
      "text/plain": [
       "<Figure size 432x288 with 1 Axes>"
      ]
     },
     "metadata": {},
     "output_type": "display_data"
    }
   ],
   "source": [
    "plt.scatter(x1,y)\n",
    "yhat = 0.0017*x1 + 0.275\n",
    "fig = plt.plot(x1,yhat, lw=4, c='orange', label = 'regression line')\n",
    "plt.xlabel('SAT', fontsize = 20)\n",
    "plt.ylabel('GPA', fontsize = 20)\n",
    "plt.show()"
   ]
  },
  {
   "cell_type": "markdown",
   "id": "baed146f",
   "metadata": {},
   "source": [
    "# Quick lecture about seaborn. this is a package built ontop of matplotlib, prietier while dealing with graph. in the past it overrides matplotlob when imported, but after an update in 2017, it's no more loike that. so we're going to add it above where othere are as well.  in thos course we will coede with matplotlib but use seaborn style."
   ]
  },
  {
   "cell_type": "code",
   "execution_count": null,
   "id": "17c69131",
   "metadata": {},
   "outputs": [],
   "source": []
  },
  {
   "cell_type": "code",
   "execution_count": null,
   "id": "d837c786",
   "metadata": {},
   "outputs": [],
   "source": []
  },
  {
   "cell_type": "markdown",
   "id": "665c8f4d",
   "metadata": {},
   "source": [
    "# How to interpret the Regression table above"
   ]
  },
  {
   "cell_type": "markdown",
   "id": "a18725cc",
   "metadata": {},
   "source": [
    "### The graph is a visual representation of a regression. and what we really want is the equation of the model and the measure of the significant and explanatory power. this is why the regression summarry is consist of few tables instead of a grapgh. in this lesson we'll learn how to read and understand this table.\n",
    "\n",
    "### typically, using stats models three main tables and they're:\n",
    "\n",
    "## 1.  Model summary.\n",
    "## 2. Coefficient Table.\n",
    "## 3. Additional text\n",
    "#### certainly this table contain allots of informations but we will focus on the most important parts."
   ]
  },
  {
   "cell_type": "markdown",
   "id": "4a2213c6",
   "metadata": {},
   "source": [
    "## 2. Coefficient Table. \n",
    "#### we can see the coefficient of the intersept or the costant as they name it here which is (const 0.2750). <br>\n",
    "\n",
    "# formular: yhat = b0+b1x1 <br>\n",
    "<b> this simply means from fromm the formular above: <br>\n",
    "    b0 = 0.275 <br>\n",
    "    b1 = 0.0017 <br>\n",
    "<b> these are the only two numbers we need to define the regression equation. <br>\n",
    "    <b> theefore our equation from the formular is : <br>\n",
    "        yhat = 0.275 + 0.0017 multiply by X1 <br>\n",
    "        or GPA = 0.257 + 0.0017 * SAT. <br>\n",
    "        \n",
    "        so this is how we obtain the SAT scores."
   ]
  },
  {
   "cell_type": "markdown",
   "id": "c9a3a7c2",
   "metadata": {},
   "source": [
    "## now look at how the graph was made:\n",
    "# yhat = 0.0017*x1 + 0.275 = outr regressio line.\n",
    "#### wich was plotted using the plot method, naturally i picked the coefficient from the coefficient table."
   ]
  },
  {
   "cell_type": "markdown",
   "id": "9aa819ba",
   "metadata": {},
   "source": [
    "# How useful is that prediction you may ask?\n",
    "## well knowing that the person ha scored 1700 in the SAT, we can substitude the equation and obtain the following:\n",
    "# = 0.257 + 0.0017 * 1700 = 3.165.\n",
    "\n",
    "## now from our prediction the expected GPA for this student according to our model is 3.165. and that's the predictive power of linear regression."
   ]
  },
  {
   "cell_type": "markdown",
   "id": "f87020b7",
   "metadata": {},
   "source": [
    "# what about the other cells in the same table?\n",
    "## standdard error/ std err: this shows the accuracy of prediction accuracy to each variable. the lower the standard error the better the estimator."
   ]
  },
  {
   "cell_type": "markdown",
   "id": "5b166094",
   "metadata": {},
   "source": [
    "# the next is the t statictics and the |t| value, well if you followed our programe so far you'll know the hypothesis involved here. the non hypothesis in this test is: Beta = 0 ie mathematically: \n",
    "# H0:B = 0.\n",
    "\n",
    "## in other words, is the coefficient = 0?.\n",
    "### "
   ]
  },
  {
   "cell_type": "markdown",
   "id": "4a022a07",
   "metadata": {},
   "source": [
    "# if the coefficient = 0,  ie if b0 =, then the line crosses the y axis at the origin, shown below."
   ]
  },
  {
   "cell_type": "code",
   "execution_count": 32,
   "id": "b2638db6",
   "metadata": {},
   "outputs": [
    {
     "data": {
      "image/png": "[encoded data removed]",
      "text/plain": [
       "<Figure size 432x288 with 1 Axes>"
      ]
     },
     "metadata": {},
     "output_type": "display_data"
    }
   ],
   "source": [
    "plt.scatter(x1,y)\n",
    "yhat = 0.0017*x1 + 0\n",
    "fig = plt.plot(x1,yhat, lw=4, c='red', label = 'regression line')\n",
    "plt.xlabel('SAT', fontsize = 20)\n",
    "plt.ylabel('GPA', fontsize = 20)\n",
    "plt.ylim(0)\n",
    "plt.xlim(0)\n",
    "plt.show()"
   ]
  },
  {
   "cell_type": "markdown",
   "id": "f208f7cc",
   "metadata": {},
   "source": [
    "#  ad if, b1 = 0, and 0 * x = 0, then yhat = b0. \n",
    "# therefore this variable will not be considerable to the model. graphically, that means the regresson line will be horizontal always going through the enterception value "
   ]
  },
  {
   "cell_type": "code",
   "execution_count": 42,
   "id": "f579833e",
   "metadata": {},
   "outputs": [
    {
     "data": {
      "image/png": "[encoded data removed]",
      "text/plain": [
       "<Figure size 432x288 with 1 Axes>"
      ]
     },
     "metadata": {},
     "output_type": "display_data"
    }
   ],
   "source": [
    "plt.scatter(x1,y)\n",
    "yhat = 0*x1 + 0.275\n",
    "fig = plt.plot(x1,yhat, lw=4, c='green', label = 'regression line')\n",
    "plt.xlabel('SAT', fontsize = 20)\n",
    "plt.ylabel('GPA', fontsize = 20)\n",
    "plt.show()"
   ]
  },
  {
   "cell_type": "markdown",
   "id": "0c1d0026",
   "metadata": {},
   "source": [
    "## let's paraphrase this test, questions like:\n",
    "# 1. is this a useful variale?\n",
    "# 2. does it help us explain the variaility we have in this case?\n",
    "\n",
    "## the answer is contained in the p value column ie,  p>|t|, as we know ::\n",
    "### A p-value < 0.05, means that the variable is significant, therefore the coefficient is more probably 0."
   ]
  },
  {
   "cell_type": "markdown",
   "id": "121d1628",
   "metadata": {},
   "source": [
    "# now look below the p-value in the SAT row, you'll see 0.000, what does it means?\n",
    "##  SAT score is a significant variable whe predicting college GPA, what you might noticed is that the intersept p-value is  not 0. let's think about this! the text is asking the question like does it matter that much? do we have enough statistical evidence of intercept the first as zero? we that is not what we're actually looking at."
   ]
  },
  {
   "cell_type": "code",
   "execution_count": null,
   "id": "39562187",
   "metadata": {},
   "outputs": [],
   "source": []
  },
  {
   "cell_type": "markdown",
   "id": "40cc8643",
   "metadata": {},
   "source": [
    "# DECOMPOSITION OF VARIABILITY.\n",
    "## we alredy saw the example of regression model. yhat = b0 + b1X1.\n",
    "# college GPA = 0.275 + 0.0017*SAT.\n",
    "\n",
    "### in this lesson we're going to explore the determinant of a good regresion.\n",
    "# this lesson is based on ANOVA frame-work (You might have heard it before).\n",
    "\n"
   ]
  },
  {
   "cell_type": "markdown",
   "id": "ae34d2aa",
   "metadata": {},
   "source": [
    "# there are three terms we must define:\n",
    "## 1. The sum of the squares total (SST)\n",
    "## 2. The sum of squares regression (SSR)\n",
    "## 3. The sum of squares error (SSE)"
   ]
  },
  {
   "cell_type": "markdown",
   "id": "19b21d4f",
   "metadata": {},
   "source": [
    "# 1. The sum of the squares total (SST) aslso known as Total sum of squares(TSS). \n",
    "\n",
    "##  this is the square differences between the observed dependent variable and it's mean.\n",
    "# ie sum (yi - ybar)**2.\n",
    "### think of as the measure of the total variablity of the dataset"
   ]
  },
  {
   "cell_type": "markdown",
   "id": "0441804e",
   "metadata": {},
   "source": [
    "# 2. The sum of squares regression (SSR) also known as Explained Sum of squares (ESS).\n",
    "\n",
    "## this is the sum of the different between the pedictive value and the mean of the dependent variable.\n",
    "# ie, sum of (yi hat - ybar)**2.\n",
    "### think of as the measurement that explains variability by your line in the graph.\n",
    "### if this avlue of the SSE is =  the sum of  squares total it means that your regression model captures all observed variablity and it's perfect. "
   ]
  },
  {
   "cell_type": "markdown",
   "id": "253c893d",
   "metadata": {},
   "source": [
    "# 3. The sum of squares error (SSE) also known as residual sum of squares(RSS).\n",
    "\n",
    "## the  error is the difference between the observed value and the predictive value. we usually want to minimize the error, the smaller the error the better the estimation power of the regression\n",
    "\n",
    "## therefore this (SSE) measures the unexplained variability by the regression, residual ie remaining or unexplained \n",
    "# ie, sum of (ei**2).\n"
   ]
  },
  {
   "cell_type": "markdown",
   "id": "00819165",
   "metadata": {},
   "source": [
    "# what is the connection among this three?.\n",
    "\n",
    "# mathematically SST = SSR + SSE ie\n",
    "# sum of (yi - ybar)**2 = sumof(yi hat - yar)**2 + sumof(ei**2). ie\n",
    "\n",
    "## total variablity =  variablity explained in the regression line + unexplained variablity(error).\n",
    "\n",
    "# note, always remember that the lower your error the powerful your predictive gression poweful else the lesser"
   ]
  },
  {
   "cell_type": "markdown",
   "id": "5dc29ee8",
   "metadata": {},
   "source": [
    "# What is the OLS"
   ]
  },
  {
   "cell_type": "markdown",
   "id": "54a46e6c",
   "metadata": {},
   "source": [
    "## let's visit our table we'll be walking with the [We have the Dependent variable which is the](GPA ie Dep. Variable = GPA). this s the variable we're trying to predict, obviously it's the GPA. Especially in the begining it's good to double check if you coded the regression properly.\n",
    "\n",
    "## Next we have the [Model which is](OLS, is Model = OLS).\n",
    "# the method is literally close (list Squared)."
   ]
  },
  {
   "cell_type": "markdown",
   "id": "2825aaef",
   "metadata": {},
   "source": [
    "# therefore Odinary Least Squares (OLS) is the most common methods estimate the linear regression equation.\n",
    "# LS stands for minimum squares error or SSE. you may recall that lower error => better explanatory power, therefore this method aims to find the line which mininmizes the sum of the squares error, ie for a better explanatory power.\n",
    "\n",
    "# now to clearify this, imagine having a graph with any lines (regresion lins), the best of is the one closer to all points simutaneously, that's the work of the OLS to determine which is the one with the smallest error.\n",
    "\n",
    "# the formular is:\n",
    "# this is the minimization problem that uses to calculate the linear algebra, to determine the slope and intersept of the line.\n",
    "\n",
    "### min Sum**n =1**e**2i\n",
    "## therefore S(b) is the OLS estimator of B for a simple linear regression.\n",
    "\n",
    "# S(b) = sum(yi - xi**r b)**2 = (y - xb)**t(y-xb)\n",
    "\n",
    "$$\\sum_{j=0}^{+\\infty} A_{j}$$"
   ]
  },
  {
   "cell_type": "markdown",
   "id": "2a1ba77e",
   "metadata": {},
   "source": [
    "# therefore Odinary Least Squares (OLS) is the most common methods estimate the linear regression equation.\n",
    "# LS stands for minimum squares error or SSE. you may recall that lower error => better explanatory power, therefore this method aims to find the line which mininmizes the sum of the squares error, ie for a better explanatory power.\n",
    "\n",
    "# now to clearify this, imagine having a graph with any lines (regresion lins), the best of is the one closer to all points simutaneously, that's the work of the OLS to determine which is the one with the smallest error.\n",
    "\n",
    "# the formular is:\n",
    "# this is the minimization problem that uses to calculate the linear algebra, to determine the slope and intersept of the line.\n",
    "\n",
    "### min Sum**n =1**e**2i\n",
    "## therefore S(b) is the OLS estimator of B for a simple linear regression.\n",
    "\n",
    "# S(b) = sum(yi - xi**r b)**2 = (y - xb)**t(y-xb)\n",
    "\n",
    "$$\\sum_{j=0}^{+\\infty} A_{j}$$\n"
   ]
  },
  {
   "cell_type": "markdown",
   "id": "2d8b5b01",
   "metadata": {},
   "source": [
    "# trying to minimize some of errors on papa, but with dataset that comprises thousands of data this is almost impossible.\n",
    "\n",
    "# nowadays regression analysis is perform through SOFTWARE. beginers statistion perform.\n",
    "\n",
    "# 1. Excel\n",
    "# 2. XPSS\n",
    "# 3. SaS and\n",
    "# 4. Stata for calculations.\n",
    "\n",
    "## data science however favourite programming languages are:\n",
    "\n",
    "# 1. R  language and \n",
    "# 2. Python. as the offer limitliness capabilities and unmatch speed and that's what are aiming for here.\n",
    "\n",
    "# other methods for determining regression line are:\n",
    "\n",
    "# 1. Generalized least squares\n",
    "# 2. maximum likelihood estimation\n",
    "# 3. Bayesian regression\n",
    "# 4. kernel regression\n",
    "# 5. gaussian process regression.\n",
    "\n",
    "# however the OLS is simple and powerful enough, so we'll stick with it."
   ]
  },
  {
   "cell_type": "code",
   "execution_count": null,
   "id": "3fd2e374",
   "metadata": {},
   "outputs": [],
   "source": []
  },
  {
   "cell_type": "markdown",
   "id": "6d23caf1",
   "metadata": {},
   "source": [
    "# the next very important output in this table summary is the R-squared. "
   ]
  },
  {
   "cell_type": "markdown",
   "id": "d1eabdce",
   "metadata": {},
   "source": [
    "## so fat we decomposed the total variabilites into two:\n",
    "# 1. Explained => SSR and\n",
    "# 2. Unexplained SSE.\n",
    "\n",
    "### we've also noticed that the smaller the regrssion error the higher the explanatary power. but this is statistics there must be one widely used method that describes how poweful the regression is right?.\n",
    "##### well unfutunately or futunatly depending on your attitude there maybe: let me introduce you to....\n",
    "# R squared: (R^2).\n",
    "#### this is intuitive and practical tool it's in the right hand it's equal variability explained by the regresion divided by the total variability of the dataset ie.\n",
    "\n",
    "# $R^2$ = SSR divided by SST\n",
    "# this explains the measurement of events occurent. ie\n",
    "# $R^2$ 0------------------------------1: therefore if the $R^2$ = 0 your regression model explains NONE of the variability. while $R^2$ = 1, means your models explains entire variability of the data, but unfutunatly regression who explains the entire variabilities are rare, but we can always encounter variabilities ranging from 0.2 to 0.9. \n",
    "\n",
    "# students always ask what s good $R^2$?.\n",
    "## when do i know that my regression is good enough?\n",
    "### a regret to tell you that there's no answer to that. \n",
    "\n",
    "# in fields such as physics and chemistry, sceintist are looking for $R^2$ between 0.7 and 0.99.\n",
    "# however in social sciences such as Economics, finance and psychology, the $R^2$ of 0.2 or 20% variability explained by the model could be fantastic, it depends on the complexity of the topic and how many variables are believed to be in play.\n",
    "\n",
    "# think about your your icome:\n",
    "### 1. it may depends on your household income includding your parents and spals\n",
    "### 2. Your Education\n",
    "### 3. Tenure\n",
    "### 4. Country you are living in\n",
    "### 5. language you speak.\n",
    "\n",
    "### and all this may still in count $R^2$ < 50% of te variability income, your salary is a very comple issue"
   ]
  },
  {
   "cell_type": "markdown",
   "id": "7150285d",
   "metadata": {},
   "source": [
    "# let's check on our SAT GPA example\n",
    "## College GPA = 0.275+0.0017*SAT.\n",
    "# checking on this you'll find out that our R-squared = 0.406, in order words our SAT explains the 41% of the variablity of the college grade.\n",
    "# therefore $R^2$ 41% is neither good nor bad, it's far away from 90%, well may include that we are missing some important information, other determinant must be considered such as:\n",
    "<ul>\n",
    "    <li>Gender</li> \n",
    "    <li>Income</li> \n",
    "    <li>mode of studies</li> \n",
    "</ul>\n",
    "\n",
    "<b> before agreeing that factor is crucial you should try to understand why, critical thinking requires allots from you, and you must apply it all.\n",
    "    "
   ]
  },
  {
   "cell_type": "markdown",
   "id": "7978d2aa",
   "metadata": {},
   "source": [
    "# UNDERSTANDING WHY GENDER?\n",
    "## women are more likely to outperform than men in high school, but then in higher education more men are into academia. Yea there are many bioses in place here without telling you a female or male candidate are better, scientist shows that a gender gap exist between men and female in education, and gender is an important input to consider for any reggression on the topic "
   ]
  },
  {
   "cell_type": "markdown",
   "id": "14d5f1f8",
   "metadata": {},
   "source": [
    "# UNDERSTANDING WHY INCOME?\n",
    "## well if your household income is low you're more likely to get a per-time job, therefore you have less time to study and proberbly get a lower grade."
   ]
  },
  {
   "cell_type": "markdown",
   "id": "b30dc115",
   "metadata": {},
   "source": [
    "# UNDERSTANDING WHY MODE OF STUDY?\n",
    "## if you have a child or married it'll defnately affect your studies this will reult a lower attendace. Attendancee is one of the most significant factor for your GPA"
   ]
  },
  {
   "cell_type": "markdown",
   "id": "c00ffd1a",
   "metadata": {},
   "source": [
    "# The bottom line is that the $R^2$ measures the goodness of fit of your model, the more factors included in your regression the higher the $R^2$. so should we include GENDER, INCOME, MODE OF STUDY in our regression?. well if according to your reserch and you find it useful why not. "
   ]
  },
  {
   "cell_type": "markdown",
   "id": "170e3866",
   "metadata": {},
   "source": [
    "# MULTIPLE LINEAR REGRESSION.\n",
    "## just as we said ealier that someone income does not depends solely on education bur also with experience the time they have spent on current employer, household-income, tenure, country you are living in and language you speak.\n",
    "\n",
    "## we also said that house prices does not depend solely on the size of the house (big or small) but also on location and year of construction.\n",
    "\n",
    "## college GPA cannot be predicted solely by a student SAT score but also by the high school GPA, INCOME, GENDER, etc.\n",
    "\n",
    "# for us to have a good models we need a multiple regressions, in order to address the higher complexity of problems. the more variable you have the more factors you're considering in the model. in real world things depends on 2,3, or evn 10, 20 factors."
   ]
  },
  {
   "cell_type": "markdown",
   "id": "f342960f",
   "metadata": {},
   "source": [
    "# POPULATION MULTIPLE REGRESSION MODEL.\n",
    "# formular: y = B0 + b1x1 +...+ Bkxk + E. \n",
    "#### it's similar to simple regression, the main diff. is there are bunsh of independent variables.\n",
    "# yhat = B0 + B1x1 + E.\n",
    "## what we are intrested to is the multiple regression Equation. we want to plug-in number and predict outcomes.\n",
    "\n",
    "## yhat = infered value.\n",
    "## b0 is the intercept.\n",
    "## the independent variable range from x1,x2,and xk\n",
    "## b1 to bk are the corresponding coefficient .\n",
    "\n",
    "# Note: Multiple regression is not about the most fitting line anymore. it stops two dimensional, and when we have over three dimensionas, there is no visual way to represent the data. so if it's not about the line, then what's is about?\n",
    "\n",
    "# It's About The Best Fitting Model.\n",
    "## just as we saw from the OLS, whatwe really want is the ascertain a minimun error (SSE).\n",
    "\n",
    "# How Do WE Decrease The Model Error?\n",
    "## well by increassing the explanatory power of the model, SSE and SSR are like communicating vasel remember, each time the lower one the other goes higher, there with each additional variable we increase the explanatory power by 0 or more than 0, we cannot lower it, more variables are of better fitting a better model. lets see how to determine optical number of variable use.\n"
   ]
  },
  {
   "cell_type": "markdown",
   "id": "f59036e9",
   "metadata": {},
   "source": [
    "# ADJUSTING $R^2$"
   ]
  },
  {
   "cell_type": "markdown",
   "id": "af66a6a5",
   "metadata": {},
   "source": [
    "# well i know that i told you that $R^2$ is the mostly used measure of explanatory? well that's almost true, but we have to refine this measure, the new version is called the ADJUSTING  𝑅2. a statistitian will always look at it when performing regression analysis. so what is adjust for?\n",
    "\n",
    "## let's consider two statements we saw in the prevouse lesson:\n",
    "# 1. The $R^2$ measures how much of the total variability is explained by our model.\n",
    "# 2. Multiple regressions are always better than simple ones, as with each additional variable you add, the explantory power may only increase or stay the same, considering the number of variables the ajusted $R^2$ is always smaller than the real one.\n",
    "\n",
    "## the adjusted $R^2$ penalizes excessive use of variables"
   ]
  },
  {
   "cell_type": "markdown",
   "id": "cc650c8c",
   "metadata": {},
   "source": [
    "# our first multiple regression to explain this points"
   ]
  },
  {
   "cell_type": "code",
   "execution_count": null,
   "id": "225a4e32",
   "metadata": {},
   "outputs": [],
   "source": []
  }
 ],
 "metadata": {
  "kernelspec": {
   "display_name": "Python 3",
   "language": "python",
   "name": "python3"
  },
  "language_info": {
   "codemirror_mode": {
    "name": "ipython",
    "version": 3
   },
   "file_extension": ".py",
   "mimetype": "text/x-python",
   "name": "python",
   "nbconvert_exporter": "python",
   "pygments_lexer": "ipython3",
   "version": "3.8.8"
  }
 },
 "nbformat": 4,
 "nbformat_minor": 5
}
