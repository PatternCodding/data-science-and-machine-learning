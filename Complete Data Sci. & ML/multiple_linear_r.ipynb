{
 "cells": [
  {
   "cell_type": "markdown",
   "id": "836b306c",
   "metadata": {},
   "source": [
    "# Multiple Linear Regression"
   ]
  },
  {
   "cell_type": "markdown",
   "id": "3308f474",
   "metadata": {},
   "source": [
    "# importing relevants libraries"
   ]
  },
  {
   "cell_type": "code",
   "execution_count": 8,
   "id": "75ac0ed8",
   "metadata": {},
   "outputs": [],
   "source": [
    "import numpy as np\n",
    "import pandas as pd\n",
    "import matplotlib.pyplot as plt\n",
    "import statsmodels.api as sm\n",
    "#To be added later\n",
    "import seaborn as sns\n",
    "sns.set()"
   ]
  },
  {
   "cell_type": "markdown",
   "id": "59ef7316",
   "metadata": {},
   "source": [
    "# load the data"
   ]
  },
  {
   "cell_type": "code",
   "execution_count": 9,
   "id": "4dbe08d4",
   "metadata": {},
   "outputs": [],
   "source": [
    "data = pd.read_csv('1.02. Multiple linear regression.csv')"
   ]
  },
  {
   "cell_type": "markdown",
   "id": "e66c8b3a",
   "metadata": {},
   "source": [
    "# view data"
   ]
  },
  {
   "cell_type": "code",
   "execution_count": 10,
   "id": "5b8902ca",
   "metadata": {},
   "outputs": [
    {
     "data": {
      "text/html": [
       "<div>\n",
       "<style scoped>\n",
       "    .dataframe tbody tr th:only-of-type {\n",
       "        vertical-align: middle;\n",
       "    }\n",
       "\n",
       "    .dataframe tbody tr th {\n",
       "        vertical-align: top;\n",
       "    }\n",
       "\n",
       "    .dataframe thead th {\n",
       "        text-align: right;\n",
       "    }\n",
       "</style>\n",
       "<table border=\"1\" class=\"dataframe\">\n",
       "  <thead>\n",
       "    <tr style=\"text-align: right;\">\n",
       "      <th></th>\n",
       "      <th>SAT</th>\n",
       "      <th>GPA</th>\n",
       "      <th>Rand 1,2,3</th>\n",
       "    </tr>\n",
       "  </thead>\n",
       "  <tbody>\n",
       "    <tr>\n",
       "      <th>0</th>\n",
       "      <td>1714</td>\n",
       "      <td>2.40</td>\n",
       "      <td>1</td>\n",
       "    </tr>\n",
       "    <tr>\n",
       "      <th>1</th>\n",
       "      <td>1664</td>\n",
       "      <td>2.52</td>\n",
       "      <td>3</td>\n",
       "    </tr>\n",
       "    <tr>\n",
       "      <th>2</th>\n",
       "      <td>1760</td>\n",
       "      <td>2.54</td>\n",
       "      <td>3</td>\n",
       "    </tr>\n",
       "    <tr>\n",
       "      <th>3</th>\n",
       "      <td>1685</td>\n",
       "      <td>2.74</td>\n",
       "      <td>3</td>\n",
       "    </tr>\n",
       "    <tr>\n",
       "      <th>4</th>\n",
       "      <td>1693</td>\n",
       "      <td>2.83</td>\n",
       "      <td>2</td>\n",
       "    </tr>\n",
       "    <tr>\n",
       "      <th>...</th>\n",
       "      <td>...</td>\n",
       "      <td>...</td>\n",
       "      <td>...</td>\n",
       "    </tr>\n",
       "    <tr>\n",
       "      <th>79</th>\n",
       "      <td>1936</td>\n",
       "      <td>3.71</td>\n",
       "      <td>3</td>\n",
       "    </tr>\n",
       "    <tr>\n",
       "      <th>80</th>\n",
       "      <td>1810</td>\n",
       "      <td>3.71</td>\n",
       "      <td>1</td>\n",
       "    </tr>\n",
       "    <tr>\n",
       "      <th>81</th>\n",
       "      <td>1987</td>\n",
       "      <td>3.73</td>\n",
       "      <td>3</td>\n",
       "    </tr>\n",
       "    <tr>\n",
       "      <th>82</th>\n",
       "      <td>1962</td>\n",
       "      <td>3.76</td>\n",
       "      <td>1</td>\n",
       "    </tr>\n",
       "    <tr>\n",
       "      <th>83</th>\n",
       "      <td>2050</td>\n",
       "      <td>3.81</td>\n",
       "      <td>2</td>\n",
       "    </tr>\n",
       "  </tbody>\n",
       "</table>\n",
       "<p>84 rows × 3 columns</p>\n",
       "</div>"
      ],
      "text/plain": [
       "     SAT   GPA  Rand 1,2,3\n",
       "0   1714  2.40           1\n",
       "1   1664  2.52           3\n",
       "2   1760  2.54           3\n",
       "3   1685  2.74           3\n",
       "4   1693  2.83           2\n",
       "..   ...   ...         ...\n",
       "79  1936  3.71           3\n",
       "80  1810  3.71           1\n",
       "81  1987  3.73           3\n",
       "82  1962  3.76           1\n",
       "83  2050  3.81           2\n",
       "\n",
       "[84 rows x 3 columns]"
      ]
     },
     "execution_count": 10,
     "metadata": {},
     "output_type": "execute_result"
    }
   ],
   "source": [
    "data"
   ]
  },
  {
   "cell_type": "markdown",
   "id": "a60e3aef",
   "metadata": {},
   "source": [
    "# create your first multiple regression.\n",
    "\n",
    "## this data is same data we had last time but a slide diff. as it has Random numbers ranging from 1-3 assigned to each variable. and we are 100% sure that this variables cannot predict college GPA, so our new model is:\n",
    "# GPA = b0 + b1SAT + b2Rand1,2,3\n",
    "# ie GPA = b0 plus b1 multiply SAT Plus b2 multiply by the random numbers.."
   ]
  },
  {
   "cell_type": "markdown",
   "id": "b260fdcb",
   "metadata": {},
   "source": [
    "# let's describe the table"
   ]
  },
  {
   "cell_type": "code",
   "execution_count": 11,
   "id": "9a2ffe1e",
   "metadata": {},
   "outputs": [
    {
     "data": {
      "text/html": [
       "<div>\n",
       "<style scoped>\n",
       "    .dataframe tbody tr th:only-of-type {\n",
       "        vertical-align: middle;\n",
       "    }\n",
       "\n",
       "    .dataframe tbody tr th {\n",
       "        vertical-align: top;\n",
       "    }\n",
       "\n",
       "    .dataframe thead th {\n",
       "        text-align: right;\n",
       "    }\n",
       "</style>\n",
       "<table border=\"1\" class=\"dataframe\">\n",
       "  <thead>\n",
       "    <tr style=\"text-align: right;\">\n",
       "      <th></th>\n",
       "      <th>SAT</th>\n",
       "      <th>GPA</th>\n",
       "      <th>Rand 1,2,3</th>\n",
       "    </tr>\n",
       "  </thead>\n",
       "  <tbody>\n",
       "    <tr>\n",
       "      <th>count</th>\n",
       "      <td>84.000000</td>\n",
       "      <td>84.000000</td>\n",
       "      <td>84.000000</td>\n",
       "    </tr>\n",
       "    <tr>\n",
       "      <th>mean</th>\n",
       "      <td>1845.273810</td>\n",
       "      <td>3.330238</td>\n",
       "      <td>2.059524</td>\n",
       "    </tr>\n",
       "    <tr>\n",
       "      <th>std</th>\n",
       "      <td>104.530661</td>\n",
       "      <td>0.271617</td>\n",
       "      <td>0.855192</td>\n",
       "    </tr>\n",
       "    <tr>\n",
       "      <th>min</th>\n",
       "      <td>1634.000000</td>\n",
       "      <td>2.400000</td>\n",
       "      <td>1.000000</td>\n",
       "    </tr>\n",
       "    <tr>\n",
       "      <th>25%</th>\n",
       "      <td>1772.000000</td>\n",
       "      <td>3.190000</td>\n",
       "      <td>1.000000</td>\n",
       "    </tr>\n",
       "    <tr>\n",
       "      <th>50%</th>\n",
       "      <td>1846.000000</td>\n",
       "      <td>3.380000</td>\n",
       "      <td>2.000000</td>\n",
       "    </tr>\n",
       "    <tr>\n",
       "      <th>75%</th>\n",
       "      <td>1934.000000</td>\n",
       "      <td>3.502500</td>\n",
       "      <td>3.000000</td>\n",
       "    </tr>\n",
       "    <tr>\n",
       "      <th>max</th>\n",
       "      <td>2050.000000</td>\n",
       "      <td>3.810000</td>\n",
       "      <td>3.000000</td>\n",
       "    </tr>\n",
       "  </tbody>\n",
       "</table>\n",
       "</div>"
      ],
      "text/plain": [
       "               SAT        GPA  Rand 1,2,3\n",
       "count    84.000000  84.000000   84.000000\n",
       "mean   1845.273810   3.330238    2.059524\n",
       "std     104.530661   0.271617    0.855192\n",
       "min    1634.000000   2.400000    1.000000\n",
       "25%    1772.000000   3.190000    1.000000\n",
       "50%    1846.000000   3.380000    2.000000\n",
       "75%    1934.000000   3.502500    3.000000\n",
       "max    2050.000000   3.810000    3.000000"
      ]
     },
     "execution_count": 11,
     "metadata": {},
     "output_type": "execute_result"
    }
   ],
   "source": [
    "data.describe()"
   ]
  },
  {
   "cell_type": "markdown",
   "id": "ae7988f3",
   "metadata": {},
   "source": [
    "# Creating our fist multiple regression. just as y = GPA, this time we have two explanatory variables, x = SAT and Random variable, what we can do is to declaire x1 as a dataframe containing the two. [[data-frame]]. the rest remains unchanged"
   ]
  },
  {
   "cell_type": "code",
   "execution_count": 12,
   "id": "d0712667",
   "metadata": {},
   "outputs": [],
   "source": [
    "y = data['GPA']\n",
    "x1 = data[['SAT', 'Rand 1,2,3']]"
   ]
  },
  {
   "cell_type": "code",
   "execution_count": 13,
   "id": "c30ef18b",
   "metadata": {},
   "outputs": [],
   "source": [
    "x = sm.add_constant(x1)\n",
    "results = sm.OLS(y,x).fit()"
   ]
  },
  {
   "cell_type": "code",
   "execution_count": 14,
   "id": "749a00ed",
   "metadata": {},
   "outputs": [
    {
     "data": {
      "text/html": [
       "<table class=\"simpletable\">\n",
       "<caption>OLS Regression Results</caption>\n",
       "<tr>\n",
       "  <th>Dep. Variable:</th>           <td>GPA</td>       <th>  R-squared:         </th> <td>   0.407</td>\n",
       "</tr>\n",
       "<tr>\n",
       "  <th>Model:</th>                   <td>OLS</td>       <th>  Adj. R-squared:    </th> <td>   0.392</td>\n",
       "</tr>\n",
       "<tr>\n",
       "  <th>Method:</th>             <td>Least Squares</td>  <th>  F-statistic:       </th> <td>   27.76</td>\n",
       "</tr>\n",
       "<tr>\n",
       "  <th>Date:</th>             <td>Fri, 15 Apr 2022</td> <th>  Prob (F-statistic):</th> <td>6.58e-10</td>\n",
       "</tr>\n",
       "<tr>\n",
       "  <th>Time:</th>                 <td>20:06:19</td>     <th>  Log-Likelihood:    </th> <td>  12.720</td>\n",
       "</tr>\n",
       "<tr>\n",
       "  <th>No. Observations:</th>      <td>    84</td>      <th>  AIC:               </th> <td>  -19.44</td>\n",
       "</tr>\n",
       "<tr>\n",
       "  <th>Df Residuals:</th>          <td>    81</td>      <th>  BIC:               </th> <td>  -12.15</td>\n",
       "</tr>\n",
       "<tr>\n",
       "  <th>Df Model:</th>              <td>     2</td>      <th>                     </th>     <td> </td>   \n",
       "</tr>\n",
       "<tr>\n",
       "  <th>Covariance Type:</th>      <td>nonrobust</td>    <th>                     </th>     <td> </td>   \n",
       "</tr>\n",
       "</table>\n",
       "<table class=\"simpletable\">\n",
       "<tr>\n",
       "       <td></td>         <th>coef</th>     <th>std err</th>      <th>t</th>      <th>P>|t|</th>  <th>[0.025</th>    <th>0.975]</th>  \n",
       "</tr>\n",
       "<tr>\n",
       "  <th>const</th>      <td>    0.2960</td> <td>    0.417</td> <td>    0.710</td> <td> 0.480</td> <td>   -0.533</td> <td>    1.125</td>\n",
       "</tr>\n",
       "<tr>\n",
       "  <th>SAT</th>        <td>    0.0017</td> <td>    0.000</td> <td>    7.432</td> <td> 0.000</td> <td>    0.001</td> <td>    0.002</td>\n",
       "</tr>\n",
       "<tr>\n",
       "  <th>Rand 1,2,3</th> <td>   -0.0083</td> <td>    0.027</td> <td>   -0.304</td> <td> 0.762</td> <td>   -0.062</td> <td>    0.046</td>\n",
       "</tr>\n",
       "</table>\n",
       "<table class=\"simpletable\">\n",
       "<tr>\n",
       "  <th>Omnibus:</th>       <td>12.992</td> <th>  Durbin-Watson:     </th> <td>   0.948</td>\n",
       "</tr>\n",
       "<tr>\n",
       "  <th>Prob(Omnibus):</th> <td> 0.002</td> <th>  Jarque-Bera (JB):  </th> <td>  16.364</td>\n",
       "</tr>\n",
       "<tr>\n",
       "  <th>Skew:</th>          <td>-0.731</td> <th>  Prob(JB):          </th> <td>0.000280</td>\n",
       "</tr>\n",
       "<tr>\n",
       "  <th>Kurtosis:</th>      <td> 4.594</td> <th>  Cond. No.          </th> <td>3.33e+04</td>\n",
       "</tr>\n",
       "</table><br/><br/>Notes:<br/>[1] Standard Errors assume that the covariance matrix of the errors is correctly specified.<br/>[2] The condition number is large, 3.33e+04. This might indicate that there are<br/>strong multicollinearity or other numerical problems."
      ],
      "text/plain": [
       "<class 'statsmodels.iolib.summary.Summary'>\n",
       "\"\"\"\n",
       "                            OLS Regression Results                            \n",
       "==============================================================================\n",
       "Dep. Variable:                    GPA   R-squared:                       0.407\n",
       "Model:                            OLS   Adj. R-squared:                  0.392\n",
       "Method:                 Least Squares   F-statistic:                     27.76\n",
       "Date:                Fri, 15 Apr 2022   Prob (F-statistic):           6.58e-10\n",
       "Time:                        20:06:19   Log-Likelihood:                 12.720\n",
       "No. Observations:                  84   AIC:                            -19.44\n",
       "Df Residuals:                      81   BIC:                            -12.15\n",
       "Df Model:                           2                                         \n",
       "Covariance Type:            nonrobust                                         \n",
       "==============================================================================\n",
       "                 coef    std err          t      P>|t|      [0.025      0.975]\n",
       "------------------------------------------------------------------------------\n",
       "const          0.2960      0.417      0.710      0.480      -0.533       1.125\n",
       "SAT            0.0017      0.000      7.432      0.000       0.001       0.002\n",
       "Rand 1,2,3    -0.0083      0.027     -0.304      0.762      -0.062       0.046\n",
       "==============================================================================\n",
       "Omnibus:                       12.992   Durbin-Watson:                   0.948\n",
       "Prob(Omnibus):                  0.002   Jarque-Bera (JB):               16.364\n",
       "Skew:                          -0.731   Prob(JB):                     0.000280\n",
       "Kurtosis:                       4.594   Cond. No.                     3.33e+04\n",
       "==============================================================================\n",
       "\n",
       "Notes:\n",
       "[1] Standard Errors assume that the covariance matrix of the errors is correctly specified.\n",
       "[2] The condition number is large, 3.33e+04. This might indicate that there are\n",
       "strong multicollinearity or other numerical problems.\n",
       "\"\"\""
      ]
     },
     "execution_count": 14,
     "metadata": {},
     "output_type": "execute_result"
    }
   ],
   "source": [
    "results.summary()"
   ]
  },
  {
   "cell_type": "markdown",
   "id": "12b6ca42",
   "metadata": {},
   "source": [
    "## from here let's compare this table to the old one.\n",
    "### $R^2$ of the old is 0.406 as the new one is 0.407 (explanatory power of the model is increased). \n",
    "### the adjusted $R^2$ of the old is 0.392 as the new one is 0.399. (there's enthusiasm by the adjusted $R^2$, we were penalized for adding an additional variable that had no strong explanatory power, therefore we have added an informations but lost value...).\n",
    "##### the point is you should chealy pick data and exclude useless informations, however one would assume that regression analysis is smatter than that right? adding impractical variable should be pointed out by the model itself somewhere, well you're right.\n",
    "# look at the coefficient table, we have determine the coefficient from Rand 1,2,3 variable but it's P>|t| value is 0.762, remember the non hypothesis of the test. [H0: B = 0]. we cannot reject the null hypothesis at 76% insignificant level, this is incredibly high.\n",
    "\n",
    "# Note: for a coefficient to be statictical significant we want the p-value to be < 0.05.\n",
    "\n",
    "# therefore our conclussion is that the variable Random 1,2,3 not only worsens the explanatory power reflected by the lower adjusted $R^2$, but is also insignificant, therefore we need to drop it totally. Dropping useles variables is very important. we can se that the original model dropped from:\n",
    "\n",
    "# yhat = 0.275 + 0.0017X1 to yhat = 0.296 + 0.0017X1 - 0.0083X2.\n",
    "\n",
    "# the choice of third variable (Df Model) affects the intercept 0.275 and 0.296, therefore whenever you have one variable that's ruing the model do not use them all together. simply because the bias of this variable is reflected into the coefficients of the others, the solution is removing it and running a new one, omitting the problematic predictor.\n",
    "### there's one more consideration of removing a variable from a model. \n",
    "## we can add 100 variables to a model, but this strategy makes regression anylysis futile.\n",
    "# finally the adjusted $R^2$ is the basis for comparing models. it's always make sense to comapre variable of:\n",
    "# 1. Same dependent varibles(y)\n",
    "# 2. Same Dataset.\n",
    "#### if we make comparism of two different variables we'll making apples and orange comparism.\n",
    "#### if its of different dataset it's then apple and crocodile.\n",
    "## as you can see adjust $R^2$ can step in the right direction but cannot be the only measure trusted, causion is adviced where as totor logic and deligence are mandatory. \n",
    "# in our next lesson we'll learn how to assess the overall significance of the model"
   ]
  },
  {
   "cell_type": "code",
   "execution_count": null,
   "id": "aa598ed0",
   "metadata": {},
   "outputs": [],
   "source": []
  },
  {
   "cell_type": "markdown",
   "id": "bd3b5990",
   "metadata": {},
   "source": [
    "# Test for Significant of model(F-Test) "
   ]
  },
  {
   "cell_type": "markdown",
   "id": "a0ff7db7",
   "metadata": {},
   "source": [
    "# one of the measures we haven't spoken about is the F-statistic in the table,.\n",
    "\n",
    "## much like the Z- statistic that follows on normal distributions and the T-statistic that follows on student T distribution, the F-statistic follow on F-distribution, am calling it statistic because it used for test right? . \n",
    "# the F-statistic Test is used for testing overall significance of te model.\n",
    "## the null bypotheses says all the Beta's are equal simutaneously, the alternative hypothesis says at least one Beta defauts from 0. ie hypothesis => H0:B1 = B2 =...=Bk = 0.\n",
    "## why defaults hypothesis => H1:  at least one B1 != 0.\n",
    "\n",
    "# what's the interpretation? ie if all beta's are 0 then none of the independent variables (Xs) matters,  => our model has no merit"
   ]
  },
  {
   "cell_type": "markdown",
   "id": "6747fd96",
   "metadata": {},
   "source": [
    "# let's see the regression summary from the SAT GPA lecture. the F-statistic is 56.05, the cell below is the P-value 7.20e-11, the number is very low it's -0.000, we said overall model is significant, the F-test is important for regression, as it gives us some important insight. now let's the table for the model where we added the Random 1,2,3, that had nothing to do with anything, which the F-statistic is 27.76, and the P-value is -0.000.\n",
    "## now you can see the F-statistic in our first table is lower than the one that has the Random numbers. therefore...\n",
    "#  the lower the F-statistic the closer to a non-significant model, this yet another tool that allows us to compare models, okay that was the tool for overall signinficant models, don't forget to look for the three zeros after the dot."
   ]
  },
  {
   "cell_type": "code",
   "execution_count": null,
   "id": "30e123d2",
   "metadata": {},
   "outputs": [],
   "source": []
  },
  {
   "cell_type": "markdown",
   "id": "2d8a9288",
   "metadata": {},
   "source": [
    "# OLS Assumption.\n"
   ]
  },
  {
   "cell_type": "markdown",
   "id": "ccbe6e57",
   "metadata": {},
   "source": [
    "# so far we've introduced much about. of course most statistic books teaches regression assumption first, we prefare to teach below first, then introduce you to regression Assumption.\n",
    "# Regressions\n",
    "# Causation\n",
    "# Simple LR Model\n",
    "# Multiple LR model\n",
    "# Geometric repres\n",
    "# SST, SSR, SSE\n",
    "# OLS\n",
    "# R-Squared\n",
    "# Adjusted R-Squared\n",
    "# F-Test.\n",
    "## now after covering all the above topics we can now introduce you to regression assumption"
   ]
  },
  {
   "cell_type": "markdown",
   "id": "9a1d0186",
   "metadata": {},
   "source": [
    "# REGRESSION ASSUMPTION: in this lecture we divide them into five(5) assumptions, and you should know all of them before performing any regression analysis, we'll have a seperate lesson for one of, and they're:"
   ]
  },
  {
   "cell_type": "markdown",
   "id": "791427a5",
   "metadata": {},
   "source": [
    "# 1. Linearity(Simplest)=> y = B0 +B1x1 +B2x2 +...+Bkxk + E (Each independent variable is multiplied by the coefficient and sum up to predict the result)\n",
    "# 2. No Endogeneity of regressor(expressed as the co-variance of the error of x's is 0 for any error or X)=> QXE = ):VcrossX,E\n",
    "# 3. Normality and Homoscedasticity(Normality means that the error term is normally distributted as the expected error=0. while Homoscedasticity in plain english means constant variance)=> E ~ N(0,Q^2)\n",
    "# 4. No autocorrelation(ie the co-variance for any terms =0)=> QEiEj = 0:Vcross,i != j (that is the assumption that would stop u from using linear regession)\n",
    "# 5. No Multicollinearity(Multicollinearity is observed when two or more variables has multi-correlations betwen each other).\n",
    "\n",
    "## these are the main regresion assumptions, they're crucial for regression analysis.\n",
    "\n",
    "#### at your work place the biggest mistake you can make is to perform a regression that violates one of these assumptions above.\n"
   ]
  },
  {
   "cell_type": "markdown",
   "id": "0e956ba8",
   "metadata": {},
   "source": [
    "# LINEARITY"
   ]
  },
  {
   "cell_type": "markdown",
   "id": "5cd74561",
   "metadata": {},
   "source": [
    "## just we explained a linear regression is the simplest non trivial relationship. it's called linear because the equation is linear =>  y = B0 +B1x1 +B2x2 + E.\n",
    "## Each independent variable is multiplied by the coefficient and sumed up to predict the dependent variable.\n",
    "### how can you verify if the relationship between multiple variables is linear? the easist way is to choose the independent variable X1 and plot it against the dependent varivale y on a scatter plot, if the data-point falls patterns that looks like a stright line, then linear regression model is suitable just like the ones we've been using since.\n",
    "\n",
    "# what about trying to plot Y againt X, which might bend the regression line. well this would violets the usage of linear regression, rather a curved line would be great."
   ]
  },
  {
   "cell_type": "markdown",
   "id": "f64d574c",
   "metadata": {},
   "source": [
    "# FIXES for Linearity:\n",
    "### linearity seems straightive but there are easy fixes for it.\n",
    "# a. You ca run a non-linear regression or transform the relationship(Nxt lesson)\n",
    "# b. there are exponential transformation\n",
    "# c. there are Log transformation"
   ]
  },
  {
   "cell_type": "markdown",
   "id": "68923a6e",
   "metadata": {},
   "source": [
    "# 2. NO ENDOGENEITY OF REGRESSORS"
   ]
  },
  {
   "cell_type": "markdown",
   "id": "298000da",
   "metadata": {},
   "source": [
    "# this reverses the probation of a line between the independent variables and the errors.\n",
    "# Mathematically expressed in the following way: QXE = 0: Vcrosed X, E.\n",
    "# think about it! in this case the error does the difference between absorbed values and predicted values is corollected with our independent values.\n",
    "## this is a problem refers to omitted variable value bias"
   ]
  },
  {
   "cell_type": "markdown",
   "id": "c7f9634d",
   "metadata": {},
   "source": [
    "# Omitted Variabe Bias: this is introduced to the model when you forget to include a relevant variable, just as each variables explains why they move together and somehwere correlated by Xs. ie(y is explained somewhat correlated by Xs)\n",
    "\n",
    "# similarly Y is also explained by the omited variabele so they're also correlated ie (Y is explained somewhat correlated by omitted x).\n",
    "\n",
    "# chances are the omitted variables are also correlated with at least one independent X ie (X and X are somewhat correlated). \n",
    "### however you forgot to include it as a regressor, therefore everything that you don't explain with your models goes into the error.  so the errors become correlated with everything else  "
   ]
  },
  {
   "cell_type": "markdown",
   "id": "20f78144",
   "metadata": {},
   "source": [
    "# Example: \n",
    "### imagine you're trying to predict the price of buidongs in LONDON based on size! ie price = F(size) this is a rigid model thas has explanatory power,  however from our sample seems that the smaller the size of the houses the higher the price. This is extremly kind of intuitive . \n",
    "# yhat = 11342786 - 132100x1.\n",
    "### we look for remedies and it seems that the covariance of the independent of the variable in the error terms is not 0 ie \n",
    "# QXE != 0. i believe we're missing something crucial, omitted variable bias is hard to fix, think of those things you may have missed that led to poor result! Yhat = b0 + b1X1. we have only one variable but when your variable is exhausted with 10 variable or more you may feel dishertent or loose of hope ie (yhat = b0 + b1x1 + b2x2 + b3x3 + b4x4 + b5x5 + b6x6 + b7x7 + b8x8 + b9x9 + b10x10).\n",
    "# CRITICAL thinking time: \n",
    "#### where do we draw the sample from? \n",
    "#### Can we get a better sample?\n",
    "#### why is bigger real estate cheaper? \n",
    "##### alright let's explore more informations, the prices comprises apartment buildings in cental LONDON  and it's LARGE or BIG ENOUGH, so the problem is not with the sample:\n",
    "## what is it about smaller size that is making it so expensive?\n",
    "## Where are the small houses?\n",
    "\n",
    "# well looking at the sample you realize the sample is from the city of LONDON, where many impoetants aspect of life is constantly going on. now what do you think we're missing? {LOCATION}, maybe in other places this might not be a factor, but in this our examples it's. now let's see the equation now.\n",
    "# yhat = 520365 + 78210xsize + 7126579xcity, now larger properties are more expensive and vice viser. \n",
    "### IMPORTANT REMARK: the interactive exclusion of variable like in this place leads a bias to encoutering counterintuitive estimates that are toxic to your regression analysis .An incorrect inclussion of variable are we saw in our adjusted $R^2$ lecture (Random) lead to in efficient estimate which don't bias the regression and you can immidiatly drop them, but when in doubt just include the variable and try your luck . THEREFORE omitted bias variables is appended in the neck, as it's always:\n",
    "<ul>\n",
    "    <li> always different </li>\n",
    "    <li> always sneaky </li>\n",
    "    <li> only the experienced and advanced                knowledge can help </li>\n",
    "    </ul>\n",
    "# always check for it and if you can't think of anything ask the collegue for an assistant \n",
    "    "
   ]
  },
  {
   "cell_type": "code",
   "execution_count": null,
   "id": "a2ca0937",
   "metadata": {},
   "outputs": [],
   "source": []
  },
  {
   "cell_type": "markdown",
   "id": "b507ab62",
   "metadata": {},
   "source": [
    "# NORMAL AND HOMOSCEDASTICITY\n",
    "### E ~ N(0, $Q^2$)"
   ]
  },
  {
   "cell_type": "markdown",
   "id": "5e80db96",
   "metadata": {},
   "source": [
    "# this comprises three parts:\n",
    "<ol>\n",
    "    <li>Normality</li>\n",
    "    <li>Zero Mean</li>\n",
    "    <li>Homoscedasticity</li>\n",
    "</ol>"
   ]
  },
  {
   "cell_type": "markdown",
   "id": "d9440423",
   "metadata": {},
   "source": [
    "# 1. Normality: this is actually easy, just we assume the error term is normally distributed.\n",
    "<b> Normal distribution is not required for creating regression,but for making inferences.\n",
    "    Remember all regression tables were fall of T-stat. and F-stats?."
   ]
  },
  {
   "cell_type": "markdown",
   "id": "4434d3b2",
   "metadata": {},
   "source": [
    "### well this terms  (t test and f test work because we have assumed the normality of the error terms). what shall we do if the error terms is not normally distributted? YES the central limit theorem, the large samples the central limit theorem applied for error terms too, therefore we can consider normality as a given for us.\n",
    "\n",
    "# whata about the zero mean of the error terms ie(0,before the Q^2)? well if the mean is not expected to be zero then the line is not the best fitten one, however, havin an intercept solves that problem.  so in real life it's unusual to violate this part of the assumption. "
   ]
  },
  {
   "cell_type": "markdown",
   "id": "1ba7e6e5",
   "metadata": {},
   "source": [
    "# What's HOMOSCEDASTICITY (Q^2)\n",
    "<p> this simply means having an equal variance. so the error terms should have an equal variance with one another ie (Q^2E1 = Q^2E2 =...Q^2Ek = Q^2.\n",
    "    what if there was pattern in the variance? well an example of a dataset where errors having a different variance stock in closer in the regression lines and going further away. (heteroscedastic dataset).\n",
    " This would imply that for smaller values for independent and dependent variables we would have a better prediction than for bigger values. And i asure you that we really dont like uncertainty"
   ]
  },
  {
   "cell_type": "markdown",
   "id": "c1befcd7",
   "metadata": {},
   "source": [
    "# REAL LIFE EXAMPLE\n",
    "#### most examples related to income are heteroscedastic with varying variance, if the person is is poor he/she spends money things like food, entertainment, cloths etc. the Wealthier someone is the higher their expenditure. a poor person may be forced to eat garri in the moring, afternoon and night, same thing tomorrow, or addition of concussion rice etc(Low variability). A wealthy person may go the fancy or may go the restaurant throphous are served with a planty champagne and stay home and boil egg next day. the variability of spending habit is tremendous (High variability). therefore we expect  heteroscedasticity ."
   ]
  },
  {
   "cell_type": "markdown",
   "id": "853cf227",
   "metadata": {},
   "source": [
    "# PREVENTING HETEROSCEDASTICITY"
   ]
  },
  {
   "cell_type": "markdown",
   "id": "63473fc2",
   "metadata": {},
   "source": [
    "### 1. Check for omitted variable bias (OVB).\n",
    "### 2. Look for outlies and remove them\n",
    "### 3. Log Transformation (this is the best friend of statistition)"
   ]
  },
  {
   "cell_type": "markdown",
   "id": "b766271c",
   "metadata": {},
   "source": [
    "##### [ Log Transformation]. Naturally log stands for logrithm, for each observations variables calculates the natural log and \n",
    "### 1. then take the log of the variable\n",
    "### 2. then create a regression between the log of Y and the independent axis.  \n",
    "##### conversionally you can take the independent  x that's creating you problems and do thesame."
   ]
  },
  {
   "cell_type": "code",
   "execution_count": null,
   "id": "7cfd83ed",
   "metadata": {},
   "outputs": [],
   "source": []
  },
  {
   "cell_type": "markdown",
   "id": "bc994a4a",
   "metadata": {},
   "source": [
    "# 4. No autocorrelation a.k.a no serial correlation\n",
    "\n",
    "### well this is my least favourite as it cannot be the last.\n",
    "### (ie the co-variance for any terms = 0, ie errors are assumed to be uncorrelated).\n",
    "##### mathematically: => QEiEj = 0:Vcross,i != j.\n",
    "\n",
    "###### where can we observe serial correlation between errors? it's highly unlikely to find a data taken one more mono time known as crossed sectional data. however it's very common in time series data. think about stock prices, everyday you have a new quote for thesame stock (Change every day), the numbers involved have thesame underlying asset. Without going deeper into the finance idealy you want them to be random or predicted by micro factors such as \n",
    "#### GDP\n",
    "#### Tax rate \n",
    "#### political events and so on.\n",
    "\n",
    "<b> unfutunately it's common under developed market to see patterns in the stock prices. there's a well known phenominom called THE-DAY-OF-THE-WEEk-EFFECT"
   ]
  },
  {
   "cell_type": "markdown",
   "id": "a25372ab",
   "metadata": {},
   "source": [
    "# THE-DAY-OF-THE-WEEk-EFFECT.\n",
    "<b>this consist disrespotion of high returns fridays and low returns on mondays.\n",
    "    One possible explanation proposed by noble price person called [Miller], he said that industries don't have time to read all the news imidiatly, so they do that over the weekend. The first day to response to negative informations is on mondays(Sell on momdays). then during the week the advisers give them new positive information and they start buying on thursdays and fridays.\n",
    "    Another famouse explanation is given by the disticquished financial CEO [Keneth French] who suggested forms delays bad news from the weekend therefore the market react on momdays.(It's the weekend.. Time to tell you that our firms is having difficulties)=> everybody sells on momdays.\n",
    "    well whaterver the reason there's correlation of the errors  when building regression about stock prices, the 1st, observations the 6th the 11th and every 5th onward will be mondays, the 5th, 10th and so on will be fridays.\n",
    "    Errors on mondays will be by standwards and errors on fridays will be stopwards the mathematics of linear regression does not consider this. It assume errors should be randomly spread around the regression line. so how does one detect autocorrelation?? </b>\n",
    "  \n",
    "    "
   ]
  },
  {
   "cell_type": "markdown",
   "id": "21291f34",
   "metadata": {},
   "source": [
    "# HOW TO DETECT AUTOCORRELATION.\n",
    "<b> 1. the common way to detect autocorrelation is to plot all the residuals on the grapgh and look for patters, if you can't find any you're safe ie (If there are no patterns to be seen => no autocorrelation).\n",
    "    2. another way is checking on the table you'll see [Durbin-watson]: which we have in summary for the table provided by stat models.\n",
    "    Generally it' values falls between 0 and 4, 2 indicates no autocorrelation, while values below 1 and > 3 cause an alarm. \n",
    "    But what is the remedy we may ask? </b>"
   ]
  },
  {
   "cell_type": "markdown",
   "id": "987f68f0",
   "metadata": {},
   "source": [
    "## Remedy for autocorrelation.\n",
    "<b> the remedy is.... there's no remedy,well if you can remember from the begining of this lecture that we cannot relax this assumption.\n",
    "    The only thing we can do is to avoid using linear regression in such a settin (When in the presence of autocorrelation avoid the linear regression model).\n",
    "    There are other types of regressions to deal with time series data.</b>"
   ]
  },
  {
   "cell_type": "markdown",
   "id": "76f87705",
   "metadata": {},
   "source": [
    "## ALTERNATIVES.\n",
    "<b>\n",
    " Since there are other types of regressions to deal with time series data, we can possibly use the following\n",
    "    1. Autoregressive model\n",
    "    2. Moving average model\n",
    "    3. Autoregressive moving model\n",
    "    4. Autoregressive integrated moving average model.\n",
    "    make your choice your will, but don't use linear regressions when erroe terms are autocorelated\n",
    "</b>"
   ]
  },
  {
   "cell_type": "markdown",
   "id": "c597d53d",
   "metadata": {},
   "source": []
  },
  {
   "cell_type": "markdown",
   "id": "cffd8dbd",
   "metadata": {},
   "source": [
    "# NO MULTICOLLINEARITY (pxixj ~~ 1:Vcrsdi,j; i != j)"
   ]
  },
  {
   "cell_type": "markdown",
   "id": "6c2d744e",
   "metadata": {},
   "source": [
    "##### this is the last assumption. and this is observed when two or more variable have a high correlation. "
   ]
  },
  {
   "cell_type": "markdown",
   "id": "b93a7d52",
   "metadata": {},
   "source": [
    "# EXAMPLIFY with an equation.\n",
    "<b>\n",
    "   a = 2 + 5 * b.\n",
    "    a and b are two varibales with an exact linear combination ie a can be represented using b and b can repesented uding a ie\n",
    "   b = a - 2 / 5, in a model containing a and b we would have pwerfect multicollinearity (Pab = 1), this emposes a big problem to our regression model as the coefficient could be wrongly estimated, the reason is that if a can be represented using , there's no point in using both we can just keep one of them. \n",
    "    \n",
    "   EXAMPLE2. another example would be c and d with the correlation of 90% ie (Pcd = 0.9). If we had a regression model using c and d, we would also have multicollinearity or they'll be imperfect multicollinearity, here the assumption is still vi0lated and emposes a problem to our model, ie (Rationale: if c can be ALMOST represented using d, there's no point in using both)\n",
    "    LET'S USE REAL LIFE EXAMPLE:\n",
    "    there are two bars in neigbourehood [Bonkers] and [Shakespeare] we want to predict the market share of Bonkers. Most peole living in the neigbourehood drinks only beers in te bars so a good approimation will be a model with three variables ie a price of half of pant of beer Bonkers, the price of pint of beers at bonkers and the price of beer in the Shakespeare.\n",
    "MarketShare = F(P1/2pint B, Ppint B, Ppint S).\n",
    "    now if one bar decided to raises prices people will switch bars. So the price in one bar is a predictor of the markert Share of the other bar. Alright where's the problem? \n",
    "    Half pint of beers at Bonkers is cost around $1, and \n",
    "    One pint cost around $1.90. \n",
    "    Bonkers tries to get market share by cutting its price to 90cents. They cannot keep the price of pint of a dollar 90 because people will just buy two times half pint for $1 80cent. Bonkers manage to lower the price of pint of beer to a $1.70, next we run regression bassed on these three variables.\n",
    "    \n",
    "    Coefficients (b) Standard Error t Stat P-value \n",
    "------------------------------------------------------ <br>\n",
    "Intercept                                   0.127 <br>\n",
    "price 1/2pint B                             0.741 <br>\n",
    "price pint B                                0.082 <br>\n",
    "price pint B                                0.000 <br>\n",
    "    \n",
    "This mess up the whole calculations of the computer and provided us with wrong estimator and wrong P-values.\n",
    "    SO HOW DO WE FIX IT?\n",
    "    there are three types of fixes and they're:\n",
    "    <ol>\n",
    "        <li>Drop one of the two variables</li>\n",
    "         <li>Transform them into one(e.g average price</li>\n",
    "         <li>Keep them both, and treat them with extremly causion</li>\n",
    "    </ol>\n",
    "    therefore the correct approach depends on reserch at hand.\n",
    "    Multicollinearity is a big problem but is also the easiest to notice\n",
    "    \n",
    "    PREVENTION:\n",
    "    before creating a regression FIND the correllation between each two pairs of independent variables and you'll know if multicollenearity may arise ie\n",
    "    (Pxi,xj for Vcrs i, j; i != j)\n",
    "</b>"
   ]
  },
  {
   "cell_type": "markdown",
   "id": "879d5c9b",
   "metadata": {},
   "source": [
    "# DEALING WITH CATEGORICAL DATA - DUMMY VARAIBEL."
   ]
  },
  {
   "cell_type": "markdown",
   "id": "e2a0e7f7",
   "metadata": {},
   "source": [
    "##### DUMMY VARIABLES:  this simply means an imitation or copy that stands as a substitude. \n",
    "#### in regression analysis a DUMMY is a variable used to include categorical data into a regression model. so far we used only numerical data such as the SAT, GPA and the Random 1,2,3.\n",
    "##### now we'll include how do we include variables such as GENDER, SEASON and BRAND into our regression analysis we are workng with. \n",
    "##### for instance assuming we take ATTENDANCE as our GPA. we'll be working with a dataset that include attendance, which measures students that has at more than 75% of university lectures, and it's categorical data  so we cannot simply put it into regression, therefore we'll going to use dummy to explore the variale attendance into numerical  "
   ]
  },
  {
   "cell_type": "markdown",
   "id": "f07b63b4",
   "metadata": {},
   "source": [
    "## remember to import the neccesary extensions"
   ]
  },
  {
   "cell_type": "code",
   "execution_count": 15,
   "id": "3f8793a8",
   "metadata": {},
   "outputs": [],
   "source": [
    "raw_data = pd.read_csv('1.03. Dummies.csv')"
   ]
  },
  {
   "cell_type": "code",
   "execution_count": 16,
   "id": "c4d17bd9",
   "metadata": {
    "scrolled": true
   },
   "outputs": [
    {
     "data": {
      "text/html": [
       "<div>\n",
       "<style scoped>\n",
       "    .dataframe tbody tr th:only-of-type {\n",
       "        vertical-align: middle;\n",
       "    }\n",
       "\n",
       "    .dataframe tbody tr th {\n",
       "        vertical-align: top;\n",
       "    }\n",
       "\n",
       "    .dataframe thead th {\n",
       "        text-align: right;\n",
       "    }\n",
       "</style>\n",
       "<table border=\"1\" class=\"dataframe\">\n",
       "  <thead>\n",
       "    <tr style=\"text-align: right;\">\n",
       "      <th></th>\n",
       "      <th>SAT</th>\n",
       "      <th>GPA</th>\n",
       "      <th>Attendance</th>\n",
       "    </tr>\n",
       "  </thead>\n",
       "  <tbody>\n",
       "    <tr>\n",
       "      <th>0</th>\n",
       "      <td>1714</td>\n",
       "      <td>2.40</td>\n",
       "      <td>No</td>\n",
       "    </tr>\n",
       "    <tr>\n",
       "      <th>1</th>\n",
       "      <td>1664</td>\n",
       "      <td>2.52</td>\n",
       "      <td>No</td>\n",
       "    </tr>\n",
       "    <tr>\n",
       "      <th>2</th>\n",
       "      <td>1760</td>\n",
       "      <td>2.54</td>\n",
       "      <td>No</td>\n",
       "    </tr>\n",
       "    <tr>\n",
       "      <th>3</th>\n",
       "      <td>1685</td>\n",
       "      <td>2.74</td>\n",
       "      <td>No</td>\n",
       "    </tr>\n",
       "    <tr>\n",
       "      <th>4</th>\n",
       "      <td>1693</td>\n",
       "      <td>2.83</td>\n",
       "      <td>No</td>\n",
       "    </tr>\n",
       "    <tr>\n",
       "      <th>...</th>\n",
       "      <td>...</td>\n",
       "      <td>...</td>\n",
       "      <td>...</td>\n",
       "    </tr>\n",
       "    <tr>\n",
       "      <th>79</th>\n",
       "      <td>1936</td>\n",
       "      <td>3.71</td>\n",
       "      <td>Yes</td>\n",
       "    </tr>\n",
       "    <tr>\n",
       "      <th>80</th>\n",
       "      <td>1810</td>\n",
       "      <td>3.71</td>\n",
       "      <td>Yes</td>\n",
       "    </tr>\n",
       "    <tr>\n",
       "      <th>81</th>\n",
       "      <td>1987</td>\n",
       "      <td>3.73</td>\n",
       "      <td>No</td>\n",
       "    </tr>\n",
       "    <tr>\n",
       "      <th>82</th>\n",
       "      <td>1962</td>\n",
       "      <td>3.76</td>\n",
       "      <td>Yes</td>\n",
       "    </tr>\n",
       "    <tr>\n",
       "      <th>83</th>\n",
       "      <td>2050</td>\n",
       "      <td>3.81</td>\n",
       "      <td>Yes</td>\n",
       "    </tr>\n",
       "  </tbody>\n",
       "</table>\n",
       "<p>84 rows × 3 columns</p>\n",
       "</div>"
      ],
      "text/plain": [
       "     SAT   GPA Attendance\n",
       "0   1714  2.40         No\n",
       "1   1664  2.52         No\n",
       "2   1760  2.54         No\n",
       "3   1685  2.74         No\n",
       "4   1693  2.83         No\n",
       "..   ...   ...        ...\n",
       "79  1936  3.71        Yes\n",
       "80  1810  3.71        Yes\n",
       "81  1987  3.73         No\n",
       "82  1962  3.76        Yes\n",
       "83  2050  3.81        Yes\n",
       "\n",
       "[84 rows x 3 columns]"
      ]
     },
     "execution_count": 16,
     "metadata": {},
     "output_type": "execute_result"
    }
   ],
   "source": [
    "raw_data"
   ]
  },
  {
   "cell_type": "markdown",
   "id": "85102d93",
   "metadata": {},
   "source": [
    "###### well as you can see this data contains another variable called attendance which has Yes and No acording to the % of the attendace.\n",
    "# HOW DO WE APPLY DUMMY ON THIS ISSUE?\n",
    "##### ofcourse we can't create a regression with a categorical data like this, so what we can do is to map the Yes and No to valus of 1's and 0's. ie Yes = 1. No = 0.\n",
    "##### that's if the student attended up to 75% the dummy will be 1, else 0. (we are going to transform the Yes and No into 1's and 0's).\n",
    "###### in pandas that is done too intuitive. we'll create a new variable called data = raw_data, then override the series attendance in a dataframe."
   ]
  },
  {
   "cell_type": "code",
   "execution_count": 17,
   "id": "d33f6bd1",
   "metadata": {},
   "outputs": [],
   "source": [
    "data = raw_data.copy()"
   ]
  },
  {
   "cell_type": "code",
   "execution_count": 18,
   "id": "5442d888",
   "metadata": {},
   "outputs": [],
   "source": [
    "data['Attendance'] = data['Attendance'].map({'Yes':1, 'No':0})"
   ]
  },
  {
   "cell_type": "code",
   "execution_count": 19,
   "id": "bed5ddda",
   "metadata": {},
   "outputs": [
    {
     "data": {
      "text/html": [
       "<div>\n",
       "<style scoped>\n",
       "    .dataframe tbody tr th:only-of-type {\n",
       "        vertical-align: middle;\n",
       "    }\n",
       "\n",
       "    .dataframe tbody tr th {\n",
       "        vertical-align: top;\n",
       "    }\n",
       "\n",
       "    .dataframe thead th {\n",
       "        text-align: right;\n",
       "    }\n",
       "</style>\n",
       "<table border=\"1\" class=\"dataframe\">\n",
       "  <thead>\n",
       "    <tr style=\"text-align: right;\">\n",
       "      <th></th>\n",
       "      <th>SAT</th>\n",
       "      <th>GPA</th>\n",
       "      <th>Attendance</th>\n",
       "    </tr>\n",
       "  </thead>\n",
       "  <tbody>\n",
       "    <tr>\n",
       "      <th>0</th>\n",
       "      <td>1714</td>\n",
       "      <td>2.40</td>\n",
       "      <td>0</td>\n",
       "    </tr>\n",
       "    <tr>\n",
       "      <th>1</th>\n",
       "      <td>1664</td>\n",
       "      <td>2.52</td>\n",
       "      <td>0</td>\n",
       "    </tr>\n",
       "    <tr>\n",
       "      <th>2</th>\n",
       "      <td>1760</td>\n",
       "      <td>2.54</td>\n",
       "      <td>0</td>\n",
       "    </tr>\n",
       "    <tr>\n",
       "      <th>3</th>\n",
       "      <td>1685</td>\n",
       "      <td>2.74</td>\n",
       "      <td>0</td>\n",
       "    </tr>\n",
       "    <tr>\n",
       "      <th>4</th>\n",
       "      <td>1693</td>\n",
       "      <td>2.83</td>\n",
       "      <td>0</td>\n",
       "    </tr>\n",
       "    <tr>\n",
       "      <th>...</th>\n",
       "      <td>...</td>\n",
       "      <td>...</td>\n",
       "      <td>...</td>\n",
       "    </tr>\n",
       "    <tr>\n",
       "      <th>79</th>\n",
       "      <td>1936</td>\n",
       "      <td>3.71</td>\n",
       "      <td>1</td>\n",
       "    </tr>\n",
       "    <tr>\n",
       "      <th>80</th>\n",
       "      <td>1810</td>\n",
       "      <td>3.71</td>\n",
       "      <td>1</td>\n",
       "    </tr>\n",
       "    <tr>\n",
       "      <th>81</th>\n",
       "      <td>1987</td>\n",
       "      <td>3.73</td>\n",
       "      <td>0</td>\n",
       "    </tr>\n",
       "    <tr>\n",
       "      <th>82</th>\n",
       "      <td>1962</td>\n",
       "      <td>3.76</td>\n",
       "      <td>1</td>\n",
       "    </tr>\n",
       "    <tr>\n",
       "      <th>83</th>\n",
       "      <td>2050</td>\n",
       "      <td>3.81</td>\n",
       "      <td>1</td>\n",
       "    </tr>\n",
       "  </tbody>\n",
       "</table>\n",
       "<p>84 rows × 3 columns</p>\n",
       "</div>"
      ],
      "text/plain": [
       "     SAT   GPA  Attendance\n",
       "0   1714  2.40           0\n",
       "1   1664  2.52           0\n",
       "2   1760  2.54           0\n",
       "3   1685  2.74           0\n",
       "4   1693  2.83           0\n",
       "..   ...   ...         ...\n",
       "79  1936  3.71           1\n",
       "80  1810  3.71           1\n",
       "81  1987  3.73           0\n",
       "82  1962  3.76           1\n",
       "83  2050  3.81           1\n",
       "\n",
       "[84 rows x 3 columns]"
      ]
     },
     "execution_count": 19,
     "metadata": {},
     "output_type": "execute_result"
    }
   ],
   "source": [
    "data"
   ]
  },
  {
   "cell_type": "markdown",
   "id": "048b59fd",
   "metadata": {},
   "source": [
    "### let's see the descriptive statistics of the variables"
   ]
  },
  {
   "cell_type": "code",
   "execution_count": 20,
   "id": "562cc454",
   "metadata": {},
   "outputs": [
    {
     "data": {
      "text/html": [
       "<div>\n",
       "<style scoped>\n",
       "    .dataframe tbody tr th:only-of-type {\n",
       "        vertical-align: middle;\n",
       "    }\n",
       "\n",
       "    .dataframe tbody tr th {\n",
       "        vertical-align: top;\n",
       "    }\n",
       "\n",
       "    .dataframe thead th {\n",
       "        text-align: right;\n",
       "    }\n",
       "</style>\n",
       "<table border=\"1\" class=\"dataframe\">\n",
       "  <thead>\n",
       "    <tr style=\"text-align: right;\">\n",
       "      <th></th>\n",
       "      <th>SAT</th>\n",
       "      <th>GPA</th>\n",
       "      <th>Attendance</th>\n",
       "    </tr>\n",
       "  </thead>\n",
       "  <tbody>\n",
       "    <tr>\n",
       "      <th>count</th>\n",
       "      <td>84.000000</td>\n",
       "      <td>84.000000</td>\n",
       "      <td>84.000000</td>\n",
       "    </tr>\n",
       "    <tr>\n",
       "      <th>mean</th>\n",
       "      <td>1845.273810</td>\n",
       "      <td>3.330238</td>\n",
       "      <td>0.464286</td>\n",
       "    </tr>\n",
       "    <tr>\n",
       "      <th>std</th>\n",
       "      <td>104.530661</td>\n",
       "      <td>0.271617</td>\n",
       "      <td>0.501718</td>\n",
       "    </tr>\n",
       "    <tr>\n",
       "      <th>min</th>\n",
       "      <td>1634.000000</td>\n",
       "      <td>2.400000</td>\n",
       "      <td>0.000000</td>\n",
       "    </tr>\n",
       "    <tr>\n",
       "      <th>25%</th>\n",
       "      <td>1772.000000</td>\n",
       "      <td>3.190000</td>\n",
       "      <td>0.000000</td>\n",
       "    </tr>\n",
       "    <tr>\n",
       "      <th>50%</th>\n",
       "      <td>1846.000000</td>\n",
       "      <td>3.380000</td>\n",
       "      <td>0.000000</td>\n",
       "    </tr>\n",
       "    <tr>\n",
       "      <th>75%</th>\n",
       "      <td>1934.000000</td>\n",
       "      <td>3.502500</td>\n",
       "      <td>1.000000</td>\n",
       "    </tr>\n",
       "    <tr>\n",
       "      <th>max</th>\n",
       "      <td>2050.000000</td>\n",
       "      <td>3.810000</td>\n",
       "      <td>1.000000</td>\n",
       "    </tr>\n",
       "  </tbody>\n",
       "</table>\n",
       "</div>"
      ],
      "text/plain": [
       "               SAT        GPA  Attendance\n",
       "count    84.000000  84.000000   84.000000\n",
       "mean   1845.273810   3.330238    0.464286\n",
       "std     104.530661   0.271617    0.501718\n",
       "min    1634.000000   2.400000    0.000000\n",
       "25%    1772.000000   3.190000    0.000000\n",
       "50%    1846.000000   3.380000    0.000000\n",
       "75%    1934.000000   3.502500    1.000000\n",
       "max    2050.000000   3.810000    1.000000"
      ]
     },
     "execution_count": 20,
     "metadata": {},
     "output_type": "execute_result"
    }
   ],
   "source": [
    "data.describe()"
   ]
  },
  {
   "cell_type": "markdown",
   "id": "a337f0aa",
   "metadata": {},
   "source": [
    "##### Notice that the mean attendad more than 75% is  0.464286, the fact that the mean is < 0.5 shows that there are more 0's than 1's, since the two outcome is 0 and 1, this implies that 46% of the students have attended more than 75%  of the lesson. in any case now we can create a regression that explain the GPA taking  considerations both SAT course and the atteandace"
   ]
  },
  {
   "cell_type": "markdown",
   "id": "255cda5c",
   "metadata": {},
   "source": [
    "## regression\n",
    "<b> we're going to load GPA into y and SAT and Attendance in a x1 variable as a dataframe. and we must use the stat model for adding a constant ie [variable = sm.add_constant], then we can fit() the regression and get the summary as usual. \n",
    "</b>"
   ]
  },
  {
   "cell_type": "code",
   "execution_count": 21,
   "id": "298da424",
   "metadata": {},
   "outputs": [],
   "source": [
    "y = data['GPA']\n",
    "x1 = data[['SAT', 'Attendance']]"
   ]
  },
  {
   "cell_type": "code",
   "execution_count": 22,
   "id": "88238997",
   "metadata": {},
   "outputs": [
    {
     "data": {
      "text/html": [
       "<table class=\"simpletable\">\n",
       "<caption>OLS Regression Results</caption>\n",
       "<tr>\n",
       "  <th>Dep. Variable:</th>           <td>GPA</td>       <th>  R-squared:         </th> <td>   0.565</td>\n",
       "</tr>\n",
       "<tr>\n",
       "  <th>Model:</th>                   <td>OLS</td>       <th>  Adj. R-squared:    </th> <td>   0.555</td>\n",
       "</tr>\n",
       "<tr>\n",
       "  <th>Method:</th>             <td>Least Squares</td>  <th>  F-statistic:       </th> <td>   52.70</td>\n",
       "</tr>\n",
       "<tr>\n",
       "  <th>Date:</th>             <td>Fri, 15 Apr 2022</td> <th>  Prob (F-statistic):</th> <td>2.19e-15</td>\n",
       "</tr>\n",
       "<tr>\n",
       "  <th>Time:</th>                 <td>20:06:30</td>     <th>  Log-Likelihood:    </th> <td>  25.798</td>\n",
       "</tr>\n",
       "<tr>\n",
       "  <th>No. Observations:</th>      <td>    84</td>      <th>  AIC:               </th> <td>  -45.60</td>\n",
       "</tr>\n",
       "<tr>\n",
       "  <th>Df Residuals:</th>          <td>    81</td>      <th>  BIC:               </th> <td>  -38.30</td>\n",
       "</tr>\n",
       "<tr>\n",
       "  <th>Df Model:</th>              <td>     2</td>      <th>                     </th>     <td> </td>   \n",
       "</tr>\n",
       "<tr>\n",
       "  <th>Covariance Type:</th>      <td>nonrobust</td>    <th>                     </th>     <td> </td>   \n",
       "</tr>\n",
       "</table>\n",
       "<table class=\"simpletable\">\n",
       "<tr>\n",
       "       <td></td>         <th>coef</th>     <th>std err</th>      <th>t</th>      <th>P>|t|</th>  <th>[0.025</th>    <th>0.975]</th>  \n",
       "</tr>\n",
       "<tr>\n",
       "  <th>const</th>      <td>    0.6439</td> <td>    0.358</td> <td>    1.797</td> <td> 0.076</td> <td>   -0.069</td> <td>    1.357</td>\n",
       "</tr>\n",
       "<tr>\n",
       "  <th>SAT</th>        <td>    0.0014</td> <td>    0.000</td> <td>    7.141</td> <td> 0.000</td> <td>    0.001</td> <td>    0.002</td>\n",
       "</tr>\n",
       "<tr>\n",
       "  <th>Attendance</th> <td>    0.2226</td> <td>    0.041</td> <td>    5.451</td> <td> 0.000</td> <td>    0.141</td> <td>    0.304</td>\n",
       "</tr>\n",
       "</table>\n",
       "<table class=\"simpletable\">\n",
       "<tr>\n",
       "  <th>Omnibus:</th>       <td>19.560</td> <th>  Durbin-Watson:     </th> <td>   1.009</td>\n",
       "</tr>\n",
       "<tr>\n",
       "  <th>Prob(Omnibus):</th> <td> 0.000</td> <th>  Jarque-Bera (JB):  </th> <td>  27.189</td>\n",
       "</tr>\n",
       "<tr>\n",
       "  <th>Skew:</th>          <td>-1.028</td> <th>  Prob(JB):          </th> <td>1.25e-06</td>\n",
       "</tr>\n",
       "<tr>\n",
       "  <th>Kurtosis:</th>      <td> 4.881</td> <th>  Cond. No.          </th> <td>3.35e+04</td>\n",
       "</tr>\n",
       "</table><br/><br/>Notes:<br/>[1] Standard Errors assume that the covariance matrix of the errors is correctly specified.<br/>[2] The condition number is large, 3.35e+04. This might indicate that there are<br/>strong multicollinearity or other numerical problems."
      ],
      "text/plain": [
       "<class 'statsmodels.iolib.summary.Summary'>\n",
       "\"\"\"\n",
       "                            OLS Regression Results                            \n",
       "==============================================================================\n",
       "Dep. Variable:                    GPA   R-squared:                       0.565\n",
       "Model:                            OLS   Adj. R-squared:                  0.555\n",
       "Method:                 Least Squares   F-statistic:                     52.70\n",
       "Date:                Fri, 15 Apr 2022   Prob (F-statistic):           2.19e-15\n",
       "Time:                        20:06:30   Log-Likelihood:                 25.798\n",
       "No. Observations:                  84   AIC:                            -45.60\n",
       "Df Residuals:                      81   BIC:                            -38.30\n",
       "Df Model:                           2                                         \n",
       "Covariance Type:            nonrobust                                         \n",
       "==============================================================================\n",
       "                 coef    std err          t      P>|t|      [0.025      0.975]\n",
       "------------------------------------------------------------------------------\n",
       "const          0.6439      0.358      1.797      0.076      -0.069       1.357\n",
       "SAT            0.0014      0.000      7.141      0.000       0.001       0.002\n",
       "Attendance     0.2226      0.041      5.451      0.000       0.141       0.304\n",
       "==============================================================================\n",
       "Omnibus:                       19.560   Durbin-Watson:                   1.009\n",
       "Prob(Omnibus):                  0.000   Jarque-Bera (JB):               27.189\n",
       "Skew:                          -1.028   Prob(JB):                     1.25e-06\n",
       "Kurtosis:                       4.881   Cond. No.                     3.35e+04\n",
       "==============================================================================\n",
       "\n",
       "Notes:\n",
       "[1] Standard Errors assume that the covariance matrix of the errors is correctly specified.\n",
       "[2] The condition number is large, 3.35e+04. This might indicate that there are\n",
       "strong multicollinearity or other numerical problems.\n",
       "\"\"\""
      ]
     },
     "execution_count": 22,
     "metadata": {},
     "output_type": "execute_result"
    }
   ],
   "source": [
    "x = sm.add_constant(x1)\n",
    "results = sm.OLS(y,x).fit()\n",
    "results.summary()"
   ]
  },
  {
   "cell_type": "markdown",
   "id": "362e95bf",
   "metadata": {},
   "source": [
    "#### our overall model is significant ie the F-statitic 52.70 and the prob( F-statitic):219e-15.\n",
    "### the SAT scores significant and the dummy significant (Attendance). the Adjusted R squared of this model is 0.555 which is a great improvement to comapre the one without Attendance. the original model without the dummy was:\n",
    "### GPA = 0.275 + 0.0017 * SAT(score of the student).\n",
    "this model including the dummy is:\n",
    "### GPA = 0.6439 + 0.0014 * SAT(score of the student) + 0.2226 * dummy.\n",
    "now we said the dummy is 0 or 1, so if the student did not attend it will then * 0 =>\n",
    "### GPA = 0.6439 + 0.0014 * SAT  + 0.2226 * 0\n",
    " if the student attended the dummy will then * 1 =>\n",
    " ### GPA = 0.6439 + 0.0014 * SAT  + 0.2226 * 1.\n",
    " \n",
    " let's add the intersept of the dummy together, we get :\n",
    " ### ie (0.6439 + 0.2226)\n",
    " ### GPA = 0.8665 + 0.0014 * SAT \n",
    "\n",
    "### let's plot the data. since did not attended(dummy = 0) => GPA = 0.6439 + 0.0014 * SAT.\n",
    "\n",
    "### Attended(Dummy = 1) => GPA = 0.8665 + 0.0014 * SAT\n",
    "\n",
    "##### there will be then two equations which i will call \n",
    "##### yhat_no and yhat_yes"
   ]
  },
  {
   "cell_type": "code",
   "execution_count": 27,
   "id": "d1044aee",
   "metadata": {},
   "outputs": [
    {
     "data": {
      "image/png": "[encoded data removed]",
      "text/plain": [
       "<Figure size 432x288 with 1 Axes>"
      ]
     },
     "metadata": {},
     "output_type": "display_data"
    }
   ],
   "source": [
    "plt.scatter(data['SAT'],y)\n",
    "yhat_no = 0.6439 + 0.0014 * data['SAT']\n",
    "yhat_yes = 0.8665 + 0.0014 * data['SAT']\n",
    "fig = plt.plot(data['SAT'],yhat_no, lw=2, c = '#006837')\n",
    "fig = plt.plot(data['SAT'],yhat_yes, lw=2, c = '#a50026')\n",
    "plt.xlabel('SAT', fontsize = 20)\n",
    "plt.ylabel('SAT', fontsize = 20)\n",
    "plt.show()"
   ]
  },
  {
   "cell_type": "markdown",
   "id": "fe816ad9",
   "metadata": {},
   "source": [
    "##### certainly we can parameterrize this equation but there's no need for such a simple example. \n",
    "##### so what we observed are two equations that have thesame slope but different intercept. which implies that student who attended spread around the upper line, while theopposite are below. On average the GPA of students who attended is 0.2226(dummy coef) higher than students who did not attend. we can even think about this are two seperate regressions. \n",
    "##### let's color the points of the two plots"
   ]
  },
  {
   "cell_type": "code",
   "execution_count": 29,
   "id": "dae0af1e",
   "metadata": {},
   "outputs": [
    {
     "data": {
      "image/png": "[encoded data removed]",
      "text/plain": [
       "<Figure size 432x288 with 1 Axes>"
      ]
     },
     "metadata": {},
     "output_type": "display_data"
    }
   ],
   "source": [
    "plt.scatter(data['SAT'],y, c=data['Attendance'],cmap='RdYlGn_r')\n",
    "yhat_no = 0.6439 + 0.0014 * data['SAT']\n",
    "yhat_yes = 0.8665 + 0.0014 * data['SAT']\n",
    "fig = plt.plot(data['SAT'],yhat_no, lw=2, c = '#006837')\n",
    "fig = plt.plot(data['SAT'],yhat_yes, lw=2, c = '#a50026')\n",
    "plt.xlabel('SAT', fontsize = 20)\n",
    "plt.ylabel('SAT', fontsize = 20)\n",
    "plt.show()"
   ]
  },
  {
   "cell_type": "markdown",
   "id": "4a8f44ab",
   "metadata": {},
   "source": [
    "###### finally i will still put the original regression line"
   ]
  },
  {
   "cell_type": "code",
   "execution_count": 31,
   "id": "f2250c9d",
   "metadata": {},
   "outputs": [
    {
     "data": {
      "image/png": "[encoded data removed]",
      "text/plain": [
       "<Figure size 432x288 with 1 Axes>"
      ]
     },
     "metadata": {},
     "output_type": "display_data"
    }
   ],
   "source": [
    "plt.scatter(data['SAT'],y, c=data['Attendance'],cmap='RdYlGn_r')\n",
    "yhat_no = 0.6439 + 0.0014 * data['SAT']\n",
    "yhat_yes = 0.8665 + 0.0014 * data['SAT']\n",
    "yhat = 0.0017 * data['SAT'] + 0.275\n",
    "fig = plt.plot(data['SAT'],yhat_no, lw=2, c = '#006837', label='regression line1')\n",
    "fig = plt.plot(data['SAT'],yhat_yes, lw=2, c = '#a50026', label='regression line2')\n",
    "fig = plt.plot(data['SAT'],yhat, lw=3, c = '#4C7280', label='regression line')\n",
    "\n",
    "plt.xlabel('SAT', fontsize = 20)\n",
    "plt.ylabel('SAT', fontsize = 20)\n",
    "plt.show()"
   ]
  },
  {
   "cell_type": "markdown",
   "id": "7605d215",
   "metadata": {},
   "source": [
    "#### GPA = 0.8665 + 0.0014 * SAT\n",
    "#### GPA = 0.6439 + 0.0014 * SAT\n",
    "#### GPA = 0.275 + 0.0017 * SAT.\n",
    "\n",
    "##### now to use this models for prediction purposes we need two pieces of informatons, which are\n",
    "## SAT score and if the person attended more than 70% ie[SAT and Attendance].\n",
    "\n",
    "##### Ready to make a predict ion? there's a statsModel which takes a data frame organized in same way as X, and then make predictions.\n",
    "### we worked with x during our regression right? yeah let's check it out."
   ]
  },
  {
   "cell_type": "code",
   "execution_count": 32,
   "id": "bf34cbdc",
   "metadata": {},
   "outputs": [
    {
     "data": {
      "text/html": [
       "<div>\n",
       "<style scoped>\n",
       "    .dataframe tbody tr th:only-of-type {\n",
       "        vertical-align: middle;\n",
       "    }\n",
       "\n",
       "    .dataframe tbody tr th {\n",
       "        vertical-align: top;\n",
       "    }\n",
       "\n",
       "    .dataframe thead th {\n",
       "        text-align: right;\n",
       "    }\n",
       "</style>\n",
       "<table border=\"1\" class=\"dataframe\">\n",
       "  <thead>\n",
       "    <tr style=\"text-align: right;\">\n",
       "      <th></th>\n",
       "      <th>const</th>\n",
       "      <th>SAT</th>\n",
       "      <th>Attendance</th>\n",
       "    </tr>\n",
       "  </thead>\n",
       "  <tbody>\n",
       "    <tr>\n",
       "      <th>0</th>\n",
       "      <td>1.0</td>\n",
       "      <td>1714</td>\n",
       "      <td>0</td>\n",
       "    </tr>\n",
       "    <tr>\n",
       "      <th>1</th>\n",
       "      <td>1.0</td>\n",
       "      <td>1664</td>\n",
       "      <td>0</td>\n",
       "    </tr>\n",
       "    <tr>\n",
       "      <th>2</th>\n",
       "      <td>1.0</td>\n",
       "      <td>1760</td>\n",
       "      <td>0</td>\n",
       "    </tr>\n",
       "    <tr>\n",
       "      <th>3</th>\n",
       "      <td>1.0</td>\n",
       "      <td>1685</td>\n",
       "      <td>0</td>\n",
       "    </tr>\n",
       "    <tr>\n",
       "      <th>4</th>\n",
       "      <td>1.0</td>\n",
       "      <td>1693</td>\n",
       "      <td>0</td>\n",
       "    </tr>\n",
       "    <tr>\n",
       "      <th>...</th>\n",
       "      <td>...</td>\n",
       "      <td>...</td>\n",
       "      <td>...</td>\n",
       "    </tr>\n",
       "    <tr>\n",
       "      <th>79</th>\n",
       "      <td>1.0</td>\n",
       "      <td>1936</td>\n",
       "      <td>1</td>\n",
       "    </tr>\n",
       "    <tr>\n",
       "      <th>80</th>\n",
       "      <td>1.0</td>\n",
       "      <td>1810</td>\n",
       "      <td>1</td>\n",
       "    </tr>\n",
       "    <tr>\n",
       "      <th>81</th>\n",
       "      <td>1.0</td>\n",
       "      <td>1987</td>\n",
       "      <td>0</td>\n",
       "    </tr>\n",
       "    <tr>\n",
       "      <th>82</th>\n",
       "      <td>1.0</td>\n",
       "      <td>1962</td>\n",
       "      <td>1</td>\n",
       "    </tr>\n",
       "    <tr>\n",
       "      <th>83</th>\n",
       "      <td>1.0</td>\n",
       "      <td>2050</td>\n",
       "      <td>1</td>\n",
       "    </tr>\n",
       "  </tbody>\n",
       "</table>\n",
       "<p>84 rows × 3 columns</p>\n",
       "</div>"
      ],
      "text/plain": [
       "    const   SAT  Attendance\n",
       "0     1.0  1714           0\n",
       "1     1.0  1664           0\n",
       "2     1.0  1760           0\n",
       "3     1.0  1685           0\n",
       "4     1.0  1693           0\n",
       "..    ...   ...         ...\n",
       "79    1.0  1936           1\n",
       "80    1.0  1810           1\n",
       "81    1.0  1987           0\n",
       "82    1.0  1962           1\n",
       "83    1.0  2050           1\n",
       "\n",
       "[84 rows x 3 columns]"
      ]
     },
     "execution_count": 32,
     "metadata": {},
     "output_type": "execute_result"
    }
   ],
   "source": [
    "x"
   ]
  },
  {
   "cell_type": "markdown",
   "id": "abefce91",
   "metadata": {},
   "source": [
    "###### of course x is a dataframe with three columns, const which we added during our code with add conatnt method(x = sm.add_constant(x1) as i said ealier it's a simulation of x zero that contains only ones) SAT and Attendance. Alright let's create a dataframe we'll use for predictions and organize it in same way as X, with three columns [constant, SAT and Attendance], we'll check two students, Bob who got 1700 on SAT and did NOT attend 75% of the lectures. And  Alice, who got 1670 on SAt and attended more than 75% of the lectures.\n",
    "##### in terms of coding the new variable will be called new_data and the pandas will be a dataframe, first column is called const and it's always 1, and the second entry is the SAT which has two entries 1700 and 1670, the third column has two entries which has Attendance with 0 and 1"
   ]
  },
  {
   "cell_type": "code",
   "execution_count": 38,
   "id": "fd1144c4",
   "metadata": {},
   "outputs": [
    {
     "data": {
      "text/html": [
       "<div>\n",
       "<style scoped>\n",
       "    .dataframe tbody tr th:only-of-type {\n",
       "        vertical-align: middle;\n",
       "    }\n",
       "\n",
       "    .dataframe tbody tr th {\n",
       "        vertical-align: top;\n",
       "    }\n",
       "\n",
       "    .dataframe thead th {\n",
       "        text-align: right;\n",
       "    }\n",
       "</style>\n",
       "<table border=\"1\" class=\"dataframe\">\n",
       "  <thead>\n",
       "    <tr style=\"text-align: right;\">\n",
       "      <th></th>\n",
       "      <th>const</th>\n",
       "      <th>SAT</th>\n",
       "      <th>Attendance</th>\n",
       "    </tr>\n",
       "  </thead>\n",
       "  <tbody>\n",
       "    <tr>\n",
       "      <th>0</th>\n",
       "      <td>1</td>\n",
       "      <td>1700</td>\n",
       "      <td>0</td>\n",
       "    </tr>\n",
       "    <tr>\n",
       "      <th>1</th>\n",
       "      <td>1</td>\n",
       "      <td>1670</td>\n",
       "      <td>1</td>\n",
       "    </tr>\n",
       "  </tbody>\n",
       "</table>\n",
       "</div>"
      ],
      "text/plain": [
       "   const   SAT  Attendance\n",
       "0      1  1700           0\n",
       "1      1  1670           1"
      ]
     },
     "execution_count": 38,
     "metadata": {},
     "output_type": "execute_result"
    }
   ],
   "source": [
    "new_data = pd.DataFrame({'const':1, 'SAT':[1700,1670], 'Attendance':[0,1]})\n",
    "new_data = new_data[['const', 'SAT', 'Attendance']]\n",
    "new_data"
   ]
  },
  {
   "cell_type": "markdown",
   "id": "6c2ebaf9",
   "metadata": {},
   "source": [
    "##### the method that allows us to make a prediction is{fit which is our result.predict}. the fit regression is in the variable results = sm.OLS(y,x).fit().\n",
    "#### predict(new_data) method has a single argument called vatriable name"
   ]
  },
  {
   "cell_type": "code",
   "execution_count": 40,
   "id": "68683924",
   "metadata": {},
   "outputs": [
    {
     "data": {
      "text/plain": [
       "0    3.023513\n",
       "1    3.204163\n",
       "dtype: float64"
      ]
     },
     "execution_count": 40,
     "metadata": {},
     "output_type": "execute_result"
    }
   ],
   "source": [
    "predictions = results.predict(new_data)\n",
    "predictions"
   ]
  },
  {
   "cell_type": "markdown",
   "id": "7ed70681",
   "metadata": {},
   "source": [
    "##### now let's add the names of the characters involved for pediction"
   ]
  },
  {
   "cell_type": "code",
   "execution_count": 45,
   "id": "af09fb9d",
   "metadata": {},
   "outputs": [
    {
     "data": {
      "text/html": [
       "<div>\n",
       "<style scoped>\n",
       "    .dataframe tbody tr th:only-of-type {\n",
       "        vertical-align: middle;\n",
       "    }\n",
       "\n",
       "    .dataframe tbody tr th {\n",
       "        vertical-align: top;\n",
       "    }\n",
       "\n",
       "    .dataframe thead th {\n",
       "        text-align: right;\n",
       "    }\n",
       "</style>\n",
       "<table border=\"1\" class=\"dataframe\">\n",
       "  <thead>\n",
       "    <tr style=\"text-align: right;\">\n",
       "      <th></th>\n",
       "      <th>const</th>\n",
       "      <th>SAT</th>\n",
       "      <th>Attendance</th>\n",
       "      <th>predictions</th>\n",
       "    </tr>\n",
       "  </thead>\n",
       "  <tbody>\n",
       "    <tr>\n",
       "      <th>Bob</th>\n",
       "      <td>1</td>\n",
       "      <td>1700</td>\n",
       "      <td>0</td>\n",
       "      <td>3.023513</td>\n",
       "    </tr>\n",
       "    <tr>\n",
       "      <th>Alice</th>\n",
       "      <td>1</td>\n",
       "      <td>1670</td>\n",
       "      <td>1</td>\n",
       "      <td>3.204163</td>\n",
       "    </tr>\n",
       "  </tbody>\n",
       "</table>\n",
       "</div>"
      ],
      "text/plain": [
       "       const   SAT  Attendance  predictions\n",
       "Bob        1  1700           0     3.023513\n",
       "Alice      1  1670           1     3.204163"
      ]
     },
     "execution_count": 45,
     "metadata": {},
     "output_type": "execute_result"
    }
   ],
   "source": [
    "predictionsdf = pd.DataFrame({'predictions':predictions})\n",
    "joined = new_data.join(predictionsdf)\n",
    "joined.rename(index = {0:'Bob', 1: 'Alice'})"
   ]
  },
  {
   "cell_type": "markdown",
   "id": "84c3a427",
   "metadata": {},
   "source": [
    "##### of course we know that Alice scored lower on SAT, but she attended > 75% of lectures. that makes sense, but let's see actually we need a dummy. imagine if we used our previouse model without the dummy variable this would be the case: \n",
    "## GPA = 0.275 + 0.0017 * SAT.\n",
    "##### thus this would have predicted that Bob will graduate with a higher GRADE of 3.17 and Lex with 3.12, this why we need  the dummy variable "
   ]
  }
 ],
 "metadata": {
  "kernelspec": {
   "display_name": "Python 3",
   "language": "python",
   "name": "python3"
  },
  "language_info": {
   "codemirror_mode": {
    "name": "ipython",
    "version": 3
   },
   "file_extension": ".py",
   "mimetype": "text/x-python",
   "name": "python",
   "nbconvert_exporter": "python",
   "pygments_lexer": "ipython3",
   "version": "3.8.8"
  }
 },
 "nbformat": 4,
 "nbformat_minor": 5
}
