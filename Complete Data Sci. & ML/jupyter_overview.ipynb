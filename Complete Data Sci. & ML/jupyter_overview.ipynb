{
 "cells": [
  {
   "cell_type": "markdown",
   "id": "a3890cee",
   "metadata": {},
   "source": [
    "# all the neccessaty shortcuts are: <br>\n",
    "[pree enter] to enter into the cell button <br>\n",
    "[press escape] for an edit to the entire notebook <br>\n",
    "[press ctr + enter] to run a code <br>\n",
    "[press shift + enter] to execute same code and have another cell <br>\n",
    "[press x] to cut a selected cell and v to past same as copy <br>\n",
    "[press esc + s] to save and checkpoint <br>\n",
    "[press A]  after selected a cell. a new empty cell will appea above\n",
    "[press D + D] to delete any cell\n",
    "\n",
    "# Markdown cell <br>\n",
    "this containes only text that cannot be run rather as a coment <br>\n",
    "\n",
    "[press d]: after selected any cell it will authomatically turn to markdown cell <br>\n",
    "[press Y] which is the opposite if d, (for code cell) <br>\n"
   ]
  },
  {
   "cell_type": "markdown",
   "id": "fd9bf6d7",
   "metadata": {},
   "source": [
    "dealing with how python."
   ]
  },
  {
   "cell_type": "markdown",
   "id": "d5ffb84b",
   "metadata": {},
   "source": [
    "# Regression analysis uaing the following models <br>\n",
    "1. Simple linear regression\n",
    "2. Multiple linea regression model\n",
    "3. How to buld a regression\n",
    "4. How to interpret it\n",
    "5. How to compare different models\n",
    "\n",
    "# After that we'll be dealing with:\n",
    "## 1. Advanced Statistical analysis\n",
    "## 2. Machine Leaening (Deep Learning)\n",
    "\n",
    "\n",
    "#### Brace yourself regression analysis is coming"
   ]
  },
  {
   "cell_type": "markdown",
   "id": "cdc6729d",
   "metadata": {},
   "source": [
    "### A linear regression is a linear approximation of a causual realtionship btw two or more variables. <br>\n",
    "#### highly recognized as they are used in making predictions. <br>\n",
    "\n",
    "#                                                   HERE IS THE PROCESS!\n",
    "1. <p> You get sample data <br>\n",
    "2. <p> design a model that explain the sample data <br>\n",
    "3. Make a predictions for the whole population based on the model you developed <br>\n",
    "   \n",
    "# there is a dependent variables: labeled Y been predicted and <br>\n",
    "    independent variable labeled x1,x2,....,xk . <br>\n",
    "    \n",
    "Y = F (x1,x2,...xk)\n",
    "<p> the independent variable y is a function of the indepedent variable x1 to xk <br>\n",
    "    \n",
    " \n",
    " SIMPLE LINEAR REGRESSION MODEL IS THE SIMPLEST LINEAR REGRESSION\n",
    "    \n",
    "    imagine a situation whereby the higher your education the higher your income.\n",
    "    \n",
    "    <em> y = B0 + B1 X1 + e <br>\n",
    "        \n",
    "        y = dependent variable  <br>\n",
    "        x1 = independent variable, as if there is change in x there must be change in y  <br>\n",
    "        B1 is the coefficient of the independent variable. <b> which quantifies the effect of education on income. should B! = 50, that means the for each additional year of education, your income would grow by $50, which implies <br>\n",
    "        \n",
    "        y = B0 + 50 X1 + e \n",
    "         \n",
    "         and other components are the B0 = Constant and the E = error absolom. <br>\n",
    "         in this example you can take the beta zero are the minimum wage, no matter ur education if you have a job you'll get a minimun wage. <br> \n",
    "         this implies after your analysis if you never went to school your prediction is that, income = minimum wage, and no educations means no job.\n",
    "         \n",
    "        \n",
    "      the last term is the ebsolom = E, this represents the error of the estimations, which is the actual diff. the obsrved income of and any income the prediction predicted, on average across all observations.\n",
    "      \n",
    "      \n",
    "      main formula is:\n",
    "      y heart = b0 + b1X1\n",
    "      \n",
    "      yheart = estimated or predicted value.\n",
    "      b0 = estimator of the predicted constant beta zero.\n",
    "      b1 = estimator of beta one, which quantifies the effect the independent (x) on the dependent (y)\n",
    "      X1 = sample data for independent variable"
   ]
  },
  {
   "cell_type": "markdown",
   "id": "36079dea",
   "metadata": {},
   "source": [
    "# CORRELATION VS REGRELASSION.\n",
    "\n",
    "### 1. REGRELASSION analysis is all about how the variable affect the other, or what change it cos to another\n",
    "### 2. CORRELATION doe not capture causality, but the degree into relation btw the two variables (movement together)\n",
    "### 3. REGRELASSION does  imply/based causuality(shows no degree of connection, but cos an effect)\n",
    "### 4.  a property of correlation, is that the correlation btw x and y is thesame as btw y and x. (p(x,y) = p(y,x))\n",
    "### 5. regression is one way. just like our previous example about education. but check the opposite, it doesn't make sense at all\n",
    "### 6. finally the two methods has diff. graphical representation: just as regression uses the best grapg representations which is known as LINEAR REGRESSION. while CORRELATION is a single POINT."
   ]
  },
  {
   "cell_type": "markdown",
   "id": "3141696a",
   "metadata": {},
   "source": [
    "# PACKAGES WE ARE GOING TO USE:\n",
    "<b> import numpy as np <br>\n",
    "<b> import Pandas as pd <br>\n",
    "<b> import Scipy <br>\n",
    "<b> import statsmodels.api as sn <br>\n",
    "<b> import matplotlib as plt <br>\n",
    "<b> import seaborn as sns <br>\n",
    "<b> import sklearn <br>\n"
   ]
  },
  {
   "cell_type": "markdown",
   "id": "5bf5c213",
   "metadata": {},
   "source": [
    "# if you are using ANACONDA, the easiet way to check what you have already is by going opening anaconda prompt. type the following: [conda list. else type conda install package name]\n",
    "\n"
   ]
  },
  {
   "cell_type": "markdown",
   "id": "60472084",
   "metadata": {},
   "source": [
    "# why do we need to packages?\n",
    "## 1. Numpy: is a third-party package allowing us to work with multidimensional array. and everyone who uses python for scientific omputing uses Nympy. the represent a powerful way to work and represent a data.\n",
    "\n",
    "## 2. Pandas: this is a package which allows us to organize data in a tabular form and to attach descriptive labels to the rows and columns.\n",
    "\n",
    "##  3. when your calculations are ready, it's vital to know how to present your result obtained in the graph than's where MATPLOTLIB comes in.\n",
    "# matplotlib: this is a 2D plotting library specifically designed for visualization of Numpy computations. in addition it contains allots of tool that can help you adjust your graph to your likings.\n",
    "\n",
    "## 4. Numpy, Pandas and matplotlib are part of the largest scipy group libraries there:\n",
    "# sciPy is a python equal system containing large tools for sci. cals. suitable for the fields of mathematics, machine learning, Engeneering and more.\n",
    "\n",
    "## 5. Seaborn: this is a python visualization library based on matplotlib. it provides a high interface for drawing attractive statistical grapgics.\n",
    "\n",
    "## 6. statsmodels: this is a package buit on Numpy and SciPy, which integrates with padas. SM provides very good summaries.\n",
    "\n",
    "## 7. scikit-learn: this is one of the most widely used machine leaning libraries. sk learn is the real deal but the statsmodel makes it easy for us to understand"
   ]
  },
  {
   "cell_type": "code",
   "execution_count": null,
   "id": "ca64015c",
   "metadata": {},
   "outputs": [],
   "source": []
  }
 ],
 "metadata": {
  "kernelspec": {
   "display_name": "Python 3",
   "language": "python",
   "name": "python3"
  },
  "language_info": {
   "codemirror_mode": {
    "name": "ipython",
    "version": 3
   },
   "file_extension": ".py",
   "mimetype": "text/x-python",
   "name": "python",
   "nbconvert_exporter": "python",
   "pygments_lexer": "ipython3",
   "version": "3.8.8"
  }
 },
 "nbformat": 4,
 "nbformat_minor": 5
}
