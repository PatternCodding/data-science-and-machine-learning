{
 "cells": [
  {
   "cell_type": "markdown",
   "id": "6a969fdc",
   "metadata": {},
   "source": [
    "## Scikit-learn : \n",
    "<b>\n",
    " Scikit learn now better known as (sklearn) is a machine lerning package for python. it's name came from from Scipy Toolkit meaning addition on top of the package called Scipy. in fact sklearn is built on Numpy, Scipy, Matplilib. this last applications has two major inplecations, first sklean are two fast and efficeint secondly which apply to us it often prefare working with arrays.\n",
    "    So far we worked only with Pandas frame work because of Stats-model(SM). now however even if we manage to process data in pandas we may need to trnasform it into ndarray before feeding it to the algorithm. we'll se that later, for now let's focus on the advantages of Scikit-learn <br>\n",
    "</b> \n",
    "\n"
   ]
  },
  {
   "cell_type": "markdown",
   "id": "f7229e5e",
   "metadata": {},
   "source": [
    "### 1. It boost incredible documentation: <br>\n",
    "whatever doubt you may have on how it works sklearn learn has it in there website application. This can be a great suplimentary for you when youre learning to work with this package. <br>\n",
    "### 2. It's Variety: <br>\n",
    "in terms of machine learning sklearn learn is the leading package right now. <br>\n",
    "##### Regression <br>\n",
    "##### Classification <br>\n",
    "##### Suppoet vector machines <br>\n",
    "##### dimensionality reduction  <br>\n",
    "all this are found under this package sklearn. The weaks budden it range is deep learnig. [tensor-flow, kirox and pytouch] are much better alternative in that case.  <br>\n",
    "### 3. Sklearn is famously Numerical Stable. <br>\n",
    "this is something we have to explain if you never seen an arrow cursed by numerical instability.\n",
    "<b> The basic idea is that training an algorithm is about performing complex mathematical operations in the background when the numbers you're dealing with are too small or too big, your code may break, not because of your programming skill but because the library you're using has some minor inefficiencies which may turn into big problems.\n",
    "    sklearn rarely has those and the community actively contibute on this package whenever an issur arrives. \n",
    "</b>\n",
    "##### theefore sklearn is a machine learning package, you must be  asking Is this part of our program actually dedicaed to machine learning? in the begining of our program you noticed some <br> traditional statitical methods such as: <br>\n",
    "##### 1. leane regression <br>\n",
    "##### 2. Clustering and  <br>\n",
    "##### 3. Logistic regressions  <br>\n",
    "Then there are other methods such as neural network which are a whole allots of surphisticated known as <br>\n",
    "#### MACHINE LEARNING. <br>\n",
    "in fact even above mentioned can be considered are machine methods, many people do so, to distinguish between them we can seperate them into <br>\n",
    "## DEEP LEARNING and <br>\n",
    "## MACHINE LEARNING. <br>\n",
    "in other words the advanced statistic method we are covering in this lecture which are: <br>\n",
    "## LINEAR and <br>\n",
    "## LOGISTIC REGRESSIONS <br>\n",
    "oftern fall under the term machine learning according to neumal sources therefore we are free to refere them as ML.\n"
   ]
  },
  {
   "cell_type": "markdown",
   "id": "3fdbc907",
   "metadata": {},
   "source": [
    "#### SM is a good library for learning purposes while:\n",
    "#### sklearn is good in practice for more professionals \n",
    "and we'll also handle the theory that stands for SM and entrance for klearn.\n",
    "\n",
    "# OUR GAME PLAN:\n",
    "<ol>\n",
    "    <li>first we'll use same example we used before but with skleanr and the difference and why it's good for practice\n",
    "</li>\n",
    "    <li>Second we'll not repeat any ols theory, therefore make sure you've gone through the lesson up till now\n",
    "</li>\n",
    "    <li> \n",
    "    Stats-models fits well wit Pandas, therefore we will work with NumPy slightly more \n",
    "    </li>\n",
    "    <li> \n",
    "    There will be new Synatx and theory\n",
    "    </li>\n",
    "    <li>we'll start with simple linear model or regression</li>\n",
    "</ol>"
   ]
  },
  {
   "cell_type": "markdown",
   "id": "5ab1da07",
   "metadata": {},
   "source": [
    "# Simple linear regression\n",
    "### Import the relevant libraries"
   ]
  },
  {
   "cell_type": "code",
   "execution_count": 34,
   "id": "cada0105",
   "metadata": {},
   "outputs": [],
   "source": [
    "import numpy as np\n",
    "import pandas as pd\n",
    "import matplotlib.pyplot as plt\n",
    "import seaborn as sns\n",
    "# ie seaborn as the fontstyle, no much diff. over here except sklearn instead of statsmodel\n",
    "sns.set()\n",
    "from sklearn.linear_model import LinearRegression\n",
    "# ie the all model needed in creating linear regressions on sklearn"
   ]
  },
  {
   "cell_type": "markdown",
   "id": "f6d4651b",
   "metadata": {},
   "source": [
    "# load the data"
   ]
  },
  {
   "cell_type": "code",
   "execution_count": 35,
   "id": "ed8cc2b4",
   "metadata": {},
   "outputs": [],
   "source": [
    "data = pd.read_csv('1.01. Simple linear regression.csv')"
   ]
  },
  {
   "cell_type": "code",
   "execution_count": 36,
   "id": "2ad627e8",
   "metadata": {},
   "outputs": [
    {
     "data": {
      "text/html": [
       "<div>\n",
       "<style scoped>\n",
       "    .dataframe tbody tr th:only-of-type {\n",
       "        vertical-align: middle;\n",
       "    }\n",
       "\n",
       "    .dataframe tbody tr th {\n",
       "        vertical-align: top;\n",
       "    }\n",
       "\n",
       "    .dataframe thead th {\n",
       "        text-align: right;\n",
       "    }\n",
       "</style>\n",
       "<table border=\"1\" class=\"dataframe\">\n",
       "  <thead>\n",
       "    <tr style=\"text-align: right;\">\n",
       "      <th></th>\n",
       "      <th>SAT</th>\n",
       "      <th>GPA</th>\n",
       "    </tr>\n",
       "  </thead>\n",
       "  <tbody>\n",
       "    <tr>\n",
       "      <th>0</th>\n",
       "      <td>1714</td>\n",
       "      <td>2.40</td>\n",
       "    </tr>\n",
       "    <tr>\n",
       "      <th>1</th>\n",
       "      <td>1664</td>\n",
       "      <td>2.52</td>\n",
       "    </tr>\n",
       "    <tr>\n",
       "      <th>2</th>\n",
       "      <td>1760</td>\n",
       "      <td>2.54</td>\n",
       "    </tr>\n",
       "    <tr>\n",
       "      <th>3</th>\n",
       "      <td>1685</td>\n",
       "      <td>2.74</td>\n",
       "    </tr>\n",
       "    <tr>\n",
       "      <th>4</th>\n",
       "      <td>1693</td>\n",
       "      <td>2.83</td>\n",
       "    </tr>\n",
       "  </tbody>\n",
       "</table>\n",
       "</div>"
      ],
      "text/plain": [
       "    SAT   GPA\n",
       "0  1714  2.40\n",
       "1  1664  2.52\n",
       "2  1760  2.54\n",
       "3  1685  2.74\n",
       "4  1693  2.83"
      ]
     },
     "execution_count": 36,
     "metadata": {},
     "output_type": "execute_result"
    }
   ],
   "source": [
    "data.head()\n",
    "# ie to see the top 5 heads"
   ]
  },
  {
   "cell_type": "markdown",
   "id": "7256ea20",
   "metadata": {},
   "source": [
    "# great, now let's start creating the actual regression.\n",
    "since we are predicting college GPA using SAT score ie (DEPENDENT and INDEPENDENT variables).\n",
    "SAT can e called input or feature instead of independent variable in ML. while our GPA is called output or target, ie our x and y.\n",
    "\n",
    "#### generally there are three types of ML. \n",
    "#### 1. Supervised\n",
    "#### 2. Unsupervsed\n",
    "#### 3. reinforcement.\n",
    "we'll talk about all this letter on, for now it's important to note that we've only seen supervised learning, where we've got inputs and targets.\n",
    "in supervised learning we've got input and targer, as the inputs are the feature we used to produe an outcome in our case the SAT score is our input or feature.  while\n",
    "The target are the correct values we are aiming for in our case the GPA. usually the target are historical values that correspond to a given SAT score. \n",
    "In fact our Machine Algorithm will find the optimal coefficients of a linear regresion model, that when given an SAT score that predicts the GPA of a student. let's continiue with our example.  "
   ]
  },
  {
   "cell_type": "code",
   "execution_count": 67,
   "id": "5f6f4f8d",
   "metadata": {},
   "outputs": [],
   "source": [
    "x = data['SAT']\n",
    "y = data['GPA']\n",
    "\n",
    "# let's check there shapes"
   ]
  },
  {
   "cell_type": "code",
   "execution_count": 68,
   "id": "f3b486f8",
   "metadata": {},
   "outputs": [
    {
     "data": {
      "text/plain": [
       "(84,)"
      ]
     },
     "execution_count": 68,
     "metadata": {},
     "output_type": "execute_result"
    }
   ],
   "source": [
    "x.shape"
   ]
  },
  {
   "cell_type": "code",
   "execution_count": 69,
   "id": "da7c8996",
   "metadata": {},
   "outputs": [
    {
     "data": {
      "text/plain": [
       "(84,)"
      ]
     },
     "execution_count": 69,
     "metadata": {},
     "output_type": "execute_result"
    }
   ],
   "source": [
    "y.shape"
   ]
  },
  {
   "cell_type": "markdown",
   "id": "275e23e6",
   "metadata": {},
   "source": [
    "### they're both vectors of 84 lenghts.\n",
    "let's proceed to feeding them to our algorithm. sklearn takes fully advantange of OOP of python works allots with very well written classes. therefore we need to create an aobject of a given class."
   ]
  },
  {
   "cell_type": "code",
   "execution_count": 70,
   "id": "60f9340f",
   "metadata": {},
   "outputs": [],
   "source": [
    "#reg is now the instance of the LinerRegression class.\n",
    "#let's fit in the regression\n",
    "\n",
    "# reg = LinearRegression()"
   ]
  },
  {
   "cell_type": "code",
   "execution_count": 71,
   "id": "16213ae3",
   "metadata": {},
   "outputs": [],
   "source": [
    "#reg.fit(x, y)"
   ]
  },
  {
   "cell_type": "markdown",
   "id": "58d20606",
   "metadata": {},
   "source": [
    "## Note the order of the inputs and target (x,y) is very very importan else error will occur as sklearn has diff. order than stats models\n",
    "### unfutunately this will give us a error as. it says expected 2D array got 1D array instead:\n",
    "basically our inputs are one dimensional objects which sklearn does not fancy, which can e confirmed at the shape of x which is a single dimensional lenght, what we must do is to reshape it into a matrix. we're not going to change anything, just reshaping it from 1D to 2D therefore we're only going to change their dimensionality. or we could use sklearn method, reshape(-1,1) that's -1 by 1.\n",
    "this is just for simple linear regression, if we had more tha one assumption, we wouldin't use reshape(-1,1)"
   ]
  },
  {
   "cell_type": "code",
   "execution_count": 80,
   "id": "4b7d0a19",
   "metadata": {},
   "outputs": [
    {
     "data": {
      "text/plain": [
       "(84, 1)"
      ]
     },
     "execution_count": 80,
     "metadata": {},
     "output_type": "execute_result"
    }
   ],
   "source": [
    "x_matrix = x.values.reshape(-1,1)\n",
    "x_matrix.shape"
   ]
  },
  {
   "cell_type": "code",
   "execution_count": 81,
   "id": "8f681f11",
   "metadata": {},
   "outputs": [],
   "source": [
    "reg = LinearRegression()"
   ]
  },
  {
   "cell_type": "code",
   "execution_count": 82,
   "id": "698fde9e",
   "metadata": {
    "scrolled": false
   },
   "outputs": [
    {
     "data": {
      "text/plain": [
       "LinearRegression()"
      ]
     },
     "execution_count": 82,
     "metadata": {},
     "output_type": "execute_result"
    }
   ],
   "source": [
    "reg.fit(x_matrix,y)"
   ]
  },
  {
   "cell_type": "markdown",
   "id": "eb00aceb",
   "metadata": {},
   "source": [
    "### the dull line of text which consist the parameter of the fit regression where are the coefficient you may ask?\n",
    " standadization: this is the process of substracting the mean and dividing by the standard deviation, ie it's (a type of normalization).\n",
    " Copy_x_true: this is set to be true it then copies the inputs beforefe feeding them therefore it's(a safety net against normalization and other transformatons that can be done by sklearn while creating and algorithm. unlike stats model where we created many copies of data frame, but here sklearn takes care of that authomatically). \n",
    " fit_intercept = True: in stats model we have to authomatically add the constan, but here the fit parameter takes care of that if you don't want intercept you can just set it to false.\n",
    " finally n_jobs: this is a parameter used when we want to parallelize routines(by deafult only one CPU is used).\n",
    " in this simple example we won't see more than one unless if we work with allots and allots of data we can then set the CPU to 2,3,4,5 and so on."
   ]
  },
  {
   "cell_type": "markdown",
   "id": "f31abcd7",
   "metadata": {},
   "source": [
    "# R-squared($R^2$).\n",
    "to get the r-squred with sklearn we use the method called(score) "
   ]
  },
  {
   "cell_type": "code",
   "execution_count": 83,
   "id": "7a87c7dc",
   "metadata": {},
   "outputs": [
    {
     "data": {
      "text/plain": [
       "0.40600391479679765"
      ]
     },
     "execution_count": 83,
     "metadata": {},
     "output_type": "execute_result"
    }
   ],
   "source": [
    "reg.score(x_matrix,y)"
   ]
  },
  {
   "cell_type": "markdown",
   "id": "1cd3a001",
   "metadata": {},
   "source": [
    "###### the result is same as the one we found on stats model.\n",
    "## Let's see the coefficeint, uses coef_"
   ]
  },
  {
   "cell_type": "code",
   "execution_count": 84,
   "id": "c954cb6b",
   "metadata": {},
   "outputs": [
    {
     "data": {
      "text/plain": [
       "array([0.00165569])"
      ]
     },
     "execution_count": 84,
     "metadata": {},
     "output_type": "execute_result"
    }
   ],
   "source": [
    "reg.coef_"
   ]
  },
  {
   "cell_type": "markdown",
   "id": "200c0c25",
   "metadata": {},
   "source": [
    "### the result is an ND arrays containing all coefficients.\n",
    "when we get to the multiple regression lectures, this array will be filled with the coefficients of each of the features\n",
    "# let's get the intercept"
   ]
  },
  {
   "cell_type": "code",
   "execution_count": 85,
   "id": "5f8ab691",
   "metadata": {},
   "outputs": [
    {
     "data": {
      "text/plain": [
       "0.2750402996602803"
      ]
     },
     "execution_count": 85,
     "metadata": {},
     "output_type": "execute_result"
    }
   ],
   "source": [
    "reg.intercept_"
   ]
  },
  {
   "cell_type": "markdown",
   "id": "66d44dca",
   "metadata": {},
   "source": [
    "##### this time we got a float instead of an array. \n",
    "this is because this type of regression is a simple one which always has a single intercept.\n",
    "since we've covered most of the basic let's see how we can\n",
    "# Make a prediction using the SAT scores:\n",
    "there's a dedicated method called predict, which returns the prediction model for some inputs, and we can take advantage on that.\n",
    "for instance reg.predict(1740) will give us predicted GPA for an SAT score of 1740"
   ]
  },
  {
   "cell_type": "markdown",
   "id": "09366669",
   "metadata": {},
   "source": [
    "# make a prediction"
   ]
  },
  {
   "cell_type": "code",
   "execution_count": 87,
   "id": "ab14a38d",
   "metadata": {},
   "outputs": [
    {
     "data": {
      "text/html": [
       "<div>\n",
       "<style scoped>\n",
       "    .dataframe tbody tr th:only-of-type {\n",
       "        vertical-align: middle;\n",
       "    }\n",
       "\n",
       "    .dataframe tbody tr th {\n",
       "        vertical-align: top;\n",
       "    }\n",
       "\n",
       "    .dataframe thead th {\n",
       "        text-align: right;\n",
       "    }\n",
       "</style>\n",
       "<table border=\"1\" class=\"dataframe\">\n",
       "  <thead>\n",
       "    <tr style=\"text-align: right;\">\n",
       "      <th></th>\n",
       "      <th>SAT</th>\n",
       "    </tr>\n",
       "  </thead>\n",
       "  <tbody>\n",
       "    <tr>\n",
       "      <th>0</th>\n",
       "      <td>1740</td>\n",
       "    </tr>\n",
       "    <tr>\n",
       "      <th>1</th>\n",
       "      <td>1700</td>\n",
       "    </tr>\n",
       "  </tbody>\n",
       "</table>\n",
       "</div>"
      ],
      "text/plain": [
       "    SAT\n",
       "0  1740\n",
       "1  1700"
      ]
     },
     "execution_count": 87,
     "metadata": {},
     "output_type": "execute_result"
    }
   ],
   "source": [
    "new_data = pd.DataFrame(data = [1740,1700],columns=['SAT'])\n",
    "new_data"
   ]
  },
  {
   "cell_type": "code",
   "execution_count": 88,
   "id": "dd4f08e1",
   "metadata": {},
   "outputs": [
    {
     "data": {
      "text/plain": [
       "array([3.15593751, 3.08970998])"
      ]
     },
     "execution_count": 88,
     "metadata": {},
     "output_type": "execute_result"
    }
   ],
   "source": [
    "reg.predict(new_data)"
   ]
  },
  {
   "cell_type": "markdown",
   "id": "5380821f",
   "metadata": {},
   "source": [
    "### the resuly is an array with two predictions.\n",
    "let's try run the predicted data directly"
   ]
  },
  {
   "cell_type": "code",
   "execution_count": 89,
   "id": "df7a8d1c",
   "metadata": {},
   "outputs": [],
   "source": [
    "new_data['predicted_GPA'] = reg.predict(new_data)"
   ]
  },
  {
   "cell_type": "code",
   "execution_count": 90,
   "id": "a32d3ca5",
   "metadata": {},
   "outputs": [
    {
     "data": {
      "text/html": [
       "<div>\n",
       "<style scoped>\n",
       "    .dataframe tbody tr th:only-of-type {\n",
       "        vertical-align: middle;\n",
       "    }\n",
       "\n",
       "    .dataframe tbody tr th {\n",
       "        vertical-align: top;\n",
       "    }\n",
       "\n",
       "    .dataframe thead th {\n",
       "        text-align: right;\n",
       "    }\n",
       "</style>\n",
       "<table border=\"1\" class=\"dataframe\">\n",
       "  <thead>\n",
       "    <tr style=\"text-align: right;\">\n",
       "      <th></th>\n",
       "      <th>SAT</th>\n",
       "      <th>predicted_GPA</th>\n",
       "    </tr>\n",
       "  </thead>\n",
       "  <tbody>\n",
       "    <tr>\n",
       "      <th>0</th>\n",
       "      <td>1740</td>\n",
       "      <td>3.155938</td>\n",
       "    </tr>\n",
       "    <tr>\n",
       "      <th>1</th>\n",
       "      <td>1700</td>\n",
       "      <td>3.089710</td>\n",
       "    </tr>\n",
       "  </tbody>\n",
       "</table>\n",
       "</div>"
      ],
      "text/plain": [
       "    SAT  predicted_GPA\n",
       "0  1740       3.155938\n",
       "1  1700       3.089710"
      ]
     },
     "execution_count": 90,
     "metadata": {},
     "output_type": "execute_result"
    }
   ],
   "source": [
    "new_data"
   ]
  },
  {
   "cell_type": "markdown",
   "id": "bac8c32a",
   "metadata": {},
   "source": [
    "## finally we can plot the regression using thesame code as before."
   ]
  },
  {
   "cell_type": "code",
   "execution_count": 92,
   "id": "bca697e3",
   "metadata": {},
   "outputs": [
    {
     "data": {
      "image/png": "[encoded data removed]",
      "text/plain": [
       "<Figure size 432x288 with 1 Axes>"
      ]
     },
     "metadata": {},
     "output_type": "display_data"
    }
   ],
   "source": [
    "plt.scatter(x,y)\n",
    "yhat = 0.0017*x + 0.275\n",
    "fig = plt.plot(x,yhat, lw=4, c='orange', label = 'regression line')\n",
    "plt.xlabel('SAT', fontsize = 20)\n",
    "plt.ylabel('GPA', fontsize = 20)\n",
    "plt.show()"
   ]
  },
  {
   "cell_type": "code",
   "execution_count": null,
   "id": "e1e4673e",
   "metadata": {},
   "outputs": [],
   "source": []
  },
  {
   "cell_type": "markdown",
   "id": "a74b9704",
   "metadata": {},
   "source": [
    "# Multiple Linear Regression"
   ]
  },
  {
   "cell_type": "markdown",
   "id": "16378f84",
   "metadata": {},
   "source": [
    "# load the data"
   ]
  },
  {
   "cell_type": "code",
   "execution_count": 95,
   "id": "0294e71d",
   "metadata": {},
   "outputs": [
    {
     "data": {
      "text/html": [
       "<div>\n",
       "<style scoped>\n",
       "    .dataframe tbody tr th:only-of-type {\n",
       "        vertical-align: middle;\n",
       "    }\n",
       "\n",
       "    .dataframe tbody tr th {\n",
       "        vertical-align: top;\n",
       "    }\n",
       "\n",
       "    .dataframe thead th {\n",
       "        text-align: right;\n",
       "    }\n",
       "</style>\n",
       "<table border=\"1\" class=\"dataframe\">\n",
       "  <thead>\n",
       "    <tr style=\"text-align: right;\">\n",
       "      <th></th>\n",
       "      <th>SAT</th>\n",
       "      <th>GPA</th>\n",
       "      <th>Rand 1,2,3</th>\n",
       "    </tr>\n",
       "  </thead>\n",
       "  <tbody>\n",
       "    <tr>\n",
       "      <th>0</th>\n",
       "      <td>1714</td>\n",
       "      <td>2.40</td>\n",
       "      <td>1</td>\n",
       "    </tr>\n",
       "    <tr>\n",
       "      <th>1</th>\n",
       "      <td>1664</td>\n",
       "      <td>2.52</td>\n",
       "      <td>3</td>\n",
       "    </tr>\n",
       "    <tr>\n",
       "      <th>2</th>\n",
       "      <td>1760</td>\n",
       "      <td>2.54</td>\n",
       "      <td>3</td>\n",
       "    </tr>\n",
       "    <tr>\n",
       "      <th>3</th>\n",
       "      <td>1685</td>\n",
       "      <td>2.74</td>\n",
       "      <td>3</td>\n",
       "    </tr>\n",
       "    <tr>\n",
       "      <th>4</th>\n",
       "      <td>1693</td>\n",
       "      <td>2.83</td>\n",
       "      <td>2</td>\n",
       "    </tr>\n",
       "  </tbody>\n",
       "</table>\n",
       "</div>"
      ],
      "text/plain": [
       "    SAT   GPA  Rand 1,2,3\n",
       "0  1714  2.40           1\n",
       "1  1664  2.52           3\n",
       "2  1760  2.54           3\n",
       "3  1685  2.74           3\n",
       "4  1693  2.83           2"
      ]
     },
     "execution_count": 95,
     "metadata": {},
     "output_type": "execute_result"
    }
   ],
   "source": [
    "data = pd.read_csv('1.02. Multiple linear regression.csv')\n",
    "data.head()"
   ]
  },
  {
   "cell_type": "markdown",
   "id": "05df4cb8",
   "metadata": {},
   "source": [
    "### of course we already know that, SAT score is a good predictor of the GPA. Rand 1,2,3 is a varable which Randomly assignd 1,2 or 3 to each sample.\n",
    "#### here it's helpful to know that sample is a \"Machine learning word\" for observation. wherenever you hear 84 samples it simply means 84 observations.\n"
   ]
  },
  {
   "cell_type": "code",
   "execution_count": 96,
   "id": "81158715",
   "metadata": {},
   "outputs": [
    {
     "data": {
      "text/html": [
       "<div>\n",
       "<style scoped>\n",
       "    .dataframe tbody tr th:only-of-type {\n",
       "        vertical-align: middle;\n",
       "    }\n",
       "\n",
       "    .dataframe tbody tr th {\n",
       "        vertical-align: top;\n",
       "    }\n",
       "\n",
       "    .dataframe thead th {\n",
       "        text-align: right;\n",
       "    }\n",
       "</style>\n",
       "<table border=\"1\" class=\"dataframe\">\n",
       "  <thead>\n",
       "    <tr style=\"text-align: right;\">\n",
       "      <th></th>\n",
       "      <th>SAT</th>\n",
       "      <th>GPA</th>\n",
       "      <th>Rand 1,2,3</th>\n",
       "    </tr>\n",
       "  </thead>\n",
       "  <tbody>\n",
       "    <tr>\n",
       "      <th>count</th>\n",
       "      <td>84.000000</td>\n",
       "      <td>84.000000</td>\n",
       "      <td>84.000000</td>\n",
       "    </tr>\n",
       "    <tr>\n",
       "      <th>mean</th>\n",
       "      <td>1845.273810</td>\n",
       "      <td>3.330238</td>\n",
       "      <td>2.059524</td>\n",
       "    </tr>\n",
       "    <tr>\n",
       "      <th>std</th>\n",
       "      <td>104.530661</td>\n",
       "      <td>0.271617</td>\n",
       "      <td>0.855192</td>\n",
       "    </tr>\n",
       "    <tr>\n",
       "      <th>min</th>\n",
       "      <td>1634.000000</td>\n",
       "      <td>2.400000</td>\n",
       "      <td>1.000000</td>\n",
       "    </tr>\n",
       "    <tr>\n",
       "      <th>25%</th>\n",
       "      <td>1772.000000</td>\n",
       "      <td>3.190000</td>\n",
       "      <td>1.000000</td>\n",
       "    </tr>\n",
       "    <tr>\n",
       "      <th>50%</th>\n",
       "      <td>1846.000000</td>\n",
       "      <td>3.380000</td>\n",
       "      <td>2.000000</td>\n",
       "    </tr>\n",
       "    <tr>\n",
       "      <th>75%</th>\n",
       "      <td>1934.000000</td>\n",
       "      <td>3.502500</td>\n",
       "      <td>3.000000</td>\n",
       "    </tr>\n",
       "    <tr>\n",
       "      <th>max</th>\n",
       "      <td>2050.000000</td>\n",
       "      <td>3.810000</td>\n",
       "      <td>3.000000</td>\n",
       "    </tr>\n",
       "  </tbody>\n",
       "</table>\n",
       "</div>"
      ],
      "text/plain": [
       "               SAT        GPA  Rand 1,2,3\n",
       "count    84.000000  84.000000   84.000000\n",
       "mean   1845.273810   3.330238    2.059524\n",
       "std     104.530661   0.271617    0.855192\n",
       "min    1634.000000   2.400000    1.000000\n",
       "25%    1772.000000   3.190000    1.000000\n",
       "50%    1846.000000   3.380000    2.000000\n",
       "75%    1934.000000   3.502500    3.000000\n",
       "max    2050.000000   3.810000    3.000000"
      ]
     },
     "execution_count": 96,
     "metadata": {},
     "output_type": "execute_result"
    }
   ],
   "source": [
    "data.describe()"
   ]
  },
  {
   "cell_type": "markdown",
   "id": "91f69308",
   "metadata": {},
   "source": [
    "# let's create the regression.\n",
    "##### 1st we must declare the dependent and independent variables"
   ]
  },
  {
   "cell_type": "code",
   "execution_count": 97,
   "id": "7410f752",
   "metadata": {},
   "outputs": [],
   "source": [
    "x = data[['SAT','Rand 1,2,3']]\n",
    "y = data['GPA']"
   ]
  },
  {
   "cell_type": "markdown",
   "id": "41b69163",
   "metadata": {},
   "source": [
    "## regession itself.\n",
    "regarding the syntax of linear regression there won't be any suprises, we start by declsring reg as an instance of the linear regression class "
   ]
  },
  {
   "cell_type": "code",
   "execution_count": 98,
   "id": "0dac83c7",
   "metadata": {},
   "outputs": [
    {
     "data": {
      "text/plain": [
       "LinearRegression()"
      ]
     },
     "execution_count": 98,
     "metadata": {},
     "output_type": "execute_result"
    }
   ],
   "source": [
    "reg2 = LinearRegression()\n",
    "reg.fit(x,y)"
   ]
  },
  {
   "cell_type": "markdown",
   "id": "8c752fac",
   "metadata": {},
   "source": [
    "### Notice that the code eecute without an error, without reshaping the data. Well just as we mentioned before sklearn is for multiple regression.\n",
    "\n",
    "### just with two lines of codes we're able to execute machine learning model. Now let's interptrete the result, to help us with that we'll display the coefficient and intercept of our model"
   ]
  },
  {
   "cell_type": "code",
   "execution_count": 99,
   "id": "cfcca351",
   "metadata": {},
   "outputs": [
    {
     "data": {
      "text/plain": [
       "array([ 0.00165354, -0.00826982])"
      ]
     },
     "execution_count": 99,
     "metadata": {},
     "output_type": "execute_result"
    }
   ],
   "source": [
    "reg.coef_"
   ]
  },
  {
   "cell_type": "markdown",
   "id": "5e91ceea",
   "metadata": {},
   "source": [
    "###### this displays the aray with the two elments, the coefficient of the SAT score and that of the Rand 1,2,3 variable. They are ordered in the way we fed them."
   ]
  },
  {
   "cell_type": "code",
   "execution_count": 100,
   "id": "2e2b55fc",
   "metadata": {},
   "outputs": [
    {
     "data": {
      "text/plain": [
       "0.29603261264909486"
      ]
     },
     "execution_count": 100,
     "metadata": {},
     "output_type": "execute_result"
    }
   ],
   "source": [
    "reg.intercept_"
   ]
  },
  {
   "cell_type": "markdown",
   "id": "26ca7001",
   "metadata": {},
   "source": [
    "by comparing this to the stats model summary we confirm that he packages yields an identical "
   ]
  },
  {
   "cell_type": "markdown",
   "id": "d7aae49f",
   "metadata": {},
   "source": [
    "## Adjusted R-squared($R^2$) for sklearn.\n",
    "the R-squared is one of the commonly used measures the goodness of fit. in other words The Rsquared is a universal measure to evaluate how linear regressions fare and compare.\n",
    "by the help of a intuitive method called scoree() we're good to go. Depending on the type of regression you're performing a regression score will have a different meanig. Types of score will come later on.\n",
    "What's convinient in this score is that it can be used both in simple and multi linear regression.\n",
    "What's inconvininent though is when you're working with sklearn we're comapre to much of different methods, in other to reach the amazing with stats model provides in the summary section. either way after we cover this section we'll have a solid knowledge allowng us to choose our prefered package.\n",
    "## let's find the Rsquared"
   ]
  },
  {
   "cell_type": "raw",
   "id": "65ef64a8",
   "metadata": {},
   "source": [
    "reg.score(x,y)"
   ]
  },
  {
   "cell_type": "code",
   "execution_count": null,
   "id": "744aeee6",
   "metadata": {},
   "outputs": [],
   "source": []
  }
 ],
 "metadata": {
  "kernelspec": {
   "display_name": "Python 3",
   "language": "python",
   "name": "python3"
  },
  "language_info": {
   "codemirror_mode": {
    "name": "ipython",
    "version": 3
   },
   "file_extension": ".py",
   "mimetype": "text/x-python",
   "name": "python",
   "nbconvert_exporter": "python",
   "pygments_lexer": "ipython3",
   "version": "3.8.8"
  }
 },
 "nbformat": 4,
 "nbformat_minor": 5
}
